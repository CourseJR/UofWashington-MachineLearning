{
 "cells": [
  {
   "cell_type": "markdown",
   "metadata": {},
   "source": [
    "# Regression Week 5: Feature Selection and LASSO (Interpretation)"
   ]
  },
  {
   "cell_type": "markdown",
   "metadata": {},
   "source": [
    "In this notebook, you will use LASSO to select features, building on a pre-implemented solver for LASSO (using GraphLab Create, though you can use other solvers). You will:\n",
    "* Run LASSO with different L1 penalties.\n",
    "* Choose best L1 penalty using a validation set.\n",
    "* Choose best L1 penalty using a validation set, with additional constraint on the size of subset.\n",
    "\n",
    "In the second notebook, you will implement your own LASSO solver, using coordinate descent. "
   ]
  },
  {
   "cell_type": "markdown",
   "metadata": {},
   "source": [
    "# Fire up graphlab create"
   ]
  },
  {
   "cell_type": "code",
   "execution_count": 75,
   "metadata": {
    "collapsed": false
   },
   "outputs": [
    {
     "name": "stdout",
     "output_type": "stream",
     "text": [
      "1.8.1\n"
     ]
    }
   ],
   "source": [
    "import pprint\n",
    "import numpy as np\n",
    "import pandas as pd\n",
    "import matplotlib.pyplot as plt\n",
    "%matplotlib inline\n",
    "import graphlab as gl\n",
    "print gl.version\n",
    "gl.canvas.set_target('ipynb')\n",
    "from sklearn import metrics"
   ]
  },
  {
   "cell_type": "markdown",
   "metadata": {},
   "source": [
    "# Load in house sales data\n",
    "\n",
    "Dataset is from house sales in King County, the region where the city of Seattle, WA is located."
   ]
  },
  {
   "cell_type": "code",
   "execution_count": 65,
   "metadata": {
    "collapsed": false,
    "scrolled": true
   },
   "outputs": [],
   "source": [
    "sales = gl.SFrame('data/kc_house_data.gl/')"
   ]
  },
  {
   "cell_type": "markdown",
   "metadata": {},
   "source": [
    "# Create new features"
   ]
  },
  {
   "cell_type": "markdown",
   "metadata": {},
   "source": [
    "As in Week 2, we consider features that are some transformations of inputs."
   ]
  },
  {
   "cell_type": "code",
   "execution_count": 66,
   "metadata": {
    "collapsed": true
   },
   "outputs": [],
   "source": [
    "from math import log, sqrt\n",
    "sales['sqft_living_sqrt'] = sales['sqft_living'].apply(sqrt)\n",
    "sales['sqft_lot_sqrt'] = sales['sqft_lot'].apply(sqrt)\n",
    "sales['bedrooms_square'] = sales['bedrooms']*sales['bedrooms']\n",
    "\n",
    "# In the dataset, 'floors' was defined with type string, \n",
    "# so we'll convert them to float, before creating a new feature.\n",
    "sales['floors'] = sales['floors'].astype(float) \n",
    "sales['floors_square'] = sales['floors']*sales['floors']"
   ]
  },
  {
   "cell_type": "markdown",
   "metadata": {},
   "source": [
    "* Squaring bedrooms will increase the separation between not many bedrooms (e.g. 1) and lots of bedrooms (e.g. 4) since 1^2 = 1 but 4^2 = 16. Consequently this variable will mostly affect houses with many bedrooms.\n",
    "* On the other hand, taking square root of sqft_living will decrease the separation between big house and small house. The owner may not be exactly twice as happy for getting a house that is twice as big."
   ]
  },
  {
   "cell_type": "markdown",
   "metadata": {},
   "source": [
    "# Learn regression weights with L1 penalty"
   ]
  },
  {
   "cell_type": "markdown",
   "metadata": {},
   "source": [
    "Let us fit a model with all the features available, plus the features we just created above."
   ]
  },
  {
   "cell_type": "code",
   "execution_count": 67,
   "metadata": {
    "collapsed": false
   },
   "outputs": [],
   "source": [
    "all_features = ['bedrooms', 'bedrooms_square',\n",
    "            'bathrooms',\n",
    "            'sqft_living', 'sqft_living_sqrt',\n",
    "            'sqft_lot', 'sqft_lot_sqrt',\n",
    "            'floors', 'floors_square',\n",
    "            'waterfront', 'view', 'condition', 'grade',\n",
    "            'sqft_above',\n",
    "            'sqft_basement',\n",
    "            'yr_built', 'yr_renovated']"
   ]
  },
  {
   "cell_type": "markdown",
   "metadata": {},
   "source": [
    "Applying L1 penalty requires adding an extra parameter (`l1_penalty`) to the linear regression call in GraphLab Create. (Other tools may have separate implementations of LASSO.)  Note that it's important to set `l2_penalty=0` to ensure we don't introduce an additional L2 penalty."
   ]
  },
  {
   "cell_type": "code",
   "execution_count": 69,
   "metadata": {
    "collapsed": false
   },
   "outputs": [
    {
     "name": "stdout",
     "output_type": "stream",
     "text": [
      "PROGRESS: Linear regression:\n",
      "PROGRESS: --------------------------------------------------------\n",
      "PROGRESS: Number of examples          : 21613\n",
      "PROGRESS: Number of features          : 17\n",
      "PROGRESS: Number of unpacked features : 17\n",
      "PROGRESS: Number of coefficients    : 18\n",
      "PROGRESS: Starting Accelerated Gradient (FISTA)\n",
      "PROGRESS: --------------------------------------------------------\n",
      "PROGRESS: +-----------+----------+-----------+--------------+--------------------+---------------+\n",
      "PROGRESS: | Iteration | Passes   | Step size | Elapsed Time | Training-max_error | Training-rmse |\n",
      "PROGRESS: +-----------+----------+-----------+--------------+--------------------+---------------+\n",
      "PROGRESS: Tuning step size. First iteration could take longer than subsequent iterations.\n",
      "PROGRESS: | 1         | 2        | 0.000002  | 0.959779     | 6962915.603493     | 426631.749026 |\n",
      "PROGRESS: | 2         | 3        | 0.000002  | 1.027698     | 6843144.200219     | 392488.929838 |\n",
      "PROGRESS: | 3         | 4        | 0.000002  | 1.104655     | 6831900.032123     | 385340.166783 |\n",
      "PROGRESS: | 4         | 5        | 0.000002  | 1.177547     | 6847166.848958     | 384842.383767 |\n",
      "PROGRESS: | 5         | 6        | 0.000002  | 1.248222     | 6869667.895833     | 385998.458623 |\n",
      "PROGRESS: | 6         | 7        | 0.000002  | 1.319545     | 6847177.773672     | 380824.455891 |\n",
      "PROGRESS: +-----------+----------+-----------+--------------+--------------------+---------------+\n",
      "PROGRESS: TERMINATED: Iteration limit reached.\n",
      "PROGRESS: This model may not be optimal. To improve it, consider increasing `max_iterations`.\n"
     ]
    }
   ],
   "source": [
    "model_all = gl.linear_regression.create(sales, \\\n",
    "                                target='price', features=all_features, \\\n",
    "                                              validation_set=None, \\\n",
    "                                            l2_penalty=0., l1_penalty=1e10)"
   ]
  },
  {
   "cell_type": "markdown",
   "metadata": {},
   "source": [
    "Find what features had non-zero weight."
   ]
  },
  {
   "cell_type": "code",
   "execution_count": 70,
   "metadata": {
    "collapsed": false
   },
   "outputs": [
    {
     "name": "stdout",
     "output_type": "stream",
     "text": [
      "+------------------+-------+---------------+--------+\n",
      "|       name       | index |     value     | stderr |\n",
      "+------------------+-------+---------------+--------+\n",
      "|   (intercept)    |  None |  274873.05595 |  None  |\n",
      "|    bathrooms     |  None | 8468.53108691 |  None  |\n",
      "|      grade       |  None | 842.068034898 |  None  |\n",
      "| sqft_living_sqrt |  None | 350.060553386 |  None  |\n",
      "|   sqft_living    |  None | 24.4207209824 |  None  |\n",
      "|    sqft_above    |  None | 20.0247224171 |  None  |\n",
      "|     sqft_lot     |  None |      0.0      |  None  |\n",
      "|  sqft_lot_sqrt   |  None |      0.0      |  None  |\n",
      "|      floors      |  None |      0.0      |  None  |\n",
      "|  floors_square   |  None |      0.0      |  None  |\n",
      "|    waterfront    |  None |      0.0      |  None  |\n",
      "|       view       |  None |      0.0      |  None  |\n",
      "|    condition     |  None |      0.0      |  None  |\n",
      "| bedrooms_square  |  None |      0.0      |  None  |\n",
      "|     bedrooms     |  None |      0.0      |  None  |\n",
      "|  sqft_basement   |  None |      0.0      |  None  |\n",
      "|     yr_built     |  None |      0.0      |  None  |\n",
      "|   yr_renovated   |  None |      0.0      |  None  |\n",
      "+------------------+-------+---------------+--------+\n",
      "[18 rows x 4 columns]\n",
      "\n",
      "None\n",
      "(12, 4)\n"
     ]
    }
   ],
   "source": [
    "print (model_all \\\n",
    "           .get(\"coefficients\") \\\n",
    "           .sort('value', ascending = False) \\\n",
    "           .print_rows(num_rows = len(all_features) + 1) \\\n",
    "      ) \n",
    "print (model_all \\\n",
    "           .get(\"coefficients\") \\\n",
    "           .sort('value', ascending = False) \\\n",
    "           .filter_by(0.0, 'value')\n",
    "           .shape \\\n",
    "      ) "
   ]
  },
  {
   "cell_type": "markdown",
   "metadata": {},
   "source": [
    "Note that a majority of the weights have been set to zero. So by setting an L1 penalty that's large enough, we are performing a subset selection. \n",
    "\n",
    "***QUIZ QUESTION***:\n",
    "According to this list of weights, which of the features have been chosen? "
   ]
  },
  {
   "cell_type": "markdown",
   "metadata": {},
   "source": [
    "# Selecting an L1 penalty"
   ]
  },
  {
   "cell_type": "markdown",
   "metadata": {},
   "source": [
    "To find a good L1 penalty, we will explore multiple values using a validation set. Let us do three way split into train, validation, and test sets:\n",
    "* Split our sales data into 2 sets: training and test\n",
    "* Further split our training data into two sets: train, validation\n",
    "\n",
    "Be *very* careful that you use seed = 1 to ensure you get the same answer!"
   ]
  },
  {
   "cell_type": "code",
   "execution_count": 71,
   "metadata": {
    "collapsed": true
   },
   "outputs": [],
   "source": [
    "(training_and_validation, testing) = sales.random_split(.9,seed=1) # initial train/test split\n",
    "(training, validation) = training_and_validation.random_split(0.5, seed=1) # split training into train and validate"
   ]
  },
  {
   "cell_type": "markdown",
   "metadata": {},
   "source": [
    "Next, we write a loop that does the following:\n",
    "* For `l1_penalty` in [10^1, 10^1.5, 10^2, 10^2.5, ..., 10^7] (to get this in Python, type `np.logspace(1, 7, num=13)`.)\n",
    "    * Fit a regression model with a given `l1_penalty` on TRAIN data. Specify `l1_penalty=l1_penalty` and `l2_penalty=0.` in the parameter list.\n",
    "    * Compute the RSS on VALIDATION data (here you will want to use `.predict()`) for that `l1_penalty`\n",
    "* Report which `l1_penalty` produced the lowest RSS on validation data.\n",
    "\n",
    "When you call `linear_regression.create()` make sure you set `validation_set = None`.\n",
    "\n",
    "Note: you can turn off the print out of `linear_regression.create()` with `verbose = False`"
   ]
  },
  {
   "cell_type": "code",
   "execution_count": 122,
   "metadata": {
    "collapsed": false
   },
   "outputs": [],
   "source": [
    "def fitMdlL1Penalty(l1PenaltyLst):\n",
    "    mdlDF = pd.DataFrame({'l1_penalty': l1PenaltyLst})\n",
    "    mdlDF = mdlDF.set_index(pd.Series( \\\n",
    "                ['%.4e' % (l1p) for l1p in mdlDF['l1_penalty']]))\n",
    "    mdlDF['mdl'] = gl.linear_regression.create(training, \\\n",
    "                                target = 'price', features=all_features, \\\n",
    "                                                        verbose = False)\n",
    "#     mdlDF['coeff.nnz'] = -1\n",
    "#     mdlDF['RSS.vld'] = -1\n",
    "\n",
    "    for l1pIx in xrange(mdlDF.shape[0]):\n",
    "        l1pIxRowLabel = mdlDF.index[l1pIx]\n",
    "        # print l1pIxRowLabel\n",
    "        print 'Fitting model with l1_penalty: %s:' % (l1pIxRowLabel)\n",
    "        mdl = gl.linear_regression.create(training, \\\n",
    "                                target='price', features=all_features, \\\n",
    "                                validation_set = None, verbose = False, \\\n",
    "                                            l2_penalty = 0., \\\n",
    "                        l1_penalty = mdlDF.ix[l1pIxRowLabel, 'l1_penalty'])\n",
    "        mdlDF.ix[l1pIxRowLabel, 'mdl'] = mdl\n",
    "        mdlDF.ix[l1pIxRowLabel, 'coeff.nnz'] = (mdl \\\n",
    "           .get(\"coefficients\")['value'] \\\n",
    "           .nnz()\n",
    "        )        \n",
    "        mdlDF.ix[l1pIxRowLabel, 'RSS.vld'] = \\\n",
    "            ((mdl.predict(validation) - validation['price']) ** 2).sum()\n",
    "\n",
    "    print mdlDF\n",
    "    pltResults(l1PenaltyLst)\n",
    "\n",
    "    return(mdlDF)"
   ]
  },
  {
   "cell_type": "code",
   "execution_count": 87,
   "metadata": {
    "collapsed": false
   },
   "outputs": [
    {
     "name": "stdout",
     "output_type": "stream",
     "text": [
      "Fitting model with l1_penalty: 1.0000e+01:\n",
      "Fitting model with l1_penalty: 3.1623e+01:\n",
      "Fitting model with l1_penalty: 1.0000e+02:\n",
      "Fitting model with l1_penalty: 3.1623e+02:\n",
      "Fitting model with l1_penalty: 1.0000e+03:\n",
      "Fitting model with l1_penalty: 3.1623e+03:\n",
      "Fitting model with l1_penalty: 1.0000e+04:\n",
      "Fitting model with l1_penalty: 3.1623e+04:\n",
      "Fitting model with l1_penalty: 1.0000e+05:\n",
      "Fitting model with l1_penalty: 3.1623e+05:\n",
      "Fitting model with l1_penalty: 1.0000e+06:\n",
      "Fitting model with l1_penalty: 3.1623e+06:\n",
      "Fitting model with l1_penalty: 1.0000e+07:\n",
      "                 l1_penalty  \\\n",
      "1.0000e+01        10.000000   \n",
      "3.1623e+01        31.622777   \n",
      "1.0000e+02       100.000000   \n",
      "3.1623e+02       316.227766   \n",
      "1.0000e+03      1000.000000   \n",
      "3.1623e+03      3162.277660   \n",
      "1.0000e+04     10000.000000   \n",
      "3.1623e+04     31622.776602   \n",
      "1.0000e+05    100000.000000   \n",
      "3.1623e+05    316227.766017   \n",
      "1.0000e+06   1000000.000000   \n",
      "3.1623e+06   3162277.660168   \n",
      "1.0000e+07  10000000.000000   \n",
      "\n",
      "                                                          mdl  coeff.nnz  \\\n",
      "1.0000e+01  Class                         : LinearRegressi...         18   \n",
      "3.1623e+01  Class                         : LinearRegressi...         18   \n",
      "1.0000e+02  Class                         : LinearRegressi...         18   \n",
      "3.1623e+02  Class                         : LinearRegressi...         18   \n",
      "1.0000e+03  Class                         : LinearRegressi...         18   \n",
      "3.1623e+03  Class                         : LinearRegressi...         18   \n",
      "1.0000e+04  Class                         : LinearRegressi...         18   \n",
      "3.1623e+04  Class                         : LinearRegressi...         18   \n",
      "1.0000e+05  Class                         : LinearRegressi...         18   \n",
      "3.1623e+05  Class                         : LinearRegressi...         18   \n",
      "1.0000e+06  Class                         : LinearRegressi...         18   \n",
      "3.1623e+06  Class                         : LinearRegressi...         18   \n",
      "1.0000e+07  Class                         : LinearRegressi...         18   \n",
      "\n",
      "                 RSS.vld  \n",
      "1.0000e+01  6.257663e+14  \n",
      "3.1623e+01  6.257663e+14  \n",
      "1.0000e+02  6.257663e+14  \n",
      "3.1623e+02  6.257663e+14  \n",
      "1.0000e+03  6.257663e+14  \n",
      "3.1623e+03  6.257663e+14  \n",
      "1.0000e+04  6.257664e+14  \n",
      "3.1623e+04  6.257666e+14  \n",
      "1.0000e+05  6.257673e+14  \n",
      "3.1623e+05  6.257695e+14  \n",
      "1.0000e+06  6.257765e+14  \n",
      "3.1623e+06  6.257991e+14  \n",
      "1.0000e+07  6.258837e+14  \n"
     ]
    },
    {
     "data": {
      "image/png": "[encoded data removed]",
      "text/plain": [
       "<matplotlib.figure.Figure at 0x113db4210>"
      ]
     },
     "metadata": {},
     "output_type": "display_data"
    },
    {
     "data": {
      "image/png": "[encoded data removed]",
      "text/plain": [
       "<matplotlib.figure.Figure at 0x113b37510>"
      ]
     },
     "metadata": {},
     "output_type": "display_data"
    }
   ],
   "source": [
    "l1_penalty_srch1 = fitMdlL1Penalty(np.logspace(1, 7, num = 13))"
   ]
  },
  {
   "cell_type": "markdown",
   "metadata": {},
   "source": [
    "*** QUIZ QUESTIONS ***\n",
    "1. What was the best value for the `l1_penalty`?\n",
    "2. What is the RSS on TEST data of the model with the best `l1_penalty`?"
   ]
  },
  {
   "cell_type": "code",
   "execution_count": 88,
   "metadata": {
    "collapsed": false
   },
   "outputs": [
    {
     "name": "stdout",
     "output_type": "stream",
     "text": [
      "l1_penalty                                                   10\n",
      "mdl           Class                         : LinearRegressi...\n",
      "coeff.nnz                                                    18\n",
      "RSS.vld                                             6.25766e+14\n",
      "Name: 1.0000e+01, dtype: object\n"
     ]
    }
   ],
   "source": [
    "print l1_penalty_srch1.ix[l1_penalty_srch1['RSS.vld'].argmin()]"
   ]
  },
  {
   "cell_type": "code",
   "execution_count": 89,
   "metadata": {
    "collapsed": false
   },
   "outputs": [
    {
     "name": "stdout",
     "output_type": "stream",
     "text": [
      "RSS.tst: 1.5698e+14\n"
     ]
    }
   ],
   "source": [
    "print 'RSS.tst: %0.4e' % \\\n",
    "    ((l1_penalty_srch1['mdl'][l1_penalty_srch1['RSS.vld'].argmin()].predict(testing) - \\\n",
    "      testing['price']) ** 2).sum()"
   ]
  },
  {
   "cell_type": "markdown",
   "metadata": {},
   "source": [
    "***QUIZ QUESTION***\n",
    "Also, using this value of L1 penalty, how many nonzero weights do you have?"
   ]
  },
  {
   "cell_type": "markdown",
   "metadata": {},
   "source": [
    "# Limit the number of nonzero weights\n",
    "\n",
    "What if we absolutely wanted to limit ourselves to, say, 7 features? This may be important if we want to derive \"a rule of thumb\" --- an interpretable model that has only a few features in them."
   ]
  },
  {
   "cell_type": "markdown",
   "metadata": {},
   "source": [
    "In this section, you are going to implement a simple, two phase procedure to achive this goal:\n",
    "1. Explore a large range of `l1_penalty` values to find a narrow region of `l1_penalty` values where models are likely to have the desired number of non-zero weights.\n",
    "2. Further explore the narrow region you found to find a good value for `l1_penalty` that achieves the desired sparsity.  Here, we will again use a validation set to choose the best value for `l1_penalty`."
   ]
  },
  {
   "cell_type": "code",
   "execution_count": 97,
   "metadata": {
    "collapsed": true
   },
   "outputs": [],
   "source": [
    "max_nonzeros = 7"
   ]
  },
  {
   "cell_type": "markdown",
   "metadata": {},
   "source": [
    "## Exploring the larger range of values to find a narrow range with the desired sparsity\n",
    "\n",
    "Let's define a wide range of possible `l1_penalty_values`:"
   ]
  },
  {
   "cell_type": "code",
   "execution_count": 91,
   "metadata": {
    "collapsed": false
   },
   "outputs": [],
   "source": [
    "l1_penalty_values = np.logspace(8, 10, num=20)"
   ]
  },
  {
   "cell_type": "markdown",
   "metadata": {},
   "source": [
    "Now, implement a loop that search through this space of possible `l1_penalty` values:\n",
    "\n",
    "* For `l1_penalty` in `np.logspace(8, 10, num=20)`:\n",
    "    * Fit a regression model with a given `l1_penalty` on TRAIN data. Specify `l1_penalty=l1_penalty` and `l2_penalty=0.` in the parameter list. When you call `linear_regression.create()` make sure you set `validation_set = None`\n",
    "    * Extract the weights of the model and count the number of nonzeros. Save the number of nonzeros to a list.\n",
    "        * *Hint: `model['coefficients']['value']` gives you an SArray with the parameters you learned.  If you call the method `.nnz()` on it, you will find the number of non-zero parameters!* "
   ]
  },
  {
   "cell_type": "code",
   "execution_count": 92,
   "metadata": {
    "collapsed": false
   },
   "outputs": [
    {
     "name": "stdout",
     "output_type": "stream",
     "text": [
      "Fitting model with l1_penalty: 1.0000e+08:\n",
      "Fitting model with l1_penalty: 1.2743e+08:\n",
      "Fitting model with l1_penalty: 1.6238e+08:\n",
      "Fitting model with l1_penalty: 2.0691e+08:\n",
      "Fitting model with l1_penalty: 2.6367e+08:\n",
      "Fitting model with l1_penalty: 3.3598e+08:\n",
      "Fitting model with l1_penalty: 4.2813e+08:\n",
      "Fitting model with l1_penalty: 5.4556e+08:\n",
      "Fitting model with l1_penalty: 6.9519e+08:\n",
      "Fitting model with l1_penalty: 8.8587e+08:\n",
      "Fitting model with l1_penalty: 1.1288e+09:\n",
      "Fitting model with l1_penalty: 1.4384e+09:\n",
      "Fitting model with l1_penalty: 1.8330e+09:\n",
      "Fitting model with l1_penalty: 2.3357e+09:\n",
      "Fitting model with l1_penalty: 2.9764e+09:\n",
      "Fitting model with l1_penalty: 3.7927e+09:\n",
      "Fitting model with l1_penalty: 4.8329e+09:\n",
      "Fitting model with l1_penalty: 6.1585e+09:\n",
      "Fitting model with l1_penalty: 7.8476e+09:\n",
      "Fitting model with l1_penalty: 1.0000e+10:\n",
      "              l1_penalty                                                mdl  \\\n",
      "1.0000e+08  1.000000e+08  Class                         : LinearRegressi...   \n",
      "1.2743e+08  1.274275e+08  Class                         : LinearRegressi...   \n",
      "1.6238e+08  1.623777e+08  Class                         : LinearRegressi...   \n",
      "2.0691e+08  2.069138e+08  Class                         : LinearRegressi...   \n",
      "2.6367e+08  2.636651e+08  Class                         : LinearRegressi...   \n",
      "3.3598e+08  3.359818e+08  Class                         : LinearRegressi...   \n",
      "4.2813e+08  4.281332e+08  Class                         : LinearRegressi...   \n",
      "5.4556e+08  5.455595e+08  Class                         : LinearRegressi...   \n",
      "6.9519e+08  6.951928e+08  Class                         : LinearRegressi...   \n",
      "8.8587e+08  8.858668e+08  Class                         : LinearRegressi...   \n",
      "1.1288e+09  1.128838e+09  Class                         : LinearRegressi...   \n",
      "1.4384e+09  1.438450e+09  Class                         : LinearRegressi...   \n",
      "1.8330e+09  1.832981e+09  Class                         : LinearRegressi...   \n",
      "2.3357e+09  2.335721e+09  Class                         : LinearRegressi...   \n",
      "2.9764e+09  2.976351e+09  Class                         : LinearRegressi...   \n",
      "3.7927e+09  3.792690e+09  Class                         : LinearRegressi...   \n",
      "4.8329e+09  4.832930e+09  Class                         : LinearRegressi...   \n",
      "6.1585e+09  6.158482e+09  Class                         : LinearRegressi...   \n",
      "7.8476e+09  7.847600e+09  Class                         : LinearRegressi...   \n",
      "1.0000e+10  1.000000e+10  Class                         : LinearRegressi...   \n",
      "\n",
      "            coeff.nnz       RSS.vld  \n",
      "1.0000e+08         18  6.274927e+14  \n",
      "1.2743e+08         18  6.282105e+14  \n",
      "1.6238e+08         18  6.291767e+14  \n",
      "2.0691e+08         18  6.306501e+14  \n",
      "2.6367e+08         17  6.329402e+14  \n",
      "3.3598e+08         17  6.362681e+14  \n",
      "4.2813e+08         17  6.412612e+14  \n",
      "5.4556e+08         17  6.489835e+14  \n",
      "6.9519e+08         17  6.609622e+14  \n",
      "8.8587e+08         16  6.772615e+14  \n",
      "1.1288e+09         15  7.010468e+14  \n",
      "1.4384e+09         15  7.378506e+14  \n",
      "1.8330e+09         13  7.961631e+14  \n",
      "2.3357e+09         12  8.690182e+14  \n",
      "2.9764e+09         10  9.669257e+14  \n",
      "3.7927e+09          6  1.081868e+15  \n",
      "4.8329e+09          5  1.244927e+15  \n",
      "6.1585e+09          3  1.384161e+15  \n",
      "7.8476e+09          1  1.230795e+15  \n",
      "1.0000e+10          1  1.229157e+15  \n"
     ]
    },
    {
     "data": {
      "image/png": "[encoded data removed]",
      "text/plain": [
       "<matplotlib.figure.Figure at 0x113deb110>"
      ]
     },
     "metadata": {},
     "output_type": "display_data"
    },
    {
     "data": {
      "image/png": "[encoded data removed]",
      "text/plain": [
       "<matplotlib.figure.Figure at 0x11396f110>"
      ]
     },
     "metadata": {},
     "output_type": "display_data"
    }
   ],
   "source": [
    "l1_penalty_srch2 = fitMdlL1Penalty(l1_penalty_values)"
   ]
  },
  {
   "cell_type": "code",
   "execution_count": 93,
   "metadata": {
    "collapsed": false
   },
   "outputs": [
    {
     "data": {
      "image/png": "[encoded data removed]",
      "text/plain": [
       "<matplotlib.figure.Figure at 0x113dcf890>"
      ]
     },
     "metadata": {},
     "output_type": "display_data"
    }
   ],
   "source": [
    "mdlDF = l1_penalty_srch2\n",
    "plt.figure()\n",
    "plt.plot(mdlDF['l1_penalty'], mdlDF['RSS.vld'],'-', \\\n",
    "             mdlDF['l1_penalty'][mdlDF['RSS.vld'].argmin()], \\\n",
    "                 mdlDF['RSS.vld'].min(),'rD')\n",
    "plt.title(\"RSS.vld\")\n",
    "plt.xscale('log')\n",
    "axes = plt.gca()\n",
    "axes.set_xlim([mdlDF['l1_penalty'][mdlDF['RSS.vld'].argmin()] / 10 ** 2, \\\n",
    "               mdlDF['l1_penalty'][mdlDF['RSS.vld'].argmin()] * 10 ** 2])\n",
    "axes.set_ylim([0, mdlDF['RSS.vld'].min() * 1.5])\n",
    "plt.show()\n",
    "    "
   ]
  },
  {
   "cell_type": "markdown",
   "metadata": {},
   "source": [
    "Out of this large range, we want to find the two ends of our desired narrow range of `l1_penalty`.  At one end, we will have `l1_penalty` values that have too few non-zeros, and at the other end, we will have an `l1_penalty` that has too many non-zeros.  \n",
    "\n",
    "More formally, find:\n",
    "* The largest `l1_penalty` that has more non-zeros than `max_nonzero` (if we pick a penalty smaller than this value, we will definitely have too many non-zero weights)\n",
    "    * Store this value in the variable `l1_penalty_min` (we will use it later)\n",
    "* The smallest `l1_penalty` that has fewer non-zeros than `max_nonzero` (if we pick a penalty larger than this value, we will definitely have too few non-zero weights)\n",
    "    * Store this value in the variable `l1_penalty_max` (we will use it later)\n",
    "\n",
    "\n",
    "*Hint: there are many ways to do this, e.g.:*\n",
    "* Programmatically within the loop above\n",
    "* Creating a list with the number of non-zeros for each value of `l1_penalty` and inspecting it to find the appropriate boundaries."
   ]
  },
  {
   "cell_type": "code",
   "execution_count": 100,
   "metadata": {
    "collapsed": false
   },
   "outputs": [
    {
     "name": "stdout",
     "output_type": "stream",
     "text": [
      "l1_penalty_min: 2.9764e+09\n",
      "              l1_penalty                                                mdl  \\\n",
      "2.9764e+09  2.976351e+09  Class                         : LinearRegressi...   \n",
      "\n",
      "            coeff.nnz       RSS.vld  \n",
      "2.9764e+09         10  9.669257e+14  \n",
      "l1_penalty_max: 3.7927e+09\n",
      "              l1_penalty                                                mdl  \\\n",
      "3.7927e+09  3.792690e+09  Class                         : LinearRegressi...   \n",
      "\n",
      "            coeff.nnz       RSS.vld  \n",
      "3.7927e+09          6  1.081868e+15  \n"
     ]
    }
   ],
   "source": [
    "l1_penalty_min = l1_penalty_srch2[ \\\n",
    "        l1_penalty_srch2['coeff.nnz'] > max_nonzeros]['l1_penalty'].max()\n",
    "print 'l1_penalty_min: %.04e' % (l1_penalty_min)\n",
    "print l1_penalty_srch2[l1_penalty_srch2['l1_penalty'] == l1_penalty_min]\n",
    "\n",
    "l1_penalty_max = l1_penalty_srch2[ \\\n",
    "        l1_penalty_srch2['coeff.nnz'] < max_nonzeros]['l1_penalty'].min()\n",
    "print 'l1_penalty_max: %.04e' % (l1_penalty_max)\n",
    "print l1_penalty_srch2[l1_penalty_srch2['l1_penalty'] == l1_penalty_max]"
   ]
  },
  {
   "cell_type": "markdown",
   "metadata": {},
   "source": [
    "***QUIZ QUESTIONS***\n",
    "\n",
    "What values did you find for `l1_penalty_min` and`l1_penalty_max`? "
   ]
  },
  {
   "cell_type": "code",
   "execution_count": 136,
   "metadata": {
    "collapsed": false
   },
   "outputs": [
    {
     "name": "stdout",
     "output_type": "stream",
     "text": [
      "l1_penalty_min:2976351441; l1_penalty_max:3792690190\n"
     ]
    }
   ],
   "source": [
    "print 'l1_penalty_min:%d; l1_penalty_max:%d' % \\\n",
    "    (l1_penalty_min, l1_penalty_max)"
   ]
  },
  {
   "cell_type": "markdown",
   "metadata": {},
   "source": [
    "## Exploring the narrow range of values to find the solution with the right number of non-zeros that has lowest RSS on the validation set \n",
    "\n",
    "We will now explore the narrow region of `l1_penalty` values we found:"
   ]
  },
  {
   "cell_type": "code",
   "execution_count": 101,
   "metadata": {
    "collapsed": true
   },
   "outputs": [],
   "source": [
    "l1_penalty_values = np.linspace(l1_penalty_min,l1_penalty_max,20)"
   ]
  },
  {
   "cell_type": "markdown",
   "metadata": {},
   "source": [
    "* For `l1_penalty` in `np.linspace(l1_penalty_min,l1_penalty_max,20)`:\n",
    "    * Fit a regression model with a given `l1_penalty` on TRAIN data. Specify `l1_penalty=l1_penalty` and `l2_penalty=0.` in the parameter list. When you call `linear_regression.create()` make sure you set `validation_set = None`\n",
    "    * Measure the RSS of the learned model on the VALIDATION set\n",
    "\n",
    "Find the model that the lowest RSS on the VALIDATION set and has sparsity *equal* to `max_nonzero`."
   ]
  },
  {
   "cell_type": "code",
   "execution_count": 102,
   "metadata": {
    "collapsed": false
   },
   "outputs": [
    {
     "name": "stdout",
     "output_type": "stream",
     "text": [
      "Fitting model with l1_penalty: 2.9764e+09:\n",
      "Fitting model with l1_penalty: 3.0193e+09:\n",
      "Fitting model with l1_penalty: 3.0623e+09:\n",
      "Fitting model with l1_penalty: 3.1052e+09:\n",
      "Fitting model with l1_penalty: 3.1482e+09:\n",
      "Fitting model with l1_penalty: 3.1912e+09:\n",
      "Fitting model with l1_penalty: 3.2341e+09:\n",
      "Fitting model with l1_penalty: 3.2771e+09:\n",
      "Fitting model with l1_penalty: 3.3201e+09:\n",
      "Fitting model with l1_penalty: 3.3630e+09:\n",
      "Fitting model with l1_penalty: 3.4060e+09:\n",
      "Fitting model with l1_penalty: 3.4490e+09:\n",
      "Fitting model with l1_penalty: 3.4919e+09:\n",
      "Fitting model with l1_penalty: 3.5349e+09:\n",
      "Fitting model with l1_penalty: 3.5779e+09:\n",
      "Fitting model with l1_penalty: 3.6208e+09:\n",
      "Fitting model with l1_penalty: 3.6638e+09:\n",
      "Fitting model with l1_penalty: 3.7068e+09:\n",
      "Fitting model with l1_penalty: 3.7497e+09:\n",
      "Fitting model with l1_penalty: 3.7927e+09:\n",
      "              l1_penalty                                                mdl  \\\n",
      "2.9764e+09  2.976351e+09  Class                         : LinearRegressi...   \n",
      "3.0193e+09  3.019317e+09  Class                         : LinearRegressi...   \n",
      "3.0623e+09  3.062282e+09  Class                         : LinearRegressi...   \n",
      "3.1052e+09  3.105247e+09  Class                         : LinearRegressi...   \n",
      "3.1482e+09  3.148212e+09  Class                         : LinearRegressi...   \n",
      "3.1912e+09  3.191177e+09  Class                         : LinearRegressi...   \n",
      "3.2341e+09  3.234143e+09  Class                         : LinearRegressi...   \n",
      "3.2771e+09  3.277108e+09  Class                         : LinearRegressi...   \n",
      "3.3201e+09  3.320073e+09  Class                         : LinearRegressi...   \n",
      "3.3630e+09  3.363038e+09  Class                         : LinearRegressi...   \n",
      "3.4060e+09  3.406003e+09  Class                         : LinearRegressi...   \n",
      "3.4490e+09  3.448969e+09  Class                         : LinearRegressi...   \n",
      "3.4919e+09  3.491934e+09  Class                         : LinearRegressi...   \n",
      "3.5349e+09  3.534899e+09  Class                         : LinearRegressi...   \n",
      "3.5779e+09  3.577864e+09  Class                         : LinearRegressi...   \n",
      "3.6208e+09  3.620829e+09  Class                         : LinearRegressi...   \n",
      "3.6638e+09  3.663795e+09  Class                         : LinearRegressi...   \n",
      "3.7068e+09  3.706760e+09  Class                         : LinearRegressi...   \n",
      "3.7497e+09  3.749725e+09  Class                         : LinearRegressi...   \n",
      "3.7927e+09  3.792690e+09  Class                         : LinearRegressi...   \n",
      "\n",
      "            coeff.nnz       RSS.vld  \n",
      "2.9764e+09         10  9.669257e+14  \n",
      "3.0193e+09         10  9.740195e+14  \n",
      "3.0623e+09         10  9.811884e+14  \n",
      "3.1052e+09         10  9.893283e+14  \n",
      "3.1482e+09         10  9.987832e+14  \n",
      "3.1912e+09         10  1.008477e+15  \n",
      "3.2341e+09         10  1.018299e+15  \n",
      "3.2771e+09         10  1.028248e+15  \n",
      "3.3201e+09          8  1.034617e+15  \n",
      "3.3630e+09          8  1.038555e+15  \n",
      "3.4060e+09          8  1.043237e+15  \n",
      "3.4490e+09          7  1.046937e+15  \n",
      "3.4919e+09          7  1.051148e+15  \n",
      "3.5349e+09          7  1.055993e+15  \n",
      "3.5779e+09          7  1.060800e+15  \n",
      "3.6208e+09          6  1.065708e+15  \n",
      "3.6638e+09          6  1.069464e+15  \n",
      "3.7068e+09          6  1.073505e+15  \n",
      "3.7497e+09          6  1.077633e+15  \n",
      "3.7927e+09          6  1.081868e+15  \n"
     ]
    },
    {
     "data": {
      "image/png": "[encoded data removed]",
      "text/plain": [
       "<matplotlib.figure.Figure at 0x113debb50>"
      ]
     },
     "metadata": {},
     "output_type": "display_data"
    },
    {
     "data": {
      "image/png": "[encoded data removed]",
      "text/plain": [
       "<matplotlib.figure.Figure at 0x113d9ef10>"
      ]
     },
     "metadata": {},
     "output_type": "display_data"
    }
   ],
   "source": [
    "l1_penalty_srch3 = fitMdlL1Penalty(l1_penalty_values)"
   ]
  },
  {
   "cell_type": "code",
   "execution_count": 121,
   "metadata": {
    "collapsed": false
   },
   "outputs": [
    {
     "data": {
      "image/png": "[encoded data removed]",
      "text/plain": [
       "<matplotlib.figure.Figure at 0x113900190>"
      ]
     },
     "metadata": {},
     "output_type": "display_data"
    }
   ],
   "source": [
    "def pltResults(mdlDF):\n",
    "    plt.figure()\n",
    "    lgndFeats = []\n",
    "    \n",
    "    ax = plt.gca()\n",
    "    lgndFeats.append(ax.plot(mdlDF['l1_penalty'], mdlDF['RSS.vld'], \\\n",
    "                             'bp-', label = \"RSS.vld\"))\n",
    "    ax.plot(mdlDF['l1_penalty'][mdlDF['RSS.vld'].argmin()], \\\n",
    "                     mdlDF['RSS.vld'].min(),'rD')    \n",
    "    ax.set_xlabel('l1_penalty')        \n",
    "    #ax.set_xlim([ \\\n",
    "    #        mdlDF['l1_penalty'][mdlDF['RSS.vld'].argmin()] / 10 ** 2, \\\n",
    "    #        mdlDF['l1_penalty'][mdlDF['RSS.vld'].argmin()] * 10 ** 2] \\\n",
    "    #             )\n",
    "    #ax.set_ylim([0, mdlDF['RSS.vld'].min() * 1.5])\n",
    "    \n",
    "    ax2 = ax.twinx()\n",
    "    lgndFeats.append(ax2.plot(mdlDF['l1_penalty'], mdlDF['coeff.nnz'], \\\n",
    "                              'gp-', label = \"coeff.nnz\"))\n",
    "    ax2.axhline(y = max_nonzeros, color = 'r')\n",
    "    \n",
    "    lgndFeatsSum = lgndFeats[0] + lgndFeats[1]\n",
    "    ax.legend(lgndFeatsSum, \\\n",
    "              [feat.get_label() for feat in lgndFeatsSum]\n",
    "             )\n",
    "    #plt.title(\"RSS.vld\")\n",
    "    #plt.xscale('log')    \n",
    "    plt.show()\n",
    "    \n",
    "pltResults(l1_penalty_srch3)\n"
   ]
  },
  {
   "cell_type": "code",
   "execution_count": 127,
   "metadata": {
    "collapsed": false
   },
   "outputs": [
    {
     "name": "stdout",
     "output_type": "stream",
     "text": [
      "              l1_penalty                                                mdl  \\\n",
      "3.4490e+09  3.448969e+09  Class                         : LinearRegressi...   \n",
      "3.4919e+09  3.491934e+09  Class                         : LinearRegressi...   \n",
      "3.5349e+09  3.534899e+09  Class                         : LinearRegressi...   \n",
      "3.5779e+09  3.577864e+09  Class                         : LinearRegressi...   \n",
      "\n",
      "            coeff.nnz       RSS.vld  \n",
      "3.4490e+09          7  1.046937e+15  \n",
      "3.4919e+09          7  1.051148e+15  \n",
      "3.5349e+09          7  1.055993e+15  \n",
      "3.5779e+09          7  1.060800e+15  \n",
      "              l1_penalty                                                mdl  \\\n",
      "3.4490e+09  3.448969e+09  Class                         : LinearRegressi...   \n",
      "\n",
      "            coeff.nnz       RSS.vld  \n",
      "3.4490e+09          7  1.046937e+15  \n"
     ]
    }
   ],
   "source": [
    "l1_penalty_srch3_select = \\\n",
    "    l1_penalty_srch3[l1_penalty_srch3['coeff.nnz'] == max_nonzeros]\n",
    "print l1_penalty_srch3_select\n",
    "l1_penalty_srch3_select = \\\n",
    "    l1_penalty_srch3_select[l1_penalty_srch3_select['RSS.vld'] == \\\n",
    "                            l1_penalty_srch3_select['RSS.vld'].min()]\n",
    "print l1_penalty_srch3_select"
   ]
  },
  {
   "cell_type": "markdown",
   "metadata": {},
   "source": [
    "***QUIZ QUESTIONS***\n",
    "1. What value of `l1_penalty` in our narrow range has the lowest RSS on the VALIDATION set and has sparsity *equal* to `max_nonzeros`?\n",
    "2. What features in this model have non-zero coefficients?"
   ]
  },
  {
   "cell_type": "code",
   "execution_count": 137,
   "metadata": {
    "collapsed": false
   },
   "outputs": [
    {
     "name": "stdout",
     "output_type": "stream",
     "text": [
      "3448968612\n"
     ]
    }
   ],
   "source": [
    "print '%d' % (l1_penalty_srch3_select['l1_penalty'])"
   ]
  },
  {
   "cell_type": "code",
   "execution_count": 133,
   "metadata": {
    "collapsed": false
   },
   "outputs": [
    {
     "name": "stdout",
     "output_type": "stream",
     "text": [
      "+------------------+-------+---------------+--------+\n",
      "|       name       | index |     value     | stderr |\n",
      "+------------------+-------+---------------+--------+\n",
      "|   (intercept)    |  None | 222253.192544 |  None  |\n",
      "|     bedrooms     |  None | 661.722717782 |  None  |\n",
      "| bedrooms_square  |  None |      0.0      |  None  |\n",
      "|    bathrooms     |  None | 15873.9572593 |  None  |\n",
      "|   sqft_living    |  None | 32.4102214513 |  None  |\n",
      "| sqft_living_sqrt |  None | 690.114773313 |  None  |\n",
      "|     sqft_lot     |  None |      0.0      |  None  |\n",
      "|  sqft_lot_sqrt   |  None |      0.0      |  None  |\n",
      "|      floors      |  None |      0.0      |  None  |\n",
      "|  floors_square   |  None |      0.0      |  None  |\n",
      "|    waterfront    |  None |      0.0      |  None  |\n",
      "|       view       |  None |      0.0      |  None  |\n",
      "|    condition     |  None |      0.0      |  None  |\n",
      "|      grade       |  None | 2899.42026975 |  None  |\n",
      "|    sqft_above    |  None | 30.0115753022 |  None  |\n",
      "|  sqft_basement   |  None |      0.0      |  None  |\n",
      "|     yr_built     |  None |      0.0      |  None  |\n",
      "|   yr_renovated   |  None |      0.0      |  None  |\n",
      "+------------------+-------+---------------+--------+\n",
      "[18 rows x 4 columns]\n",
      "\n"
     ]
    }
   ],
   "source": [
    "#print type(l1_penalty_srch3_select['mdl'][0])\n",
    "selMdlCoeffs = l1_penalty_srch3_select['mdl'][0].get(\"coefficients\")\n",
    "selMdlCoeffs.print_rows(num_rows = selMdlCoeffs.num_rows())"
   ]
  },
  {
   "cell_type": "code",
   "execution_count": 135,
   "metadata": {
    "collapsed": false
   },
   "outputs": [
    {
     "name": "stdout",
     "output_type": "stream",
     "text": [
      "min:2976351000; max:3792690000\n"
     ]
    }
   ],
   "source": [
    "print 'min:%d; max:%d' % (2.976351e+09, 3.792690e+09)"
   ]
  },
  {
   "cell_type": "code",
   "execution_count": null,
   "metadata": {
    "collapsed": true
   },
   "outputs": [],
   "source": []
  }
 ],
 "metadata": {
  "kernelspec": {
   "display_name": "Python 2",
   "language": "python",
   "name": "python2"
  },
  "language_info": {
   "codemirror_mode": {
    "name": "ipython",
    "version": 2
   },
   "file_extension": ".py",
   "mimetype": "text/x-python",
   "name": "python",
   "nbconvert_exporter": "python",
   "pygments_lexer": "ipython2",
   "version": "2.7.11"
  }
 },
 "nbformat": 4,
 "nbformat_minor": 0
}
