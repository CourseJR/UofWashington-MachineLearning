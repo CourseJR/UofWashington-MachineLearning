{
 "cells": [
  {
   "cell_type": "markdown",
   "metadata": {},
   "source": [
    "# Washington State:Kings County:Houses:SGD Test\n",
    "#### bdanalytics"
   ]
  },
  {
   "cell_type": "code",
   "execution_count": 166,
   "metadata": {
    "collapsed": false
   },
   "outputs": [
    {
     "name": "stdout",
     "output_type": "stream",
     "text": [
      "[1] \"(Tue) Feb 09, 2016\"\n"
     ]
    }
   ],
   "source": [
    "print(format(Sys.time(), \"(%a) %b %d, %Y\"))"
   ]
  },
  {
   "cell_type": "code",
   "execution_count": 167,
   "metadata": {
    "collapsed": false
   },
   "outputs": [],
   "source": [
    "require(doMC)\n",
    "glbCores <- 6 # of cores on machine - 2\n",
    "registerDoMC(glbCores)\n",
    "\n",
    "#require(Cairo)\n",
    "#require(dplyr)\n",
    "#require(ggplot2)\n",
    "#require(jpeg)\n",
    "#require(reshape2)\n",
    "source(\"~/Dropbox/datascience/R/mydsutils.R\")\n",
    "source(\"~/Dropbox/datascience/R/myplot.R\")"
   ]
  },
  {
   "cell_type": "markdown",
   "metadata": {},
   "source": [
    "## Analytics Specs"
   ]
  },
  {
   "cell_type": "code",
   "execution_count": 168,
   "metadata": {
    "collapsed": true
   },
   "outputs": [],
   "source": [
    "glbObsTrnFile <- list(name = \"kc_house_train_data.csv\")\n",
    "glbObsNewFile <- list(name = \"kc_house_test_data.csv\")\n",
    "glb_rsp_var_raw <- \"price\"\n",
    "glb_rsp_var <- glb_rsp_var_raw\n",
    "glbObsTrnPartitionSeed <- 123\n",
    "\n",
    "glbFeats <- c('sqft_living', 'sqft_living15')"
   ]
  },
  {
   "cell_type": "markdown",
   "metadata": {},
   "source": [
    "## Import Data"
   ]
  },
  {
   "cell_type": "code",
   "execution_count": 169,
   "metadata": {
    "collapsed": false
   },
   "outputs": [
    {
     "name": "stdout",
     "output_type": "stream",
     "text": [
      "[1] \"Reading file ./data/kc_house_train_data.csv...\"\n",
      "[1] \"dimensions of data in ./data/kc_house_train_data.csv: 17,384 rows x 21 cols\"\n",
      "          id            date   price bedrooms bathrooms sqft_living sqft_lot\n",
      "1 7129300520 20141013T000000  221900        3      1.00        1180     5650\n",
      "2 6414100192 20141209T000000  538000        3      2.25        2570     7242\n",
      "3 5631500400 20150225T000000  180000        2      1.00         770    10000\n",
      "4 2487200875 20141209T000000  604000        4      3.00        1960     5000\n",
      "5 1954400510 20150218T000000  510000        3      2.00        1680     8080\n",
      "6 7237550310 20140512T000000 1225000        4      4.50        5420   101930\n",
      "  floors waterfront view condition grade sqft_above sqft_basement yr_built\n",
      "1      1          0    0         3     7       1180             0     1955\n",
      "2      2          0    0         3     7       2170           400     1951\n",
      "3      1          0    0         3     6        770             0     1933\n",
      "4      1          0    0         5     7       1050           910     1965\n",
      "5      1          0    0         3     8       1680             0     1987\n",
      "6      1          0    0         3    11       3890          1530     2001\n",
      "  yr_renovated zipcode     lat     long sqft_living15 sqft_lot15\n",
      "1            0   98178 47.5112 -122.257          1340       5650\n",
      "2         1991   98125 47.7210 -122.319          1690       7639\n",
      "3            0   98028 47.7379 -122.233          2720       8062\n",
      "4            0   98136 47.5208 -122.393          1360       5000\n",
      "5            0   98074 47.6168 -122.045          1800       7503\n",
      "6            0   98053 47.6561 -122.005          4760     101930\n",
      "              id            date   price bedrooms bathrooms sqft_living\n",
      "489   1682500160 20140619T000000  210000        3      2.00        1440\n",
      "1497  4307350990 20150309T000000  320000        3      2.50        1590\n",
      "8924  3179100055 20141209T000000 1295000        5      3.50        3700\n",
      "9720  7129302685 20140911T000000  699000        3      2.00        2010\n",
      "11161 2482500040 20140717T000000  199900        5      1.75        1798\n",
      "16339 7299600130 20140702T000000  309780        3      2.50        2242\n",
      "      sqft_lot floors waterfront view condition grade sqft_above sqft_basement\n",
      "489       7210      1          0    0         3     8       1440             0\n",
      "1497      3480      2          0    0         3     7       1590             0\n",
      "8924      8504      2          0    0         3     8       2750           950\n",
      "9720      4320      2          0    2         3     9       2010             0\n",
      "11161    11232      1          0    0         3     7       1798             0\n",
      "16339     4500      2          0    0         3     8       2242             0\n",
      "      yr_built yr_renovated zipcode     lat     long sqft_living15 sqft_lot15\n",
      "489       1983            0   98092 47.3128 -122.184          1700       7245\n",
      "1497      2004            0   98056 47.4805 -122.178          1680       3480\n",
      "8924      1950         2014   98105 47.6690 -122.275          2370       6246\n",
      "9720      1999            0   98118 47.5153 -122.256          1640       5225\n",
      "11161     1967            0   98001 47.3266 -122.291          1300      15582\n",
      "16339     2014            0   98092 47.2583 -122.198          2009       4500\n",
      "              id            date   price bedrooms bathrooms sqft_living\n",
      "17379 9834201367 20150126T000000  429000        3      2.00        1490\n",
      "17380 7936000429 20150326T000000 1007500        4      3.50        3510\n",
      "17381 2997800021 20150219T000000  475000        3      2.50        1310\n",
      "17382  263000018 20140521T000000  360000        3      2.50        1530\n",
      "17383  291310100 20150116T000000  400000        3      2.50        1600\n",
      "17384 1523300157 20141015T000000  325000        2      0.75        1020\n",
      "      sqft_lot floors waterfront view condition grade sqft_above sqft_basement\n",
      "17379     1126      3          0    0         3     8       1490             0\n",
      "17380     7200      2          0    0         3     9       2600           910\n",
      "17381     1294      2          0    0         3     8       1180           130\n",
      "17382     1131      3          0    0         3     8       1530             0\n",
      "17383     2388      2          0    0         3     8       1600             0\n",
      "17384     1076      2          0    0         3     7       1020             0\n",
      "      yr_built yr_renovated zipcode     lat     long sqft_living15 sqft_lot15\n",
      "17379     2014            0   98144 47.5699 -122.288          1400       1230\n",
      "17380     2009            0   98136 47.5537 -122.398          2050       6200\n",
      "17381     2008            0   98116 47.5773 -122.409          1330       1265\n",
      "17382     2009            0   98103 47.6993 -122.346          1530       1509\n",
      "17383     2004            0   98027 47.5345 -122.069          1410       1287\n",
      "17384     2008            0   98144 47.5941 -122.299          1020       1357\n",
      "'data.frame':\t17384 obs. of  20 variables:\n",
      " $ id           : num  7.13e+09 6.41e+09 5.63e+09 2.49e+09 1.95e+09 ...\n",
      " $ date         : Factor w/ 368 levels \"20140502T000000\",..: 164 219 287 219 280 11 57 250 336 302 ...\n",
      " $ price        : num  221900 538000 180000 604000 510000 ...\n",
      " $ bedrooms     : int  3 3 2 4 3 4 3 3 3 3 ...\n",
      " $ bathrooms    : num  1 2.25 1 3 2 4.5 2.25 1.5 1 2.5 ...\n",
      " $ sqft_living  : int  1180 2570 770 1960 1680 5420 1715 1060 1780 1890 ...\n",
      " $ sqft_lot     : int  5650 7242 10000 5000 8080 101930 6819 9711 7470 6560 ...\n",
      " $ floors       : num  1 2 1 1 1 1 2 1 1 2 ...\n",
      " $ waterfront   : int  0 0 0 0 0 0 0 0 0 0 ...\n",
      " $ view         : int  0 0 0 0 0 0 0 0 0 0 ...\n",
      " $ condition    : int  3 3 3 5 3 3 3 3 3 3 ...\n",
      " $ grade        : int  7 7 6 7 8 11 7 7 7 7 ...\n",
      " $ sqft_above   : int  1180 2170 770 1050 1680 3890 1715 1060 1050 1890 ...\n",
      " $ sqft_basement: int  0 400 0 910 0 1530 0 0 730 0 ...\n",
      " $ yr_built     : int  1955 1951 1933 1965 1987 2001 1995 1963 1960 2003 ...\n",
      " $ yr_renovated : int  0 1991 0 0 0 0 0 0 0 0 ...\n",
      " $ zipcode      : int  98178 98125 98028 98136 98074 98053 98003 98198 98146 98038 ...\n",
      " $ lat          : num  47.5 47.7 47.7 47.5 47.6 ...\n",
      " $ long         : num  -122 -122 -122 -122 -122 ...\n",
      " $ sqft_living15: int  1340 1690 2720 1360 1800 4760 2238 1650 1780 2390 ...\n",
      "NULL\n",
      "'data.frame':\t17384 obs. of  21 variables:\n",
      " $ id           : num  7.13e+09 6.41e+09 5.63e+09 2.49e+09 1.95e+09 ...\n",
      " $ date         : Factor w/ 368 levels \"20140502T000000\",..: 164 219 287 219 280 11 57 250 336 302 ...\n",
      " $ price        : num  221900 538000 180000 604000 510000 ...\n",
      " $ bedrooms     : int  3 3 2 4 3 4 3 3 3 3 ...\n",
      " $ bathrooms    : num  1 2.25 1 3 2 4.5 2.25 1.5 1 2.5 ...\n",
      " $ sqft_living  : int  1180 2570 770 1960 1680 5420 1715 1060 1780 1890 ...\n",
      " $ sqft_lot     : int  5650 7242 10000 5000 8080 101930 6819 9711 7470 6560 ...\n",
      " $ floors       : num  1 2 1 1 1 1 2 1 1 2 ...\n",
      " $ waterfront   : int  0 0 0 0 0 0 0 0 0 0 ...\n",
      " $ view         : int  0 0 0 0 0 0 0 0 0 0 ...\n",
      " $ condition    : int  3 3 3 5 3 3 3 3 3 3 ...\n",
      " $ grade        : int  7 7 6 7 8 11 7 7 7 7 ...\n",
      " $ sqft_above   : int  1180 2170 770 1050 1680 3890 1715 1060 1050 1890 ...\n",
      " $ sqft_basement: int  0 400 0 910 0 1530 0 0 730 0 ...\n",
      " $ yr_built     : int  1955 1951 1933 1965 1987 2001 1995 1963 1960 2003 ...\n",
      " $ yr_renovated : int  0 1991 0 0 0 0 0 0 0 0 ...\n",
      " $ zipcode      : int  98178 98125 98028 98136 98074 98053 98003 98198 98146 98038 ...\n",
      " $ lat          : num  47.5 47.7 47.7 47.5 47.6 ...\n",
      " $ long         : num  -122 -122 -122 -122 -122 ...\n",
      " $ sqft_living15: int  1340 1690 2720 1360 1800 4760 2238 1650 1780 2390 ...\n",
      " $ sqft_lot15   : int  5650 7639 8062 5000 7503 101930 6819 9711 8113 7570 ...\n",
      "NULL\n"
     ]
    },
    {
     "name": "stderr",
     "output_type": "stream",
     "text": [
      "Warning message:\n",
      "In myprint_str_df(df): [list output truncated]"
     ]
    }
   ],
   "source": [
    "glbObsTrn <- myimport_data(specs = glbObsTrnFile, comment = \"glbObsTrn\", \n",
    "                           force_header = TRUE)"
   ]
  },
  {
   "cell_type": "code",
   "execution_count": 170,
   "metadata": {
    "collapsed": false
   },
   "outputs": [
    {
     "name": "stdout",
     "output_type": "stream",
     "text": [
      "[1] \"Reading file ./data/kc_house_test_data.csv...\"\n",
      "[1] \"dimensions of data in ./data/kc_house_test_data.csv: 4,229 rows x 21 cols\"\n",
      "          id            date  price bedrooms bathrooms sqft_living sqft_lot\n",
      "1  114101516 20140528T000000 310000        3       1.0        1430    19901\n",
      "2 9297300055 20150124T000000 650000        4       3.0        2950     5000\n",
      "3 1202000200 20141103T000000 233000        3       2.0        1710     4697\n",
      "4 8562750320 20141110T000000 580500        3       2.5        2320     3980\n",
      "5 7589200193 20141110T000000 535000        3       1.0        1090     3000\n",
      "6 2078500320 20140620T000000 605000        4       2.5        2620     7553\n",
      "  floors waterfront view condition grade sqft_above sqft_basement yr_built\n",
      "1    1.5          0    0         4     7       1430             0     1927\n",
      "2    2.0          0    3         3     9       1980           970     1979\n",
      "3    1.5          0    0         5     6       1710             0     1941\n",
      "4    2.0          0    0         3     8       2320             0     2003\n",
      "5    1.5          0    0         4     8       1090             0     1929\n",
      "6    2.0          0    0         3     8       2620             0     1996\n",
      "  yr_renovated zipcode     lat     long sqft_living15 sqft_lot15\n",
      "1            0   98028 47.7558 -122.229          1780      12697\n",
      "2            0   98126 47.5714 -122.375          2140       4000\n",
      "3            0   98002 47.3048 -122.218          1030       4705\n",
      "4            0   98027 47.5391 -122.070          2580       3980\n",
      "5            0   98117 47.6889 -122.375          1570       5080\n",
      "6            0   98056 47.5301 -122.180          2620      11884\n",
      "             id            date  price bedrooms bathrooms sqft_living sqft_lot\n",
      "1523  985001321 20141217T000000 291000        4      1.00        1590    24330\n",
      "2470 7202430150 20140709T000000 740000        4      2.50        3360    15091\n",
      "2544  222069029 20150219T000000 535000        2      1.75        1780   224769\n",
      "3514 9238900616 20140610T000000 680000        3      1.75        1760     8400\n",
      "3870 9492500140 20140712T000000 839950        4      2.75        3010     7200\n",
      "4203 3362401761 20150225T000000 450000        2      1.50        1020     1049\n",
      "     floors waterfront view condition grade sqft_above sqft_basement yr_built\n",
      "1523    1.5          0    0         3     6       1140           450     1942\n",
      "2470    2.0          0    0         3     9       3360             0     1997\n",
      "2544    1.0          0    0         4     8       1780             0     1976\n",
      "3514    1.0          0    0         4     8       1460           300     1960\n",
      "3870    2.0          0    0         3     9       3010             0     2014\n",
      "4203    3.0          0    0         3     8       1020             0     2008\n",
      "     yr_renovated zipcode     lat     long sqft_living15 sqft_lot15\n",
      "1523            0   98168 47.4906 -122.309          1000      16228\n",
      "2470            0   98052 47.6649 -122.135          1930       9936\n",
      "2544            0   98038 47.4158 -122.002          2060      71560\n",
      "3514            0   98136 47.5355 -122.390          1980       8400\n",
      "3870            0   98033 47.6948 -122.179          3010       7203\n",
      "4203            0   98103 47.6800 -122.348          1350       1395\n",
      "             id            date   price bedrooms bathrooms sqft_living sqft_lot\n",
      "4224 2025049203 20140610T000000  399950        2      1.00         710     1157\n",
      "4225 8672200110 20150317T000000 1088000        5      3.75        4170     8142\n",
      "4226 5087900040 20141017T000000  350000        4      2.75        2500     5995\n",
      "4227 3448900210 20141014T000000  610685        4      2.50        2520     6023\n",
      "4228 6600060120 20150223T000000  400000        4      2.50        2310     5813\n",
      "4229 1523300141 20140623T000000  402101        2      0.75        1020     1350\n",
      "     floors waterfront view condition grade sqft_above sqft_basement yr_built\n",
      "4224      2          0    0         4     7        710             0     1943\n",
      "4225      2          0    2         3    10       4170             0     2006\n",
      "4226      2          0    0         3     8       2500             0     2008\n",
      "4227      2          0    0         3     9       2520             0     2014\n",
      "4228      2          0    0         3     8       2310             0     2014\n",
      "4229      2          0    0         3     7       1020             0     2009\n",
      "     yr_renovated zipcode     lat     long sqft_living15 sqft_lot15\n",
      "4224            0   98102 47.6413 -122.329          1370       1173\n",
      "4225            0   98056 47.5354 -122.181          3030       7980\n",
      "4226            0   98042 47.3749 -122.107          2530       5988\n",
      "4227            0   98056 47.5137 -122.167          2520       6023\n",
      "4228            0   98146 47.5107 -122.362          1830       7200\n",
      "4229            0   98144 47.5944 -122.299          1020       2007\n",
      "'data.frame':\t4229 obs. of  20 variables:\n",
      " $ id           : num  1.14e+08 9.30e+09 1.20e+09 8.56e+09 7.59e+09 ...\n",
      " $ date         : Factor w/ 323 levels \"20140502T000000\",..: 25 229 166 171 171 47 93 101 110 37 ...\n",
      " $ price        : num  310000 650000 233000 580500 535000 ...\n",
      " $ bedrooms     : int  3 4 3 3 3 4 4 4 3 4 ...\n",
      " $ bathrooms    : num  1 3 2 2.5 1 2.5 2.25 2.5 1.75 2 ...\n",
      " $ sqft_living  : int  1430 2950 1710 2320 1090 2620 4220 2250 1260 2750 ...\n",
      " $ sqft_lot     : int  19901 5000 4697 3980 3000 7553 24186 4495 8400 7807 ...\n",
      " $ floors       : num  1.5 2 1.5 2 1.5 2 1 2 1 1.5 ...\n",
      " $ waterfront   : int  0 0 0 0 0 0 0 0 0 0 ...\n",
      " $ view         : int  0 3 0 0 0 0 0 0 0 0 ...\n",
      " $ condition    : int  4 3 5 3 4 3 3 3 3 5 ...\n",
      " $ grade        : int  7 9 6 8 8 8 8 7 7 7 ...\n",
      " $ sqft_above   : int  1430 1980 1710 2320 1090 2620 2600 2250 1260 2250 ...\n",
      " $ sqft_basement: int  0 970 0 0 0 0 1620 0 0 500 ...\n",
      " $ yr_built     : int  1927 1979 1941 2003 1929 1996 1984 2008 1954 1916 ...\n",
      " $ yr_renovated : int  0 0 0 0 0 0 0 0 0 0 ...\n",
      " $ zipcode      : int  98028 98126 98002 98027 98117 98056 98166 98042 98148 98125 ...\n",
      " $ lat          : num  47.8 47.6 47.3 47.5 47.7 ...\n",
      " $ long         : num  -122 -122 -122 -122 -122 ...\n",
      " $ sqft_living15: int  1780 2140 1030 2580 1570 2620 2410 2250 1290 1510 ...\n",
      "NULL\n",
      "'data.frame':\t4229 obs. of  21 variables:\n",
      " $ id           : num  1.14e+08 9.30e+09 1.20e+09 8.56e+09 7.59e+09 ...\n",
      " $ date         : Factor w/ 323 levels \"20140502T000000\",..: 25 229 166 171 171 47 93 101 110 37 ...\n",
      " $ price        : num  310000 650000 233000 580500 535000 ...\n",
      " $ bedrooms     : int  3 4 3 3 3 4 4 4 3 4 ...\n",
      " $ bathrooms    : num  1 3 2 2.5 1 2.5 2.25 2.5 1.75 2 ...\n",
      " $ sqft_living  : int  1430 2950 1710 2320 1090 2620 4220 2250 1260 2750 ...\n",
      " $ sqft_lot     : int  19901 5000 4697 3980 3000 7553 24186 4495 8400 7807 ...\n",
      " $ floors       : num  1.5 2 1.5 2 1.5 2 1 2 1 1.5 ...\n",
      " $ waterfront   : int  0 0 0 0 0 0 0 0 0 0 ...\n",
      " $ view         : int  0 3 0 0 0 0 0 0 0 0 ...\n",
      " $ condition    : int  4 3 5 3 4 3 3 3 3 5 ...\n",
      " $ grade        : int  7 9 6 8 8 8 8 7 7 7 ...\n",
      " $ sqft_above   : int  1430 1980 1710 2320 1090 2620 2600 2250 1260 2250 ...\n",
      " $ sqft_basement: int  0 970 0 0 0 0 1620 0 0 500 ...\n",
      " $ yr_built     : int  1927 1979 1941 2003 1929 1996 1984 2008 1954 1916 ...\n",
      " $ yr_renovated : int  0 0 0 0 0 0 0 0 0 0 ...\n",
      " $ zipcode      : int  98028 98126 98002 98027 98117 98056 98166 98042 98148 98125 ...\n",
      " $ lat          : num  47.8 47.6 47.3 47.5 47.7 ...\n",
      " $ long         : num  -122 -122 -122 -122 -122 ...\n",
      " $ sqft_living15: int  1780 2140 1030 2580 1570 2620 2410 2250 1290 1510 ...\n",
      " $ sqft_lot15   : int  12697 4000 4705 3980 5080 11884 30617 4500 8750 7807 ...\n",
      "NULL\n"
     ]
    },
    {
     "name": "stderr",
     "output_type": "stream",
     "text": [
      "Warning message:\n",
      "In myprint_str_df(df): [list output truncated]"
     ]
    }
   ],
   "source": [
    "glbObsNew <- myimport_data(specs = glbObsNewFile, comment = \"glbObsNew\", \n",
    "                           force_header = TRUE)"
   ]
  },
  {
   "cell_type": "markdown",
   "metadata": {},
   "source": [
    "## Partition data"
   ]
  },
  {
   "cell_type": "code",
   "execution_count": 191,
   "metadata": {
    "collapsed": false
   },
   "outputs": [
    {
     "name": "stdout",
     "output_type": "stream",
     "text": [
      "[1] \"Fit vs. OOB split ratio:0.7324\"\n",
      "[1] 4652\n",
      "[1] \"glbObsFit:\"\n",
      "[1] 12732    21\n",
      "[1] \"glbObsOOB:\"\n",
      "[1] 4652   21\n"
     ]
    }
   ],
   "source": [
    "set.seed(glbObsTrnPartitionSeed)\n",
    "OOB_size <- nrow(glbObsNew) * 1.1\n",
    "print(sprintf(\"Fit vs. OOB split ratio:%0.4f\", \n",
    "              1 - (OOB_size * 1.0 / nrow(glbObsTrn))))\n",
    "\n",
    "require(caTools)\n",
    "split <- sample.split(glbObsTrn[, glb_rsp_var_raw], SplitRatio = OOB_size)\n",
    "print(sum(split))\n",
    "glbObsOOB <- glbObsTrn[ split, ]            \n",
    "glbObsFit <- glbObsTrn[!split, ]\n",
    "print(sprintf(\"glbObsFit:\")); print(dim(glbObsFit))\n",
    "print(sprintf(\"glbObsOOB:\")); print(dim(glbObsOOB))"
   ]
  },
  {
   "cell_type": "code",
   "execution_count": 192,
   "metadata": {
    "collapsed": false
   },
   "outputs": [
    {
     "name": "stdout",
     "output_type": "stream",
     "text": [
      "[1] 4651.9\n",
      "[1] 0.2675966\n"
     ]
    }
   ],
   "source": [
    "print(OOB_size)\n",
    "print(OOB_size * 1.0 / nrow(glbObsTrn))"
   ]
  },
  {
   "cell_type": "markdown",
   "metadata": {},
   "source": [
    "## Fit models"
   ]
  },
  {
   "cell_type": "code",
   "execution_count": 193,
   "metadata": {
    "collapsed": false
   },
   "outputs": [
    {
     "name": "stdout",
     "output_type": "stream",
     "text": [
      "[1] \"weightsZero:\"\n",
      "[1] 0 0 0\n"
     ]
    }
   ],
   "source": [
    "weightsZero <- rep(0, 1 + length(feats))\n",
    "print(sprintf(\"weightsZero:\"))\n",
    "print(weightsZero)"
   ]
  },
  {
   "cell_type": "code",
   "execution_count": 194,
   "metadata": {
    "collapsed": false
   },
   "outputs": [],
   "source": [
    "#print(class(weightsZero))"
   ]
  },
  {
   "cell_type": "code",
   "execution_count": 195,
   "metadata": {
    "collapsed": false
   },
   "outputs": [
    {
     "name": "stdout",
     "output_type": "stream",
     "text": [
      "[1] 1181\n",
      "[1] 2571\n",
      "[1] 2370\n",
      "[1] 5150\n"
     ]
    }
   ],
   "source": [
    "predictOutput <- function(obsDf, feats, weights) {\n",
    "    featMtrx <- cbind(matrix(rep(1.0, nrow(obsDf)), nrow = nrow(obsDf)),\n",
    "                      as.matrix(obsDf[, feats]))\n",
    "    #print(class(featMtrx))\n",
    "    return(featMtrx %*% weights)\n",
    "}\n",
    "\n",
    "print(predictOutput(glbObsTrn, 'sqft_living', c(1.0, 1.0))[1]) # should be 1181.0\n",
    "print(predictOutput(glbObsTrn, 'sqft_living', c(1.0, 1.0))[2]) # should be 2571.0\n",
    "\n",
    "print(predictOutput(glbObsTrn, 'sqft_living', c(10.0, 2.0))[1]) # should be 2370.0\n",
    "print(predictOutput(glbObsTrn, 'sqft_living', c(10.0, 2.0))[2]) # should be 5150.0"
   ]
  },
  {
   "cell_type": "code",
   "execution_count": 224,
   "metadata": {
    "collapsed": false
   },
   "outputs": [
    {
     "name": "stdout",
     "output_type": "stream",
     "text": [
      "[1] -4.553289e+13\n",
      "[1] -4.553289e+13\n",
      "[1] \"\"\n",
      "[1] -18029479492\n",
      "[1] -18029479492\n"
     ]
    }
   ],
   "source": [
    "ridgeRegressionLossFn <- function(obsDf, feats, weights, l2Penalty) {\n",
    "    return(sum((predictOutput(obsDf, feats, weights) - obsDf[, glb_rsp_var]) \n",
    "               ^ 2) + \n",
    "           l2Penalty * sum(weights ^ 2)\n",
    "          )\n",
    "}\n",
    "\n",
    "ridgeRegressionLossGradientFn <- function(obsDf, feats, weights, l2Penalty, \n",
    "                                          featIx, isIntercept) {\n",
    "#     print(sprintf(\n",
    "#         \"ridgeRegressionLossGradientFn: nrow(obsDf):%d; l2Penalty:%0.4f; featIx:%d; isIntercept:%s\",\n",
    "#                       nrow(obsDf), l2Penalty, featIx, isIntercept))\n",
    "#     print(sprintf(\n",
    "#         \"ridgeRegressionLossGradientFn: weights:\"))\n",
    "#     print(weights)\n",
    "\n",
    "    if (!isIntercept) {\n",
    "        featX <- as.matrix(obsDf[, feats[featIx-1]])\n",
    "    } else featX <- matrix(rep(1, nrow(obsDf)), nrow = nrow(obsDf))\n",
    "    \n",
    "    gradient <- 2 * \n",
    "                sum((predictOutput(obsDf, feats, weights) - \n",
    "                     obsDf[, glb_rsp_var]) *\n",
    "                    featX)\n",
    "    if (!isIntercept)\n",
    "        gradient <- gradient + 2 * l2Penalty * weights[featIx]\n",
    "        \n",
    "#     print(sprintf(\n",
    "#         \"ridgeRegressionLossGradientFn: featIx:%d; gradient:%0.4e\",\n",
    "#                   featIx, gradient))\n",
    "    return(gradient)\n",
    "}\n",
    "\n",
    "example_weights = c(1.0, 10.0)\n",
    "example_predictions = predictOutput(glbObsTrn, 'sqft_living', example_weights)                \n",
    "example_errors = example_predictions - glbObsTrn[, glb_rsp_var]        \n",
    "\n",
    "# next two lines should print the same values\n",
    "print(sum(example_errors * glbObsTrn[, 'sqft_living'])*2+20)\n",
    "# print(example_errors[1:5])\n",
    "# print(glbObsTrn[1:5, 'sqft_living'])\n",
    "# print((example_errors * glbObsTrn[, 'sqft_living'])[1:5])\n",
    "print(ridgeRegressionLossGradientFn(glbObsTrn, 'sqft_living', \n",
    "                                    example_weights, \n",
    "                                    l2Penalty = 1, featIx = 2, FALSE))        \n",
    "        \n",
    "# next two lines should print the same values\n",
    "print('')\n",
    "print(sum(example_errors)*2)\n",
    "#print(example_errors[1:5])\n",
    "print(ridgeRegressionLossGradientFn(glbObsTrn, 'sqft_living', \n",
    "                                    example_weights, \n",
    "                                    l2Penalty = 1, featIx = 1, TRUE))                "
   ]
  },
  {
   "cell_type": "code",
   "execution_count": 228,
   "metadata": {
    "collapsed": false
   },
   "outputs": [],
   "source": [
    "optimizeGradientDescent <- function(obsDf, feats, weightsInitial, \n",
    "                                    stepSize, l2Penalty, \n",
    "                                    lossFn, lossGradientFn, \n",
    "                                    maxIterations = 100, verbose = FALSE) {\n",
    "    \n",
    "    print(\" \")\n",
    "    print(sprintf(\"optimzeGradientDescent:\")) \n",
    "    weights <- weightsInitial\n",
    "    loss <- lossFn(obsDf, feats, weights, l2Penalty)    \n",
    "    \n",
    "    #while not reached maximum number of iterations:\n",
    "    iterResults = data.frame(iterNum = 1:maxIterations)\n",
    "    for (iterNum in 1:maxIterations) {\n",
    "        if (verbose && \n",
    "            ((iterNum %% (maxIterations / 10) == 1) ||\n",
    "             (iterNum <=10)))\n",
    "            print(sprintf(\"  iteration: %d; loss:%0.4e\", iterNum, loss))\n",
    "            \n",
    "        # loop over each weight            \n",
    "        for (i in 1:length(weights)) {\n",
    "            # compute the derivative for weight[i].\n",
    "            #  when i=1, you are computing the derivative of the constant!\n",
    "            gradient <- \n",
    "                lossGradientFn(obsDf, feats, weights, l2Penalty, \n",
    "                               i, (i == 1))\n",
    "            \n",
    "            # subtract the stepSize times the gradient from the \n",
    "            #   current weight\n",
    "            weights[i] = weights[i] - stepSize * gradient\n",
    "        }    \n",
    "    \n",
    "        loss <- lossFn(obsDf, feats, weights, l2Penalty)\n",
    "        iterResults[iterNum, \"loss\"] <- loss   \n",
    "    }    \n",
    "\n",
    "    # Display results at end of iterations\n",
    "    #myprint_df(iterResults)\n",
    "    if (verbose)    \n",
    "        print(myplot_line(iterResults, \"iterNum\", \"loss\"))\n",
    "    return(weights)\n",
    "}"
   ]
  },
  {
   "cell_type": "code",
   "execution_count": 229,
   "metadata": {
    "collapsed": false
   },
   "outputs": [
    {
     "name": "stdout",
     "output_type": "stream",
     "text": [
      "[1] \" \"\n",
      "[1] \"optimzeGradientDescent:\"\n",
      "[1] \"  iteration: 1; loss:4.7742e+15\"\n",
      "[1] \"  iteration: 2; loss:3.1838e+15\"\n",
      "[1] \"  iteration: 3; loss:2.2142e+15\"\n",
      "[1] \"  iteration: 4; loss:1.6231e+15\"\n",
      "[1] \"  iteration: 5; loss:1.2626e+15\"\n",
      "[1] \"  iteration: 6; loss:1.0427e+15\"\n",
      "[1] \"  iteration: 7; loss:9.0862e+14\"\n",
      "[1] \"  iteration: 8; loss:8.2678e+14\"\n",
      "[1] \"  iteration: 9; loss:7.7681e+14\"\n",
      "[1] \"  iteration: 10; loss:7.4628e+14\"\n",
      "[1] \"  iteration: 11; loss:7.2761e+14\"\n",
      "[1] \"  iteration: 21; loss:6.9775e+14\"\n",
      "[1] \"  iteration: 31; loss:6.9677e+14\"\n",
      "[1] \"  iteration: 41; loss:6.9610e+14\"\n",
      "[1] \"  iteration: 51; loss:6.9548e+14\"\n",
      "[1] \"  iteration: 61; loss:6.9491e+14\"\n",
      "[1] \"  iteration: 71; loss:6.9440e+14\"\n",
      "[1] \"  iteration: 81; loss:6.9392e+14\"\n",
      "[1] \"  iteration: 91; loss:6.9348e+14\"\n",
      "[1] \"weightsL2Zero:\"\n",
      "[1]   0.04050541 162.70856430  99.68639470\n"
     ]
    },
    {
     "ename": "ERROR",
     "evalue": "Error in file(con, \"rb\"): cannot open the connection\n",
     "output_type": "error",
     "traceback": [
      "Error in file(con, \"rb\"): cannot open the connection\n"
     ]
    },
    {
     "data": {
      "image/png": "[encoded data removed]",
      "text/plain": [
       "plot without title"
      ]
     },
     "metadata": {
      "image/svg+xml": {
       "isolated": true
      }
     },
     "output_type": "display_data"
    }
   ],
   "source": [
    "stepSize <- 1e-12; l2Penalty <- 0.0; maxIterations = 100\n",
    "weightsL2Zero <- \n",
    "    optimizeGradientDescent(glbObsFit, glbFeats, weightsZero, \n",
    "                            stepSize, l2Penalty, \n",
    "                    ridgeRegressionLossFn, ridgeRegressionLossGradientFn, \n",
    "                            maxIterations, verbose = TRUE)\n",
    "print(sprintf('weightsL2Zero:')) \n",
    "print(weightsL2Zero)"
   ]
  },
  {
   "cell_type": "code",
   "execution_count": 230,
   "metadata": {
    "collapsed": false
   },
   "outputs": [
    {
     "name": "stdout",
     "output_type": "stream",
     "text": [
      "[1] \" \"\n",
      "[1] \"optimzeGradientDescent:\"\n",
      "[1] \"  iteration: 1; loss:4.7742e+15\"\n",
      "[1] \"  iteration: 2; loss:3.2007e+15\"\n",
      "[1] \"  iteration: 3; loss:2.2873e+15\"\n",
      "[1] \"  iteration: 4; loss:1.7570e+15\"\n",
      "[1] \"  iteration: 5; loss:1.4492e+15\"\n",
      "[1] \"  iteration: 6; loss:1.2705e+15\"\n",
      "[1] \"  iteration: 7; loss:1.1667e+15\"\n",
      "[1] \"  iteration: 8; loss:1.1065e+15\"\n",
      "[1] \"  iteration: 9; loss:1.0715e+15\"\n",
      "[1] \"  iteration: 10; loss:1.0512e+15\"\n",
      "[1] \"  iteration: 11; loss:1.0394e+15\"\n",
      "[1] \"  iteration: 21; loss:1.0232e+15\"\n",
      "[1] \"  iteration: 31; loss:1.0231e+15\"\n",
      "[1] \"  iteration: 41; loss:1.0231e+15\"\n",
      "[1] \"  iteration: 51; loss:1.0231e+15\"\n",
      "[1] \"  iteration: 61; loss:1.0231e+15\"\n",
      "[1] \"  iteration: 71; loss:1.0231e+15\"\n",
      "[1] \"  iteration: 81; loss:1.0231e+15\"\n",
      "[1] \"  iteration: 91; loss:1.0231e+15\"\n",
      "[1] \"weightsL2Hgh:\"\n",
      "[1]   0.1365188 135.8948979 106.8612538\n"
     ]
    },
    {
     "ename": "ERROR",
     "evalue": "Error in file(con, \"rb\"): cannot open the connection\n",
     "output_type": "error",
     "traceback": [
      "Error in file(con, \"rb\"): cannot open the connection\n"
     ]
    },
    {
     "data": {
      "image/png": "[encoded data removed]",
      "text/plain": [
       "plot without title"
      ]
     },
     "metadata": {
      "image/svg+xml": {
       "isolated": true
      }
     },
     "output_type": "display_data"
    }
   ],
   "source": [
    "stepSize <- 1e-12; l2Penalty <- 1e10; maxIterations = 100\n",
    "weightsL2Hgh <- \n",
    "    optimizeGradientDescent(glbObsFit, glbFeats, weightsZero, \n",
    "                            stepSize, l2Penalty, \n",
    "                    ridgeRegressionLossFn, ridgeRegressionLossGradientFn, \n",
    "                            maxIterations, verbose = TRUE)\n",
    "print(sprintf('weightsL2Hgh:')) \n",
    "print(weightsL2Hgh)"
   ]
  },
  {
   "cell_type": "markdown",
   "metadata": {},
   "source": [
    "### Find best model parameters"
   ]
  },
  {
   "cell_type": "code",
   "execution_count": null,
   "metadata": {
    "collapsed": true
   },
   "outputs": [],
   "source": [
    "maxIterations = 100\n",
    "stepSize <- 1e-12; l2Penalty <- 1e10; \n",
    "weightsL2Hgh <- \n",
    "    optimizeGradientDescent(glbObsFit, glbFeats, weightsZero, \n",
    "                            stepSize, l2Penalty, \n",
    "                    ridgeRegressionLossFn, ridgeRegressionLossGradientFn, \n",
    "                            maxIterations, verbose = TRUE)\n",
    "print(sprintf('weightsL2Hgh:')) \n",
    "print(weightsL2Hgh)"
   ]
  },
  {
   "cell_type": "markdown",
   "metadata": {},
   "source": [
    "## Predict New data"
   ]
  },
  {
   "cell_type": "code",
   "execution_count": 222,
   "metadata": {
    "collapsed": false
   },
   "outputs": [],
   "source": [
    "getObsNewRSS <- function(obsDf, feats, weights) {\n",
    "    return(sum((obsDf[, glb_rsp_var] - \n",
    "                predictOutput(obsDf, feats, weights)) ^ 2))\n",
    "}    "
   ]
  },
  {
   "cell_type": "code",
   "execution_count": 223,
   "metadata": {
    "collapsed": false
   },
   "outputs": [
    {
     "name": "stdout",
     "output_type": "stream",
     "text": [
      "[1] \" \"\n",
      "[1] \"weightsZero:\"\n",
      "[1] 0 0 0\n",
      "[1] \"  glbObsNew RSS: 1.7843e+15\"\n",
      "[1] \" \"\n",
      "[1] \"weightsL2Zero:\"\n",
      "[1]   0.04050541 162.70856430  99.68639470\n",
      "[1] \"  glbObsNew RSS: 2.8102e+14\"\n"
     ]
    }
   ],
   "source": [
    "print(\" \")\n",
    "print(sprintf(\"weightsZero:\")) \n",
    "print(weightsZero)\n",
    "print(sprintf(\"  glbObsNew RSS: %.4e\", \n",
    "              getObsNewRSS(glbObsNew, glbFeats, weightsZero)))\n",
    "\n",
    "print(\" \")\n",
    "print(sprintf('weightsL2Zero:')) \n",
    "print(weightsL2Zero)\n",
    "print(sprintf('  glbObsNew RSS: %.4e', \n",
    "              getObsNewRSS(glbObsNew, glbFeats, weightsL2Zero)))"
   ]
  },
  {
   "cell_type": "code",
   "execution_count": 181,
   "metadata": {
    "collapsed": false
   },
   "outputs": [
    {
     "name": "stdout",
     "output_type": "stream",
     "text": [
      "[1] \"glbObsNew Obs 1 price:310000.0000\"\n",
      "[1] \" \"\n"
     ]
    },
    {
     "ename": "ERROR",
     "evalue": "Error in predictOutput(glbObsNew[1, ], weightsZero): argument \"weights\" is missing, with no default\n",
     "output_type": "error",
     "traceback": [
      "Error in predictOutput(glbObsNew[1, ], weightsZero): argument \"weights\" is missing, with no default\n"
     ]
    },
    {
     "name": "stdout",
     "output_type": "stream",
     "text": [
      "[1] \" \"\n"
     ]
    },
    {
     "ename": "ERROR",
     "evalue": "Error in predictOutput(glbObsNew[1, ], weightsL2Zero): argument \"weights\" is missing, with no default\n",
     "output_type": "error",
     "traceback": [
      "Error in predictOutput(glbObsNew[1, ], weightsL2Zero): argument \"weights\" is missing, with no default\n"
     ]
    }
   ],
   "source": [
    "print(sprintf(\"glbObsNew Obs 1 %s:%0.4f\", \n",
    "              glb_rsp_var, glbObsNew[1, glb_rsp_var]))\n",
    "\n",
    "print(\" \")\n",
    "print(sprintf(\"  weightsZero   %s prediction:%0.4f; error.abs:%0.4f\", \n",
    "              glb_rsp_var, \n",
    "              prediction <- predictOutput(glbObsNew[1, ], weightsZero  ), \n",
    "              abs(prediction - glbObsNew[1, glb_rsp_var])))\n",
    "\n",
    "print(\" \")\n",
    "print(sprintf(\"  weightsL2Zero %s prediction:%0.4f; error.abs:%0.4f\", \n",
    "              glb_rsp_var, \n",
    "              prediction <- predictOutput(glbObsNew[1, ], weightsL2Zero), \n",
    "              abs(prediction - glbObsNew[1, glb_rsp_var])))"
   ]
  },
  {
   "cell_type": "code",
   "execution_count": 182,
   "metadata": {
    "collapsed": false
   },
   "outputs": [
    {
     "name": "stdout",
     "output_type": "stream",
     "text": [
      "R version 3.2.2 (2015-08-14)\n",
      "Platform: x86_64-apple-darwin15.0.0 (64-bit)\n",
      "Running under: OS X 10.11.3 (El Capitan)\n",
      "\n",
      "locale:\n",
      "[1] en_US.UTF-8/en_US.UTF-8/en_US.UTF-8/C/en_US.UTF-8/en_US.UTF-8\n",
      "\n",
      "attached base packages:\n",
      "[1] parallel  stats     graphics  grDevices utils     datasets  methods  \n",
      "[8] base     \n",
      "\n",
      "other attached packages:\n",
      "[1] caTools_1.17.1  doBy_4.5-14     survival_2.38-3 caret_6.0-64   \n",
      "[5] ggplot2_2.0.0   lattice_0.20-33 doMC_1.3.4      iterators_1.0.8\n",
      "[9] foreach_1.4.3  \n",
      "\n",
      "loaded via a namespace (and not attached):\n",
      " [1] Rcpp_0.12.3        nloptr_1.0.4       plyr_1.8.3         bitops_1.0-6      \n",
      " [5] base64enc_0.1-3    tools_3.2.2        digest_0.6.9       lme4_1.1-10       \n",
      " [9] uuid_0.1-2         jsonlite_0.9.19    evaluate_0.8       gtable_0.1.2      \n",
      "[13] nlme_3.1-124       mgcv_1.8-11        Matrix_1.2-3       IRdisplay_0.3     \n",
      "[17] IRkernel_0.5       SparseM_1.7        rzmq_0.7.7         repr_0.4          \n",
      "[21] stringr_1.0.0      MatrixModels_0.4-1 stats4_3.2.2       grid_3.2.2        \n",
      "[25] nnet_7.3-12        minqa_1.2.4        reshape2_1.4.1     car_2.1-1         \n",
      "[29] magrittr_1.5       scales_0.3.0       codetools_0.2-14   MASS_7.3-45       \n",
      "[33] splines_3.2.2      pbkrtest_0.4-4     colorspace_1.2-6   labeling_0.3      \n",
      "[37] quantreg_5.19      stringi_1.0-1      munsell_0.4.2     \n"
     ]
    }
   ],
   "source": [
    "print(sessionInfo())"
   ]
  },
  {
   "cell_type": "code",
   "execution_count": null,
   "metadata": {
    "collapsed": true
   },
   "outputs": [],
   "source": []
  },
  {
   "cell_type": "code",
   "execution_count": null,
   "metadata": {
    "collapsed": true
   },
   "outputs": [],
   "source": []
  }
 ],
 "metadata": {
  "kernelspec": {
   "display_name": "R",
   "language": "R",
   "name": "ir"
  },
  "language_info": {
   "codemirror_mode": "r",
   "file_extension": ".r",
   "mimetype": "text/x-r-source",
   "name": "R",
   "pygments_lexer": "r",
   "version": "3.2.2"
  }
 },
 "nbformat": 4,
 "nbformat_minor": 0
}
