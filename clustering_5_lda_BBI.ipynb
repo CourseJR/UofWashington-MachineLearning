{
 "cells": [
  {
   "cell_type": "markdown",
   "metadata": {},
   "source": [
    "# Latent Dirichlet Allocation for Text Data\n",
    "\n",
    "In this assignment you will\n",
    "\n",
    "* apply standard preprocessing techniques on Wikipedia text data\n",
    "* use GraphLab Create to fit a Latent Dirichlet allocation (LDA) model\n",
    "* explore and interpret the results, including topic keywords and topic assignments for documents\n",
    "\n",
    "Recall that a major feature distinguishing the LDA model from our previously explored methods is the notion of *mixed membership*. Throughout the course so far, our models have assumed that each data point belongs to a single cluster. k-means determines membership simply by shortest distance to the cluster center, and Gaussian mixture models suppose that each data point is drawn from one of their component mixture distributions. In many cases, though, it is more realistic to think of data as genuinely belonging to more than one cluster or category - for example, if we have a model for text data that includes both \"Politics\" and \"World News\" categories, then an article about a recent meeting of the United Nations should have membership in both categories rather than being forced into just one.\n",
    "\n",
    "With this in mind, we will use GraphLab Create tools to fit an LDA model to a corpus of Wikipedia articles and examine the results to analyze the impact of a mixed membership approach. In particular, we want to identify the topics discovered by the model in terms of their most important words, and we want to use the model to predict the topic membership distribution for a given document. "
   ]
  },
  {
   "cell_type": "markdown",
   "metadata": {},
   "source": [
    "**Note to Amazon EC2 users**: To conserve memory, make sure to stop all the other notebooks before running this notebook."
   ]
  },
  {
   "cell_type": "markdown",
   "metadata": {},
   "source": [
    "## Text Data Preprocessing\n",
    "We'll start by importing our familiar Wikipedia dataset.\n",
    "\n",
    "The following code block will check if you have the correct version of GraphLab Create. Any version later than 1.8.5 will do. To upgrade, read [this page](https://turi.com/download/upgrade-graphlab-create.html)."
   ]
  },
  {
   "cell_type": "code",
   "execution_count": 1,
   "metadata": {
    "collapsed": false
   },
   "outputs": [
    {
     "name": "stdout",
     "output_type": "stream",
     "text": [
      "gl.version: 2.0.1\n",
      "This non-commercial license of GraphLab Create is assigned to bbalaji8@gmail.com and will expire on December 09, 2016. For commercial licensing options, visit https://turi.com/buy/."
     ]
    },
    {
     "name": "stderr",
     "output_type": "stream",
     "text": [
      "[INFO] graphlab.cython.cy_server: GraphLab Create v2.0.1 started. Logging: /tmp/graphlab_server_1469198700.log\n",
      "INFO:graphlab.cython.cy_server:GraphLab Create v2.0.1 started. Logging: /tmp/graphlab_server_1469198700.log\n"
     ]
    },
    {
     "name": "stdout",
     "output_type": "stream",
     "text": [
      "\n",
      "scipy.version: 0.17.1\n"
     ]
    }
   ],
   "source": [
    "import graphlab as gl\n",
    "print('gl.version: %s' % (gl.version))\n",
    "gl.canvas.set_target('ipynb')\n",
    "'''Check GraphLab Create version'''\n",
    "from distutils.version import StrictVersion\n",
    "assert (StrictVersion(gl.version) >= StrictVersion('1.8.5')), \\\n",
    "    'GraphLab Create must be version 1.8.5 or later.'\n",
    "    \n",
    "import matplotlib.pyplot as plt \n",
    "%matplotlib inline\n",
    "\n",
    "import numpy as np\n",
    "\n",
    "from scipy import __version__ as scipy_version\n",
    "print \"scipy.version: %s\" % (scipy_version)\n",
    "# from scipy.sparse import csr_matrix\n",
    "from scipy.stats import multivariate_normal\n",
    "\n",
    "import sys\n",
    "import time   "
   ]
  },
  {
   "cell_type": "code",
   "execution_count": 2,
   "metadata": {
    "collapsed": false
   },
   "outputs": [
    {
     "data": {
      "text/html": [
       "<div style=\"max-height:1000px;max-width:1500px;overflow:auto;\"><table frame=\"box\" rules=\"cols\">\n",
       "    <tr>\n",
       "        <th style=\"padding-left: 1em; padding-right: 1em; text-align: center\">URI</th>\n",
       "        <th style=\"padding-left: 1em; padding-right: 1em; text-align: center\">name</th>\n",
       "        <th style=\"padding-left: 1em; padding-right: 1em; text-align: center\">text</th>\n",
       "    </tr>\n",
       "    <tr>\n",
       "        <td style=\"padding-left: 1em; padding-right: 1em; text-align: center; vertical-align: top\">&lt;http://dbpedia.org/resou<br>rce/Digby_Morrell&gt; ...</td>\n",
       "        <td style=\"padding-left: 1em; padding-right: 1em; text-align: center; vertical-align: top\">Digby Morrell</td>\n",
       "        <td style=\"padding-left: 1em; padding-right: 1em; text-align: center; vertical-align: top\">digby morrell born 10<br>october 1979 is a former ...</td>\n",
       "    </tr>\n",
       "    <tr>\n",
       "        <td style=\"padding-left: 1em; padding-right: 1em; text-align: center; vertical-align: top\">&lt;http://dbpedia.org/resou<br>rce/Alfred_J._Lewy&gt; ...</td>\n",
       "        <td style=\"padding-left: 1em; padding-right: 1em; text-align: center; vertical-align: top\">Alfred J. Lewy</td>\n",
       "        <td style=\"padding-left: 1em; padding-right: 1em; text-align: center; vertical-align: top\">alfred j lewy aka sandy<br>lewy graduated from ...</td>\n",
       "    </tr>\n",
       "    <tr>\n",
       "        <td style=\"padding-left: 1em; padding-right: 1em; text-align: center; vertical-align: top\">&lt;http://dbpedia.org/resou<br>rce/Harpdog_Brown&gt; ...</td>\n",
       "        <td style=\"padding-left: 1em; padding-right: 1em; text-align: center; vertical-align: top\">Harpdog Brown</td>\n",
       "        <td style=\"padding-left: 1em; padding-right: 1em; text-align: center; vertical-align: top\">harpdog brown is a singer<br>and harmonica player who ...</td>\n",
       "    </tr>\n",
       "    <tr>\n",
       "        <td style=\"padding-left: 1em; padding-right: 1em; text-align: center; vertical-align: top\">&lt;http://dbpedia.org/resou<br>rce/Franz_Rottensteiner&gt; ...</td>\n",
       "        <td style=\"padding-left: 1em; padding-right: 1em; text-align: center; vertical-align: top\">Franz Rottensteiner</td>\n",
       "        <td style=\"padding-left: 1em; padding-right: 1em; text-align: center; vertical-align: top\">franz rottensteiner born<br>in waidmannsfeld lower ...</td>\n",
       "    </tr>\n",
       "    <tr>\n",
       "        <td style=\"padding-left: 1em; padding-right: 1em; text-align: center; vertical-align: top\">&lt;http://dbpedia.org/resou<br>rce/G-Enka&gt; ...</td>\n",
       "        <td style=\"padding-left: 1em; padding-right: 1em; text-align: center; vertical-align: top\">G-Enka</td>\n",
       "        <td style=\"padding-left: 1em; padding-right: 1em; text-align: center; vertical-align: top\">henry krvits born 30<br>december 1974 in tallinn ...</td>\n",
       "    </tr>\n",
       "    <tr>\n",
       "        <td style=\"padding-left: 1em; padding-right: 1em; text-align: center; vertical-align: top\">&lt;http://dbpedia.org/resou<br>rce/Sam_Henderson&gt; ...</td>\n",
       "        <td style=\"padding-left: 1em; padding-right: 1em; text-align: center; vertical-align: top\">Sam Henderson</td>\n",
       "        <td style=\"padding-left: 1em; padding-right: 1em; text-align: center; vertical-align: top\">sam henderson born<br>october 18 1969 is an ...</td>\n",
       "    </tr>\n",
       "    <tr>\n",
       "        <td style=\"padding-left: 1em; padding-right: 1em; text-align: center; vertical-align: top\">&lt;http://dbpedia.org/resou<br>rce/Aaron_LaCrate&gt; ...</td>\n",
       "        <td style=\"padding-left: 1em; padding-right: 1em; text-align: center; vertical-align: top\">Aaron LaCrate</td>\n",
       "        <td style=\"padding-left: 1em; padding-right: 1em; text-align: center; vertical-align: top\">aaron lacrate is an<br>american music producer ...</td>\n",
       "    </tr>\n",
       "    <tr>\n",
       "        <td style=\"padding-left: 1em; padding-right: 1em; text-align: center; vertical-align: top\">&lt;http://dbpedia.org/resou<br>rce/Trevor_Ferguson&gt; ...</td>\n",
       "        <td style=\"padding-left: 1em; padding-right: 1em; text-align: center; vertical-align: top\">Trevor Ferguson</td>\n",
       "        <td style=\"padding-left: 1em; padding-right: 1em; text-align: center; vertical-align: top\">trevor ferguson aka john<br>farrow born 11 november ...</td>\n",
       "    </tr>\n",
       "    <tr>\n",
       "        <td style=\"padding-left: 1em; padding-right: 1em; text-align: center; vertical-align: top\">&lt;http://dbpedia.org/resou<br>rce/Grant_Nelson&gt; ...</td>\n",
       "        <td style=\"padding-left: 1em; padding-right: 1em; text-align: center; vertical-align: top\">Grant Nelson</td>\n",
       "        <td style=\"padding-left: 1em; padding-right: 1em; text-align: center; vertical-align: top\">grant nelson born 27<br>april 1971 in london  ...</td>\n",
       "    </tr>\n",
       "    <tr>\n",
       "        <td style=\"padding-left: 1em; padding-right: 1em; text-align: center; vertical-align: top\">&lt;http://dbpedia.org/resou<br>rce/Cathy_Caruth&gt; ...</td>\n",
       "        <td style=\"padding-left: 1em; padding-right: 1em; text-align: center; vertical-align: top\">Cathy Caruth</td>\n",
       "        <td style=\"padding-left: 1em; padding-right: 1em; text-align: center; vertical-align: top\">cathy caruth born 1955 is<br>frank h t rhodes ...</td>\n",
       "    </tr>\n",
       "</table>\n",
       "[59071 rows x 3 columns]<br/>Note: Only the head of the SFrame is printed.<br/>You can use print_rows(num_rows=m, num_columns=n) to print more rows and columns.\n",
       "</div>"
      ],
      "text/plain": [
       "Columns:\n",
       "\tURI\tstr\n",
       "\tname\tstr\n",
       "\ttext\tstr\n",
       "\n",
       "Rows: 59071\n",
       "\n",
       "Data:\n",
       "+-------------------------------+---------------------+\n",
       "|              URI              |         name        |\n",
       "+-------------------------------+---------------------+\n",
       "| <http://dbpedia.org/resour... |    Digby Morrell    |\n",
       "| <http://dbpedia.org/resour... |    Alfred J. Lewy   |\n",
       "| <http://dbpedia.org/resour... |    Harpdog Brown    |\n",
       "| <http://dbpedia.org/resour... | Franz Rottensteiner |\n",
       "| <http://dbpedia.org/resour... |        G-Enka       |\n",
       "| <http://dbpedia.org/resour... |    Sam Henderson    |\n",
       "| <http://dbpedia.org/resour... |    Aaron LaCrate    |\n",
       "| <http://dbpedia.org/resour... |   Trevor Ferguson   |\n",
       "| <http://dbpedia.org/resour... |     Grant Nelson    |\n",
       "| <http://dbpedia.org/resour... |     Cathy Caruth    |\n",
       "+-------------------------------+---------------------+\n",
       "+-------------------------------+\n",
       "|              text             |\n",
       "+-------------------------------+\n",
       "| digby morrell born 10 octo... |\n",
       "| alfred j lewy aka sandy le... |\n",
       "| harpdog brown is a singer ... |\n",
       "| franz rottensteiner born i... |\n",
       "| henry krvits born 30 decem... |\n",
       "| sam henderson born october... |\n",
       "| aaron lacrate is an americ... |\n",
       "| trevor ferguson aka john f... |\n",
       "| grant nelson born 27 april... |\n",
       "| cathy caruth born 1955 is ... |\n",
       "+-------------------------------+\n",
       "[59071 rows x 3 columns]\n",
       "Note: Only the head of the SFrame is printed.\n",
       "You can use print_rows(num_rows=m, num_columns=n) to print more rows and columns."
      ]
     },
     "execution_count": 2,
     "metadata": {},
     "output_type": "execute_result"
    }
   ],
   "source": [
    "# import wiki data\n",
    "wiki = gl.SFrame('data/people_wiki.gl/')\n",
    "wiki"
   ]
  },
  {
   "cell_type": "markdown",
   "metadata": {},
   "source": [
    "In the original data, each Wikipedia article is represented by a URI, a name, and a string containing the entire text of the article. Recall from the video lectures that LDA requires documents to be represented as a _bag of words_, which ignores word ordering in the document but retains information on how many times each word appears. As we have seen in our previous encounters with text data, words such as 'the', 'a', or 'and' are by far the most frequent, but they appear so commonly in the English language that they tell us almost nothing about how similar or dissimilar two documents might be. \n",
    "\n",
    "Therefore, before we train our LDA model, we will preprocess the Wikipedia data in two steps: first, we will create a bag of words representation for each article, and then we will remove the common words that don't help us to distinguish between documents. For both of these tasks we can use pre-implemented tools from GraphLab Create:"
   ]
  },
  {
   "cell_type": "code",
   "execution_count": 6,
   "metadata": {
    "collapsed": false
   },
   "outputs": [
    {
     "name": "stdout",
     "output_type": "stream",
     "text": [
      "type(wiki_docs): <class 'graphlab.data_structures.sarray.SArray'>\n",
      "[{'selection': 1, 'carltons': 1, 'being': 1, '2005': 1, 'coach': 2, 'its': 1, 'before': 2, '21': 1, 'northern': 1, 'bullants': 1, 'to': 5, 'perth': 1, 'sydney': 1, '2014': 1, 'has': 1, '2011': 1, '2013': 1, 'division': 1, 'his': 3, 'rules': 1, 'assistant': 1, 'spanned': 1, 'early': 1, 'game': 1, 'five': 1, 'during': 1, 'continued': 1, '44game': 1, 'kangaroos': 3, 'twice': 1, 'round': 1, 'the': 27, 'parade': 1, 'born': 1, 'clubs': 1, 'college': 1, 'blues': 1, 'for': 4, 'falcons': 1, 'currently': 1, 'hill': 1, 'drawn': 1, 'cause': 1, 'kicked': 1, 'exchange': 1, 'mckernan': 1, '19982000': 1, 'brisbaneafter': 1, 'losing': 1, 'essendon': 1, 'along': 1, 'teaches': 1, 'by': 1, 'box': 1, 'league': 4, 'career': 1, 'of': 4, 'against': 2, 'david': 1, 'melbourne': 1, 'digby': 1, 'games': 1, 'leading': 2, 'traded': 1, 'first': 1, 'goalkicker': 1, 'morrell': 5, 'corey': 1, 'acted': 1, 'football': 10, 'carlton': 2, 'from': 2, 'district': 1, 'west': 2, 'hawks': 1, 'draft': 1, 'coburg': 1, 'forward': 1, 'australian': 3, 'was': 5, 'until': 1, 'shifted': 1, 'club': 5, 'season': 3, 'vflaffiliate': 1, 'western': 1, 'with': 5, 'former': 1, 'he': 6, '10': 1, 'october': 1, '1979': 1, 'recruited': 1, 'victorian': 1, 'played': 3, '32': 1, 'following': 1, 'teague': 1, 'and': 4, 'footballer': 1, 'strathmore': 1, 'is': 1, 'premier': 1, 'delisted': 1, 'as': 2, 'australia': 1, 'at': 4, 'in': 13, 'education': 1, 'physical': 1, 'afl': 1, 'end': 2, 'since': 1, '2003': 1, 'retiring': 1, 'edflhe': 1, 'also': 1, 'other': 1, 'rookie': 1, 'play': 1, 'coached': 1, 'who': 1, '2008': 1, 'a': 4, 'vfl': 1, 'third': 1, 'age': 1, '2002': 1, 'premiership': 1, '2000': 1, '2001': 1, '2006': 1, '2007': 1, 'time': 1, 'senior': 3, '2009': 1, 'aflfrom': 1, 'playing': 2, 'goals': 1}, {'precise': 1, 'thomas': 1, 'closely': 1, 'disturbances': 1, 'wehr': 1, 'bright': 1, 'sleep': 2, 'nimh': 1, 'monitored': 1, 'disorders': 4, 'had': 1, 'day': 2, 'to': 3, 'chronobiologic': 1, 'treatment': 3, 'rhythm': 1, 'maryland': 1, 'has': 2, 'plasma': 1, 'colleague': 1, 'his': 1, 'assay': 1, 'pharmacology': 1, 'very': 1, 'capsule': 1, 'every': 1, 'they': 1, 'chicago': 1, 'sandy': 1, 'follows': 1, 'university': 2, 'l': 1, 'morning': 2, 'individuals': 1, 'each': 1, 'biological': 1, 'j': 1, 'mental': 1, 'national': 1, 'circadian': 3, 'laboratory': 1, '24hour': 1, 'depression': 1, 'after': 1, 'mood': 1, 'for': 2, '25hour': 1, 'pattern': 1, 'robert': 1, 'research': 2, 'current': 1, 'health': 2, 'cause': 2, 'publications': 1, 'available': 1, 'be': 3, 'full': 1, 'drifting': 1, 'focused': 1, 'graduated': 1, 'relying': 1, 'lag': 1, 'on': 3, 'rhythms': 1, 'jet': 1, 'institute': 1, 'shift': 1, 'prior': 1, 'aka': 1, 'studies': 1, 'blind': 1, 'lewy': 3, 'modalities': 1, 'phasedelay': 1, 'sack': 1, 'precisely': 1, 'he': 4, 'from': 1, 'working': 1, '1981': 1, 'their': 1, 'describes': 1, 'alfred': 1, 'december': 1, 'was': 1, 'phaseadvance': 1, 'that': 1, 'secretion': 1, 'oregon': 3, 'worked': 1, 'with': 2, '94': 1, 'must': 1, 'md': 1, 'include': 1, 'hour': 1, 'developing': 1, 'these': 2, 'science': 1, 'work': 1, 'evening': 2, 'pubmed': 1, 'can': 2, 'of': 7, 'my': 1, 'and': 10, 'scheduled': 1, 'defined': 1, 'certain': 2, 'is': 2, 'an': 2, 'as': 3, 'hormone': 1, 'at': 3, 'have': 1, 'in': 4, 'melatonin': 5, 'vicechair': 1, 'clearly': 1, 'winter': 1, 'studying': 1, 'holds': 1, 'administration': 3, 'shifts': 2, 'take': 1, 'bethesda': 1, 'department': 1, 'unless': 1, 'maladaptation': 1, 'ohsu': 1, 'time': 1, 'phd': 1, 'moving': 1, 'assessed': 1, 'totally': 1, 'the': 2, 'types': 1, 'exposure': 3, 'a': 6, 'light': 3, 'professor': 1, 'later': 1, '1973': 1, 'ophthalmology': 1, '2005': 1, 'psychiatry': 2, 'senior': 1}, {'just': 1, 'issued': 1, 'mainly': 1, 'nominated': 1, 'years': 1, 'leads': 1, 'tours': 1, 'teamed': 1, 'cds': 1, 'harmonica': 2, 'gutsy': 1, 'voted': 1, '2014': 2, 'piano': 1, 'has': 2, 'thousands': 1, '2010': 1, 'brown': 2, 'his': 3, 'to': 1, 'big': 1, 'band': 3, 'hamilton': 1, 'they': 1, 'association': 1, 'northwestern': 1, 'performing': 1, 'comprising': 1, 'arthur': 1, 'broadcaster': 1, 'either': 1, 'release': 1, 'where': 1, 'few': 2, 'honored': 1, 'society': 1, 'year': 1, 'home': 2, 'portland': 1, 'best': 4, 'harp': 1, 'album': 1, 'what': 2, 'for': 4, 'chicago': 2, 'since': 1, 'extensively': 1, 'won': 1, 'tens': 1, 'hailing': 1, 'full': 1, 'canadian': 2, 'small': 1, 'active': 1, 'from': 2, 'by': 1, 'on': 1, 'dates': 1, 'holger': 1, 'influential': 1, 'many': 1, 'or': 1, 'blind': 1, 'canadas': 1, 'scene': 1, 'venues': 1, 'cd': 1, 'germanyover': 1, 'festivals': 1, 'maple': 1, '1982': 1, 'guest': 1, 'working': 1, 'duo': 1, 'muddy': 1, 'been': 1, 'awarded': 1, 'harpdog': 2, 'their': 1, 'was': 4, 'naturally': 1, 'juggles': 1, 'life': 1, 'that': 1, 'club': 1, 'oregon': 1, 'released': 1, 'with': 4, 'he': 5, 'toronto': 1, 'combos': 1, '1995': 1, 'j': 1, 'up': 1, 'promoter': 1, 'edmonds': 1, 'recording': 1, 'while': 1, 'crossed': 1, 'of': 3, 'petersen': 1, 'called': 1, 'and': 7, 'seven': 1, 'classic': 1, 'is': 7, 'it': 3, 'covers': 1, 'states': 1, 'player': 2, 'as': 2, 'in': 7, 'graham': 1, 'blues': 9, 'mid1950s': 1, 'united': 1, 'lemon': 1, 'guitarist': 1, 'who': 1, '1': 1, 'also': 1, 'vancouver': 1, 'which': 1, 'browns': 1, 'nw': 1, 'canada': 2, 'electric': 1, 'juno': 1, 'albumhe': 1, 'membership': 1, 'award': 2, 'a': 7, 'singer': 1, 'miles': 1, 'bluesgospel': 1, 'well': 1, 'surveybrown': 1, 'original': 1, 'traditional': 1, 'cascade': 1, 'time': 1, 'the': 12, 'playing': 1, 'songs': 1}, {'all': 1, 'bauforschung': 1, 'just': 1, 'kurdlawitzpreis': 1, 'german': 2, 'years': 3, 'illustrated': 1, 'through': 1, 'served': 1, 'austrian': 1, 'yet': 1, 'lower': 1, 'hundredth': 1, 'merkur': 1, '1942': 1, 'producing': 1, 'dick': 2, '28': 1, 'to': 3, 'praised': 1, 'factor': 1, 'stanisaw': 1, 'apek': 1, 'silverberg': 1, 'trnaslations': 1, 'jeanpierre': 1, 'klein': 1, 'was': 3, 'translations': 1, 'matters': 1, 'ones': 1, 'wellss': 1, 'negative': 1, 'olaf': 1, 'fifty': 1, 'him': 1, 'association': 1, 'produced': 2, 'heinlein': 1, 'h': 1, 'university': 1, 'journalism': 1, 'herbert': 1, 'book': 2, 'history': 1, '18': 1, 'including': 1, 'works': 3, 'zelazny': 1, 'view': 1, 'reference': 1, 'describedroger': 1, 'series': 1, 'some': 3, 'rottensteiner': 3, 'born': 1, 'books': 2, 'are': 1, 'die': 1, 'phantastische': 1, 'close': 1, 'recognition': 1, 'phantastischen': 1, 'fiction': 7, 'what': 1, 'abe': 1, 'for': 2, 'strugatski': 1, 'robert': 1, 'since': 1, 'nonwriter': 1, 'critical': 1, 'stapledon': 1, 'new': 2, 'receiving': 1, 'numerous': 1, 'public': 1, 'achievements': 1, 'edited': 1, 'comparable': 1, 'romane': 1, 'sterreichisches': 1, 'journal': 2, 'republished': 1, 'lem': 4, 'however': 1, 'betterknown': 1, 'york': 1, 'advisor': 1, 'franz': 1, 'from': 2, 'philip': 2, 'fifteen': 1, 'science': 6, 'on': 4, 'about': 2, '1980': 1, 'language': 1, 'asimov': 1, 'of': 20, 'k': 2, 'publisher': 1, 'controversy': 1, 'american': 1, 'und': 1, 'w': 2, 'leading': 2, 'promotion': 1, 'introduced': 1, 'or': 1, 'fields': 1, 'franke': 1, 'smith': 1, 'into': 1, 'number': 3, 'one': 1, 'karel': 1, 'fantasy': 1, 'austria': 2, 'kobo': 1, 'another': 1, 'bibliothek': 1, 'aldiss': 1, 'total': 1, 'institut': 1, 'working': 1, 'quarber': 1, 'addition': 1, 'barry': 1, 'there': 1, 'two': 1, 'been': 1, 'awarded': 1, 'continental': 1, 'start': 1, 'andersonare': 1, 'editor': 2, 'hundred': 1, 'assessment': 1, 'until': 1, 'vienna': 2, 'seriesrottensteiner': 1, 'both': 1, 'listing': 1, 'andrevonthe': 1, 'authors': 3, 'fantasticrottensteiner': 1, 'highest': 1, 'with': 3, 'hg': 1, 'he': 6, 'has': 3, '1995': 1, 'g': 1, 'this': 1, '1998': 1, 'work': 1, 'critic': 1, 'us': 1, 'n': 1, 'lesser': 1, 'suhrkamp': 1, 'eighteen': 1, 'travesties': 1, 'three': 1, 'doctorate': 1, 'verlags': 1, 'and': 13, 'nesvadba': 1, 'seven': 1, 'studied': 1, 'figure': 1, 'stated': 1, '1973': 1, 'is': 3, 'year': 1, 'it': 1, 'brothersin': 1, 'an': 2, 'as': 7, 'his': 5, 'at': 2, 'banal': 1, '19791985': 1, 'saw': 1, 'united': 1, '1969': 1, 'anthology': 1, 'january': 1, 'latter': 1, 'european': 1, 'waidmannsfeld': 1, '1963': 1, 'anthologies': 1, 'brian': 1, 'writers': 2, 'special': 1, 'which': 1, 'provoked': 1, 'out': 2, 'stanislaw': 2, 'malzberg': 1, 'statesrottensteiner': 1, 'fr': 1, '2004': 1, 'gerard': 1, 'josef': 1, 'wells': 1, 'produce': 1, 'librarian': 1, 'a': 7, 'englishreading': 1, 'in': 12, 'cordwainer': 1, '1978': 1, 'ending': 1, '1975': 2, 'well': 2, 'brought': 2, 'shore': 1, 'greatest': 1, 'volumes': 2, 'english': 1, 'occasion': 1, 'the': 22, 'sf': 2, 'typical': 1}, {'they': 1, 'gangstergenka': 1, 'legendaarne': 3, 'oja': 2, 'paul': 2, 'group': 1, '23': 1, 'had': 1, 'better': 1, 'real': 1, 'his': 3, 'hit': 1, 'big': 1, 'leegion': 1, 'band': 1, 'legendary': 1, 'during': 1, 'went': 1, '1996': 1, 'rapper': 1, 'joined': 1, '1998': 1, 'rapped': 1, 'back': 1, '50': 1, 'born': 1, 'second': 1, 'palm': 1, 'year': 2, 'schoolmate': 1, 'album': 6, 'genkas': 1, 'estonian': 3, 'for': 2, 'tallinn': 3, 'new': 1, 'bankruptcy': 1, 'europe': 1, 'solo': 1, 'rapping': 1, 'homophobes': 1, 'were': 3, 'genka': 5, 'studio': 1, 'along': 2, 'by': 1, 'on': 2, 'of': 1, '30': 1, 'tour': 2, 'arhm': 3, 'first': 1, 'own': 2, 'armchair': 1, 'tugitooli': 1, 'producergenka': 1, 'another': 1, 'droopy': 1, 'dj': 2, 'from': 2, 'famous': 3, 'vacation': 1, 'cent': 1, 'next': 1, 'their': 4, 'was': 4, 'toe': 4, 'started': 5, 'company': 1, 'henry': 1, 'released': 3, 'kuhnja': 1, 'known': 1, 'with': 2, 'pankrot': 1, 'warmup': 1, 'performers': 1, 'this': 1, '18': 1, 'gangster': 1, 'record': 2, 'island': 1, 'making': 1, 'called': 1, 'and': 10, 'december': 1, 'is': 1, 'an': 1, 'tag': 4, 'palmisaar': 1, 'rap': 1, 'in': 7, 'curtis': 1, 'revo': 2, 'same': 1, 'also': 2, 'which': 3, 'promo': 1, 'who': 1, 'most': 3, 'a': 2, 'stagename': 1, 'records': 1, '1974': 1, 'together': 2, '2001': 1, '2006': 1, '2007': 1, '2004': 1, 'the': 8, 'consisted': 1, 'krvits': 1, 'came': 1, 'songs': 5}]\n"
     ]
    }
   ],
   "source": [
    "wiki_docs = gl.text_analytics.count_words(wiki['text'])\n",
    "# wiki_docs = wiki_docs.dict_trim_by_keys(gl.text_analytics.stopwords(), exclude=True)\n",
    "\n",
    "print \"type(wiki_docs): %s\" % (type(wiki_docs))\n",
    "print wiki_docs[:5]"
   ]
  },
  {
   "cell_type": "code",
   "execution_count": 7,
   "metadata": {
    "collapsed": false
   },
   "outputs": [
    {
     "name": "stdout",
     "output_type": "stream",
     "text": [
      "type(wiki_docs): <class 'graphlab.data_structures.sarray.SArray'>\n",
      "[{'coach': 2, 'carltons': 1, 'selection': 1, '21': 1, 'northern': 1, 'bullants': 1, 'perth': 1, 'sydney': 1, '2014': 1, '2011': 1, '2013': 1, 'division': 1, 'australia': 1, 'rules': 1, 'assistant': 1, 'spanned': 1, 'early': 1, 'game': 1, 'continued': 1, '44game': 1, 'round': 1, 'parade': 1, 'born': 1, 'clubs': 1, 'college': 1, 'blues': 1, 'falcons': 1, 'hill': 1, 'drawn': 1, 'kangaroos': 3, 'kicked': 1, 'exchange': 1, 'mckernan': 1, '19982000': 1, 'losing': 1, 'essendon': 1, 'teaches': 1, 'box': 1, 'league': 4, 'career': 1, '32': 1, 'david': 1, 'melbourne': 1, 'digby': 1, 'games': 1, 'leading': 2, 'traded': 1, 'goalkicker': 1, 'morrell': 5, 'acted': 1, 'football': 10, 'carlton': 2, 'district': 1, 'west': 2, 'hawks': 1, 'draft': 1, 'coburg': 1, 'forward': 1, 'australian': 3, 'recruited': 1, 'shifted': 1, 'club': 5, 'season': 3, 'vflaffiliate': 1, 'goals': 1, '10': 1, 'october': 1, 'footballer': 1, 'victorian': 1, 'played': 3, 'teague': 1, 'strathmore': 1, 'premier': 1, 'delisted': 1, 'brisbaneafter': 1, 'education': 1, 'physical': 1, 'afl': 1, 'end': 2, '2003': 1, 'retiring': 1, 'edflhe': 1, 'corey': 1, 'rookie': 1, 'play': 1, 'coached': 1, '2005': 1, '2008': 1, 'vfl': 1, '1979': 1, 'age': 1, '2002': 1, 'premiership': 1, '2000': 1, '2001': 1, '2006': 1, '2007': 1, 'time': 1, 'senior': 3, '2009': 1, 'aflfrom': 1, 'playing': 2, 'western': 1}, {'precise': 1, 'thomas': 1, 'disturbances': 1, 'wehr': 1, 'bright': 1, 'sleep': 2, 'nimh': 1, 'monitored': 1, 'disorders': 4, 'chronobiologic': 1, 'treatment': 3, 'rhythm': 1, 'maryland': 1, 'include': 1, 'plasma': 1, 'colleague': 1, 'hormone': 1, 'assay': 1, 'pharmacology': 1, 'capsule': 1, 'closely': 1, 'day': 2, 'university': 2, 'morning': 2, 'individuals': 1, 'biological': 1, 'mental': 1, 'national': 1, 'circadian': 3, 'laboratory': 1, '24hour': 1, 'depression': 1, 'mood': 1, '25hour': 1, 'pattern': 1, 'robert': 1, 'research': 2, 'current': 1, 'health': 2, 'full': 1, 'drifting': 1, 'focused': 1, 'graduated': 1, 'relying': 1, 'rhythms': 1, 'jet': 1, 'institute': 1, 'shift': 1, 'prior': 1, 'aka': 1, 'studies': 1, 'blind': 1, 'lewy': 3, 'modalities': 1, 'phasedelay': 1, 'sack': 1, 'precisely': 1, 'working': 1, '1981': 1, 'describes': 1, 'alfred': 1, 'secretion': 1, 'exposure': 3, 'phaseadvance': 1, 'oregon': 3, 'worked': 1, '94': 1, 'md': 1, 'hour': 1, 'developing': 1, 'science': 1, 'work': 1, 'evening': 2, 'publications': 1, 'scheduled': 1, 'defined': 1, 'december': 1, 'pubmed': 1, 'melatonin': 5, 'vicechair': 1, 'winter': 1, 'studying': 1, 'holds': 1, 'administration': 3, 'shifts': 2, 'sandy': 1, 'bethesda': 1, 'department': 1, 'time': 1, 'maladaptation': 1, 'lag': 1, 'phd': 1, 'moving': 1, 'assessed': 1, 'totally': 1, 'types': 1, 'ohsu': 1, 'light': 3, 'professor': 1, 'chicago': 1, '1973': 1, 'ophthalmology': 1, '2005': 1, 'psychiatry': 2, 'senior': 1}, {'issued': 1, 'nominated': 1, 'years': 1, 'leads': 1, 'tours': 1, 'teamed': 1, 'cds': 1, 'broadcaster': 1, 'harmonica': 2, 'gutsy': 1, 'voted': 1, '2014': 2, 'piano': 1, 'thousands': 1, '2010': 1, 'brown': 2, 'big': 1, 'band': 3, 'hamilton': 1, 'association': 1, 'northwestern': 1, 'performing': 1, 'comprising': 1, 'arthur': 1, 'miles': 1, 'release': 1, 'honored': 1, 'society': 1, 'year': 1, 'home': 2, 'portland': 1, 'harp': 1, 'album': 1, 'chicago': 2, 'extensively': 1, 'won': 1, 'tens': 1, 'hailing': 1, 'full': 1, 'small': 1, 'active': 1, 'dates': 1, 'canadian': 2, 'influential': 1, 'blind': 1, 'canadas': 1, 'scene': 1, 'venues': 1, 'cd': 1, 'germanyover': 1, 'festivals': 1, 'maple': 1, '1982': 1, 'guest': 1, 'working': 1, 'duo': 1, 'muddy': 1, 'awarded': 1, 'harpdog': 2, 'naturally': 1, 'juggles': 1, 'life': 1, 'club': 1, 'award': 2, 'released': 1, 'toronto': 1, 'combos': 1, '1995': 1, 'holger': 1, 'promoter': 1, 'edmonds': 1, 'recording': 1, 'crossed': 1, 'petersen': 1, 'called': 1, 'classic': 1, 'covers': 1, 'states': 1, 'player': 2, 'graham': 1, 'blues': 9, 'mid1950s': 1, 'united': 1, 'lemon': 1, 'guitarist': 1, '1': 1, 'vancouver': 1, 'browns': 1, 'nw': 1, 'canada': 2, 'electric': 1, 'juno': 1, 'time': 1, 'membership': 1, 'oregon': 1, 'singer': 1, 'bluesgospel': 1, 'surveybrown': 1, 'original': 1, 'traditional': 1, 'cascade': 1, 'albumhe': 1, 'playing': 1, 'songs': 1}, {'bauforschung': 1, 'kurdlawitzpreis': 1, 'german': 2, 'years': 3, 'illustrated': 1, 'including': 1, 'austrian': 1, 'hundredth': 1, 'merkur': 1, '1942': 1, 'dick': 2, '28': 1, 'lower': 1, 'praised': 1, 'factor': 1, 'stanisaw': 1, 'apek': 1, 'silverberg': 1, 'trnaslations': 1, 'jeanpierre': 1, 'klein': 1, 'translations': 1, 'matters': 1, 'wellss': 1, 'olaf': 1, 'fifty': 1, 'association': 1, 'produced': 2, 'heinlein': 1, 'january': 1, 'university': 1, 'journalism': 1, 'herbert': 1, 'history': 1, '18': 1, 'served': 1, 'statesrottensteiner': 1, 'zelazny': 1, 'view': 1, 'reference': 1, 'describedroger': 1, 'series': 1, 'rottensteiner': 3, 'born': 1, 'books': 2, 'die': 1, 'phantastische': 1, 'close': 1, 'recognition': 1, 'phantastischen': 1, 'fiction': 7, 'abe': 1, 'cordwainer': 1, 'strugatski': 1, 'robert': 1, 'nonwriter': 1, 'critical': 1, 'stapledon': 1, 'receiving': 1, 'numerous': 1, 'public': 1, 'achievements': 1, 'edited': 1, 'comparable': 1, 'romane': 1, 'journal': 2, 'republished': 1, 'lem': 4, 'betterknown': 1, 'york': 1, 'advisor': 1, 'franz': 1, 'philip': 2, 'fifteen': 1, 'science': 6, 'publisher': 1, 'works': 3, '1980': 1, 'language': 1, 'asimov': 1, 'studied': 1, 'controversy': 1, 'american': 1, 'und': 1, 'leading': 2, 'promotion': 1, 'introduced': 1, 'book': 2, 'fields': 1, 'franke': 1, 'smith': 1, 'number': 3, 'karel': 1, 'fantasy': 1, 'austria': 2, 'kobo': 1, 'bibliothek': 1, 'aldiss': 1, 'total': 1, 'institut': 1, 'working': 1, 'quarber': 1, 'addition': 1, 'barry': 1, 'negative': 1, 'awarded': 1, 'continental': 1, 'start': 1, 'andersonare': 1, 'editor': 2, 'hundred': 1, 'assessment': 1, 'vienna': 2, 'seriesrottensteiner': 1, 'listing': 1, 'andrevonthe': 1, 'authors': 3, 'fantasticrottensteiner': 1, 'highest': 1, 'producing': 1, 'hg': 1, '1995': 1, '1998': 1, 'work': 1, 'lesser': 1, 'suhrkamp': 1, 'travesties': 1, 'doctorate': 1, 'verlags': 1, 'nesvadba': 1, 'sterreichisches': 1, 'figure': 1, 'stated': 1, 'year': 1, 'brothersin': 1, 'critic': 1, 'eighteen': 1, 'banal': 1, '19791985': 1, 'united': 1, '1969': 1, 'anthology': 1, 'waidmannsfeld': 1, '1963': 1, 'anthologies': 1, 'brian': 1, 'writers': 2, 'special': 1, 'provoked': 1, 'stanislaw': 2, 'malzberg': 1, 'european': 1, 'fr': 1, '2004': 1, 'gerard': 1, 'josef': 1, 'wells': 1, 'produce': 1, 'librarian': 1, 'englishreading': 1, '1978': 1, 'ending': 1, '1975': 2, '1973': 1, 'brought': 2, 'shore': 1, 'greatest': 1, 'volumes': 2, 'english': 1, 'occasion': 1, 'sf': 2, 'typical': 1}, {'real': 1, '30': 1, '1996': 1, 'schoolmate': 1, 'armchair': 1, 'oja': 2, 'back': 1, 'joined': 1, 'tugitooli': 1, 'tag': 4, 'palm': 1, 'palmisaar': 1, 'rap': 1, 'year': 2, 'hit': 1, 'paul': 2, 'famous': 3, 'droopy': 1, 'album': 6, 'genkas': 1, 'group': 1, 'estonian': 3, 'revo': 2, '23': 1, 'band': 1, 'vacation': 1, 'cent': 1, 'gangstergenka': 1, 'producergenka': 1, 'tallinn': 3, 'legendaarne': 3, 'born': 1, 'henry': 1, 'bankruptcy': 1, 'homophobes': 1, 'toe': 4, 'europe': 1, 'solo': 1, 'curtis': 1, 'rapping': 1, 'promo': 1, 'big': 1, 'company': 1, 'genka': 5, 'leegion': 1, 'gangster': 1, 'records': 1, 'started': 5, 'kuhnja': 1, 'studio': 1, 'legendary': 1, 'released': 3, '1998': 1, 'december': 1, 'pankrot': 1, 'stagename': 1, 'warmup': 1, 'performers': 1, 'dj': 2, '18': 1, '1974': 1, 'rapper': 1, '50': 1, 'krvits': 1, 'record': 2, 'tour': 2, '2001': 1, '2006': 1, '2007': 1, '2004': 1, 'island': 1, 'arhm': 3, 'making': 1, 'rapped': 1, 'songs': 5, 'called': 1, 'consisted': 1}]\n"
     ]
    }
   ],
   "source": [
    "# wiki_docs = gl.text_analytics.count_words(wiki['text'])\n",
    "wiki_docs = wiki_docs.dict_trim_by_keys(gl.text_analytics.stopwords(), exclude=True)\n",
    "\n",
    "print \"type(wiki_docs): %s\" % (type(wiki_docs))\n",
    "print wiki_docs[:5]"
   ]
  },
  {
   "cell_type": "markdown",
   "metadata": {},
   "source": [
    "## Model fitting and interpretation\n",
    "In the video lectures we saw that Gibbs sampling can be used to perform inference in the LDA model. In this assignment we will use a GraphLab Create method to learn the topic model for our Wikipedia data, and our main emphasis will be on interpreting the results. We'll begin by creating the topic model using create() from GraphLab Create's topic_model module.\n",
    "\n",
    "Note: This may take several minutes to run."
   ]
  },
  {
   "cell_type": "code",
   "execution_count": 8,
   "metadata": {
    "collapsed": false
   },
   "outputs": [
    {
     "data": {
      "text/html": [
       "<pre>Learning a topic model</pre>"
      ],
      "text/plain": [
       "Learning a topic model"
      ]
     },
     "metadata": {},
     "output_type": "display_data"
    },
    {
     "data": {
      "text/html": [
       "<pre>       Number of documents     59071</pre>"
      ],
      "text/plain": [
       "       Number of documents     59071"
      ]
     },
     "metadata": {},
     "output_type": "display_data"
    },
    {
     "data": {
      "text/html": [
       "<pre>           Vocabulary size    547462</pre>"
      ],
      "text/plain": [
       "           Vocabulary size    547462"
      ]
     },
     "metadata": {},
     "output_type": "display_data"
    },
    {
     "data": {
      "text/html": [
       "<pre>   Running collapsed Gibbs sampling</pre>"
      ],
      "text/plain": [
       "   Running collapsed Gibbs sampling"
      ]
     },
     "metadata": {},
     "output_type": "display_data"
    },
    {
     "data": {
      "text/html": [
       "<pre>+-----------+---------------+----------------+-----------------+</pre>"
      ],
      "text/plain": [
       "+-----------+---------------+----------------+-----------------+"
      ]
     },
     "metadata": {},
     "output_type": "display_data"
    },
    {
     "data": {
      "text/html": [
       "<pre>| Iteration | Elapsed Time  | Tokens/Second  | Est. Perplexity |</pre>"
      ],
      "text/plain": [
       "| Iteration | Elapsed Time  | Tokens/Second  | Est. Perplexity |"
      ]
     },
     "metadata": {},
     "output_type": "display_data"
    },
    {
     "data": {
      "text/html": [
       "<pre>+-----------+---------------+----------------+-----------------+</pre>"
      ],
      "text/plain": [
       "+-----------+---------------+----------------+-----------------+"
      ]
     },
     "metadata": {},
     "output_type": "display_data"
    },
    {
     "data": {
      "text/html": [
       "<pre>| 10        | 11.86s        | 7.50324e+06    | 0               |</pre>"
      ],
      "text/plain": [
       "| 10        | 11.86s        | 7.50324e+06    | 0               |"
      ]
     },
     "metadata": {},
     "output_type": "display_data"
    },
    {
     "data": {
      "text/html": [
       "<pre>| 20        | 22.13s        | 7.71001e+06    | 0               |</pre>"
      ],
      "text/plain": [
       "| 20        | 22.13s        | 7.71001e+06    | 0               |"
      ]
     },
     "metadata": {},
     "output_type": "display_data"
    },
    {
     "data": {
      "text/html": [
       "<pre>| 30        | 32.33s        | 7.92451e+06    | 0               |</pre>"
      ],
      "text/plain": [
       "| 30        | 32.33s        | 7.92451e+06    | 0               |"
      ]
     },
     "metadata": {},
     "output_type": "display_data"
    },
    {
     "data": {
      "text/html": [
       "<pre>| 40        | 42.35s        | 7.80107e+06    | 0               |</pre>"
      ],
      "text/plain": [
       "| 40        | 42.35s        | 7.80107e+06    | 0               |"
      ]
     },
     "metadata": {},
     "output_type": "display_data"
    },
    {
     "data": {
      "text/html": [
       "<pre>| 50        | 52.41s        | 7.9794e+06     | 0               |</pre>"
      ],
      "text/plain": [
       "| 50        | 52.41s        | 7.9794e+06     | 0               |"
      ]
     },
     "metadata": {},
     "output_type": "display_data"
    },
    {
     "data": {
      "text/html": [
       "<pre>| 60        | 1m 2s         | 7.98169e+06    | 0               |</pre>"
      ],
      "text/plain": [
       "| 60        | 1m 2s         | 7.98169e+06    | 0               |"
      ]
     },
     "metadata": {},
     "output_type": "display_data"
    },
    {
     "data": {
      "text/html": [
       "<pre>| 70        | 1m 12s        | 7.70822e+06    | 0               |</pre>"
      ],
      "text/plain": [
       "| 70        | 1m 12s        | 7.70822e+06    | 0               |"
      ]
     },
     "metadata": {},
     "output_type": "display_data"
    },
    {
     "data": {
      "text/html": [
       "<pre>| 80        | 1m 22s        | 8.07892e+06    | 0               |</pre>"
      ],
      "text/plain": [
       "| 80        | 1m 22s        | 8.07892e+06    | 0               |"
      ]
     },
     "metadata": {},
     "output_type": "display_data"
    },
    {
     "data": {
      "text/html": [
       "<pre>| 90        | 1m 32s        | 7.99304e+06    | 0               |</pre>"
      ],
      "text/plain": [
       "| 90        | 1m 32s        | 7.99304e+06    | 0               |"
      ]
     },
     "metadata": {},
     "output_type": "display_data"
    },
    {
     "data": {
      "text/html": [
       "<pre>| 100       | 1m 42s        | 8.03755e+06    | 0               |</pre>"
      ],
      "text/plain": [
       "| 100       | 1m 42s        | 8.03755e+06    | 0               |"
      ]
     },
     "metadata": {},
     "output_type": "display_data"
    },
    {
     "data": {
      "text/html": [
       "<pre>| 110       | 1m 52s        | 7.74776e+06    | 0               |</pre>"
      ],
      "text/plain": [
       "| 110       | 1m 52s        | 7.74776e+06    | 0               |"
      ]
     },
     "metadata": {},
     "output_type": "display_data"
    },
    {
     "data": {
      "text/html": [
       "<pre>| 120       | 2m 2s         | 7.69643e+06    | 0               |</pre>"
      ],
      "text/plain": [
       "| 120       | 2m 2s         | 7.69643e+06    | 0               |"
      ]
     },
     "metadata": {},
     "output_type": "display_data"
    },
    {
     "data": {
      "text/html": [
       "<pre>| 130       | 2m 12s        | 7.88656e+06    | 0               |</pre>"
      ],
      "text/plain": [
       "| 130       | 2m 12s        | 7.88656e+06    | 0               |"
      ]
     },
     "metadata": {},
     "output_type": "display_data"
    },
    {
     "data": {
      "text/html": [
       "<pre>| 140       | 2m 23s        | 7.85703e+06    | 0               |</pre>"
      ],
      "text/plain": [
       "| 140       | 2m 23s        | 7.85703e+06    | 0               |"
      ]
     },
     "metadata": {},
     "output_type": "display_data"
    },
    {
     "data": {
      "text/html": [
       "<pre>| 150       | 2m 33s        | 7.82522e+06    | 0               |</pre>"
      ],
      "text/plain": [
       "| 150       | 2m 33s        | 7.82522e+06    | 0               |"
      ]
     },
     "metadata": {},
     "output_type": "display_data"
    },
    {
     "data": {
      "text/html": [
       "<pre>| 160       | 2m 43s        | 7.90529e+06    | 0               |</pre>"
      ],
      "text/plain": [
       "| 160       | 2m 43s        | 7.90529e+06    | 0               |"
      ]
     },
     "metadata": {},
     "output_type": "display_data"
    },
    {
     "data": {
      "text/html": [
       "<pre>| 170       | 2m 53s        | 7.87479e+06    | 0               |</pre>"
      ],
      "text/plain": [
       "| 170       | 2m 53s        | 7.87479e+06    | 0               |"
      ]
     },
     "metadata": {},
     "output_type": "display_data"
    },
    {
     "data": {
      "text/html": [
       "<pre>| 180       | 3m 3s         | 7.93412e+06    | 0               |</pre>"
      ],
      "text/plain": [
       "| 180       | 3m 3s         | 7.93412e+06    | 0               |"
      ]
     },
     "metadata": {},
     "output_type": "display_data"
    },
    {
     "data": {
      "text/html": [
       "<pre>| 190       | 3m 13s        | 7.78342e+06    | 0               |</pre>"
      ],
      "text/plain": [
       "| 190       | 3m 13s        | 7.78342e+06    | 0               |"
      ]
     },
     "metadata": {},
     "output_type": "display_data"
    },
    {
     "data": {
      "text/html": [
       "<pre>| 200       | 3m 23s        | 7.85527e+06    | 0               |</pre>"
      ],
      "text/plain": [
       "| 200       | 3m 23s        | 7.85527e+06    | 0               |"
      ]
     },
     "metadata": {},
     "output_type": "display_data"
    },
    {
     "data": {
      "text/html": [
       "<pre>+-----------+---------------+----------------+-----------------+</pre>"
      ],
      "text/plain": [
       "+-----------+---------------+----------------+-----------------+"
      ]
     },
     "metadata": {},
     "output_type": "display_data"
    }
   ],
   "source": [
    "topic_model = gl.topic_model.create(wiki_docs, num_topics=10, num_iterations=200)"
   ]
  },
  {
   "cell_type": "markdown",
   "metadata": {},
   "source": [
    "GraphLab provides a useful summary of the model we have fitted, including the hyperparameter settings for alpha, gamma (note that GraphLab Create calls this parameter beta), and K (the number of topics); the structure of the output data; and some useful methods for understanding the results."
   ]
  },
  {
   "cell_type": "code",
   "execution_count": 9,
   "metadata": {
    "collapsed": false
   },
   "outputs": [
    {
     "data": {
      "text/plain": [
       "Class                          : TopicModel\n",
       "\n",
       "Schema\n",
       "------\n",
       "Vocabulary Size                : 547462\n",
       "\n",
       "Settings\n",
       "--------\n",
       "Number of Topics               : 10\n",
       "alpha                          : 5.0\n",
       "beta                           : 0.1\n",
       "Iterations                     : 200\n",
       "Training time                  : 204.731\n",
       "Verbose                        : False\n",
       "\n",
       "Accessible fields             : \n",
       "m['topics']                   : An SFrame containing the topics.\n",
       "m['vocabulary']               : An SArray containing the words in the vocabulary.\n",
       "Useful methods                : \n",
       "m.get_topics()                : Get the most probable words per topic.\n",
       "m.predict(new_docs)           : Make predictions for new documents."
      ]
     },
     "execution_count": 9,
     "metadata": {},
     "output_type": "execute_result"
    }
   ],
   "source": [
    "topic_model"
   ]
  },
  {
   "cell_type": "markdown",
   "metadata": {},
   "source": [
    "It is certainly useful to have pre-implemented methods available for LDA, but as with our previous methods for clustering and retrieval, implementing and fitting the model gets us only halfway towards our objective. We now need to analyze the fitted model to understand what it has done with our data and whether it will be useful as a document classification system. This can be a challenging task in itself, particularly when the model that we use is complex. We will begin by outlining a sequence of objectives that will help us understand our model in detail. In particular, we will\n",
    "\n",
    "* get the top words in each topic and use these to identify topic themes\n",
    "* predict topic distributions for some example documents\n",
    "* compare the quality of LDA \"nearest neighbors\" to the NN output from the first assignment\n",
    "* understand the role of model hyperparameters alpha and gamma"
   ]
  },
  {
   "cell_type": "markdown",
   "metadata": {},
   "source": [
    "## Load a fitted topic model\n",
    "The method used to fit the LDA model is a _randomized algorithm_, which means that it involves steps that are random; in this case, the randomness comes from Gibbs sampling, as discussed in the LDA video lectures. Because of these random steps, the algorithm will be expected to yield slighty different output for different runs on the same data - note that this is different from previously seen algorithms such as k-means or EM, which will always produce the same results given the same input and initialization.\n",
    "\n",
    "It is important to understand that variation in the results is a fundamental feature of randomized methods. However, in the context of this assignment this variation makes it difficult to evaluate the correctness of your analysis, so we will load and analyze a pre-trained model. \n",
    "\n",
    "We recommend that you spend some time exploring your own fitted topic model and compare our analysis of the pre-trained model to the same analysis applied to the model you trained above."
   ]
  },
  {
   "cell_type": "code",
   "execution_count": 11,
   "metadata": {
    "collapsed": false,
    "scrolled": true
   },
   "outputs": [],
   "source": [
    "topic_model = gl.load_model('data/topic_models/lda_assignment_topic_model')"
   ]
  },
  {
   "cell_type": "markdown",
   "metadata": {},
   "source": [
    "# Identifying topic themes by top words\n",
    "\n",
    "We'll start by trying to identify the topics learned by our model with some major themes. As a preliminary check on the results of applying this method, it is reasonable to hope that the model has been able to learn topics that correspond to recognizable categories. In order to do this, we must first recall what exactly a 'topic' is in the context of LDA. \n",
    "\n",
    "In the video lectures on LDA we learned that a topic is a probability distribution over words in the vocabulary; that is, each topic assigns a particular probability to every one of the unique words that appears in our data. Different topics will assign different probabilities to the same word: for instance, a topic that ends up describing science and technology articles might place more probability on the word 'university' than a topic that describes sports or politics. Looking at the highest probability words in each topic will thus give us a sense of its major themes. Ideally we would find that each topic is identifiable with some clear theme _and_ that all the topics are relatively distinct.\n",
    "\n",
    "We can use the GraphLab Create function get_topics() to view the top words (along with their associated probabilities) from each topic.\n",
    "\n",
    "__Quiz Question:__ Identify the top 3 most probable words for the first topic. "
   ]
  },
  {
   "cell_type": "code",
   "execution_count": 12,
   "metadata": {
    "collapsed": false
   },
   "outputs": [
    {
     "name": "stdout",
     "output_type": "stream",
     "text": [
      "+-------+---------------+------------------+\n",
      "| topic |      word     |      score       |\n",
      "+-------+---------------+------------------+\n",
      "|   0   |   university  | 0.0337723780773  |\n",
      "|   0   |    research   | 0.0120334992502  |\n",
      "|   0   |   professor   | 0.0118011432268  |\n",
      "|   0   | international | 0.00881383389898 |\n",
      "|   0   |   institute   | 0.00851045584573 |\n",
      "|   1   |     played    | 0.0189511138484  |\n",
      "|   1   |     season    | 0.0180754216578  |\n",
      "|   1   |     league    |  0.017415688373  |\n",
      "|   1   |      team     | 0.0125104570691  |\n",
      "|   1   |     career    | 0.0108564659198  |\n",
      "+-------+---------------+------------------+\n",
      "[50 rows x 3 columns]\n",
      "Note: Only the head of the SFrame is printed.\n",
      "You can use print_rows(num_rows=m, num_columns=n) to print more rows and columns.\n"
     ]
    }
   ],
   "source": [
    "print topic_model.get_topics()"
   ]
  },
  {
   "cell_type": "markdown",
   "metadata": {},
   "source": [
    "__ Quiz Question:__ What is the sum of the probabilities assigned to the top 50 words in the 3rd topic?"
   ]
  },
  {
   "cell_type": "code",
   "execution_count": 16,
   "metadata": {
    "collapsed": false
   },
   "outputs": [
    {
     "name": "stdout",
     "output_type": "stream",
     "text": [
      "+-------+------------+------------------+\n",
      "| topic |    word    |      score       |\n",
      "+-------+------------+------------------+\n",
      "|   2   |    film    | 0.0161482004927  |\n",
      "|   2   |   music    | 0.0114820618908  |\n",
      "|   2   |   album    | 0.00996964339687 |\n",
      "|   2   |  released  | 0.00890297536304 |\n",
      "|   2   |    band    | 0.00790751347298 |\n",
      "|   2   | television | 0.00688570530973 |\n",
      "|   2   |   series   | 0.00616153882748 |\n",
      "|   2   |    show    | 0.00570581950729 |\n",
      "|   2   |   award    | 0.00500159074529 |\n",
      "|   2   |  appeared  | 0.00492611223289 |\n",
      "+-------+------------+------------------+\n",
      "[50 rows x 3 columns]\n",
      "Note: Only the head of the SFrame is printed.\n",
      "You can use print_rows(num_rows=m, num_columns=n) to print more rows and columns.\n",
      "0.210343660789\n"
     ]
    }
   ],
   "source": [
    "print topic_model.get_topics([2], num_words = 50)\n",
    "print topic_model.get_topics([2], num_words = 50)['score'].sum()"
   ]
  },
  {
   "cell_type": "markdown",
   "metadata": {},
   "source": [
    "Let's look at the top 10 words for each topic to see if we can identify any themes:"
   ]
  },
  {
   "cell_type": "code",
   "execution_count": 17,
   "metadata": {
    "collapsed": false
   },
   "outputs": [
    {
     "data": {
      "text/plain": [
       "[['university',\n",
       "  'research',\n",
       "  'professor',\n",
       "  'international',\n",
       "  'institute',\n",
       "  'science',\n",
       "  'society',\n",
       "  'studies',\n",
       "  'director',\n",
       "  'national'],\n",
       " ['played',\n",
       "  'season',\n",
       "  'league',\n",
       "  'team',\n",
       "  'career',\n",
       "  'football',\n",
       "  'games',\n",
       "  'player',\n",
       "  'coach',\n",
       "  'game'],\n",
       " ['film',\n",
       "  'music',\n",
       "  'album',\n",
       "  'released',\n",
       "  'band',\n",
       "  'television',\n",
       "  'series',\n",
       "  'show',\n",
       "  'award',\n",
       "  'appeared'],\n",
       " ['university',\n",
       "  'school',\n",
       "  'served',\n",
       "  'college',\n",
       "  'state',\n",
       "  'american',\n",
       "  'states',\n",
       "  'united',\n",
       "  'born',\n",
       "  'law'],\n",
       " ['member',\n",
       "  'party',\n",
       "  'election',\n",
       "  'minister',\n",
       "  'government',\n",
       "  'elected',\n",
       "  'served',\n",
       "  'president',\n",
       "  'general',\n",
       "  'committee'],\n",
       " ['work',\n",
       "  'art',\n",
       "  'book',\n",
       "  'published',\n",
       "  'york',\n",
       "  'magazine',\n",
       "  'radio',\n",
       "  'books',\n",
       "  'award',\n",
       "  'arts'],\n",
       " ['company',\n",
       "  'business',\n",
       "  'years',\n",
       "  'group',\n",
       "  'time',\n",
       "  'family',\n",
       "  'people',\n",
       "  'india',\n",
       "  'million',\n",
       "  'indian'],\n",
       " ['world',\n",
       "  'won',\n",
       "  'born',\n",
       "  'time',\n",
       "  'year',\n",
       "  'team',\n",
       "  'championship',\n",
       "  'tour',\n",
       "  'championships',\n",
       "  'title'],\n",
       " ['born',\n",
       "  'british',\n",
       "  'london',\n",
       "  'australian',\n",
       "  'south',\n",
       "  'joined',\n",
       "  'years',\n",
       "  'made',\n",
       "  'england',\n",
       "  'australia'],\n",
       " ['music',\n",
       "  'de',\n",
       "  'born',\n",
       "  'international',\n",
       "  'la',\n",
       "  'orchestra',\n",
       "  'opera',\n",
       "  'studied',\n",
       "  'french',\n",
       "  'festival']]"
      ]
     },
     "execution_count": 17,
     "metadata": {},
     "output_type": "execute_result"
    }
   ],
   "source": [
    "[x['words'] for x in topic_model.get_topics(output_type='topic_words', num_words=10)]"
   ]
  },
  {
   "cell_type": "markdown",
   "metadata": {},
   "source": [
    "We propose the following themes for each topic:\n",
    "\n",
    "- topic 0: Science and research\n",
    "- topic 2: Team sports\n",
    "- topic 3: Music, TV, and film\n",
    "- topic 4: American college and politics\n",
    "- topic 5: General politics\n",
    "- topic 6: Art and publishing\n",
    "- topic 7: Business\n",
    "- topic 8: International athletics\n",
    "- topic 9: Great Britain and Australia\n",
    "- topic 10: International music\n",
    "\n",
    "We'll save these themes for later:"
   ]
  },
  {
   "cell_type": "code",
   "execution_count": 18,
   "metadata": {
    "collapsed": true
   },
   "outputs": [],
   "source": [
    "themes = ['science and research','team sports','music, TV, and film', \\\n",
    "          'American college and politics','general politics', \\\n",
    "         'art and publishing','Business','international athletics', \\\n",
    "          'Great Britain and Australia','international music']"
   ]
  },
  {
   "cell_type": "markdown",
   "metadata": {},
   "source": [
    "### Measuring the importance of top words\n",
    "\n",
    "We can learn more about topics by exploring how they place probability mass (which we can think of as a weight) on each of their top words.\n",
    "\n",
    "We'll do this with two visualizations of the weights for the top words in each topic:\n",
    " - the weights of the top 100 words, sorted by the size\n",
    " - the total weight of the top 10 words\n"
   ]
  },
  {
   "cell_type": "markdown",
   "metadata": {},
   "source": [
    "Here's a plot for the top 100 words by weight in each topic:"
   ]
  },
  {
   "cell_type": "code",
   "execution_count": 19,
   "metadata": {
    "collapsed": false
   },
   "outputs": [
    {
     "data": {
      "text/plain": [
       "<matplotlib.text.Text at 0x126afbd10>"
      ]
     },
     "execution_count": 19,
     "metadata": {},
     "output_type": "execute_result"
    },
    {
     "data": {
      "image/png": "[encoded data removed]",
      "text/plain": [
       "<matplotlib.figure.Figure at 0x1175cb790>"
      ]
     },
     "metadata": {},
     "output_type": "display_data"
    }
   ],
   "source": [
    "for i in range(10):\n",
    "    plt.plot(range(100), topic_model.get_topics(topic_ids=[i], num_words=100)['score'])\n",
    "plt.xlabel('Word rank')\n",
    "plt.ylabel('Probability')\n",
    "plt.title('Probabilities of Top 100 Words in each Topic')"
   ]
  },
  {
   "cell_type": "markdown",
   "metadata": {},
   "source": [
    "In the above plot, each line corresponds to one of our ten topics. Notice how for each topic, the weights drop off sharply as we move down the ranked list of most important words. This shows that the top 10-20 words in each topic are assigned a much greater weight than the remaining words - and remember from the summary of our topic model that our vocabulary has 547462 words in total!\n",
    "\n",
    "\n",
    "Next we plot the total weight assigned by each topic to its top 10 words: "
   ]
  },
  {
   "cell_type": "code",
   "execution_count": 20,
   "metadata": {
    "collapsed": false
   },
   "outputs": [
    {
     "data": {
      "image/png": "[encoded data removed]",
      "text/plain": [
       "<matplotlib.figure.Figure at 0x126d17190>"
      ]
     },
     "metadata": {},
     "output_type": "display_data"
    }
   ],
   "source": [
    "top_probs = [sum(topic_model.get_topics(topic_ids=[i], num_words=10)['score']) for i in range(10)]\n",
    "\n",
    "ind = np.arange(10)\n",
    "width = 0.5\n",
    "\n",
    "fig, ax = plt.subplots()\n",
    "\n",
    "ax.bar(ind-(width/2),top_probs,width)\n",
    "ax.set_xticks(ind)\n",
    "\n",
    "plt.xlabel('Topic')\n",
    "plt.ylabel('Probability')\n",
    "plt.title('Total Probability of Top 10 Words in each Topic')\n",
    "plt.xlim(-0.5,9.5)\n",
    "plt.ylim(0,0.15)\n",
    "plt.show()"
   ]
  },
  {
   "cell_type": "markdown",
   "metadata": {},
   "source": [
    "Here we see that, for our topic model, the top 10 words only account for a small fraction (in this case, between 5% and 13%) of their topic's total probability mass. So while we can use the top words to identify broad themes for each topic, we should keep in mind that in reality these topics are more complex than a simple 10-word summary.\n",
    "\n",
    "Finally, we observe that some 'junk' words appear highly rated in some topics despite our efforts to remove unhelpful words before fitting the model; for example, the word 'born' appears as a top 10 word in three different topics, but it doesn't help us describe these topics at all."
   ]
  },
  {
   "cell_type": "markdown",
   "metadata": {},
   "source": [
    "# Topic distributions for some example documents\n",
    "\n",
    "As we noted in the introduction to this assignment, LDA allows for mixed membership, which means that each document can partially belong to several different topics. For each document, topic membership is expressed as a vector of weights that sum to one; the magnitude of each weight indicates the degree to which the document represents that particular topic.\n",
    "\n",
    "We'll explore this in our fitted model by looking at the topic distributions for a few example Wikipedia articles from our data set. We should find that these articles have the highest weights on the topics whose themes are most relevant to the subject of the article - for example, we'd expect an article on a politician to place relatively high weight on topics related to government, while an article about an athlete should place higher weight on topics related to sports or competition."
   ]
  },
  {
   "cell_type": "markdown",
   "metadata": {},
   "source": [
    "Topic distributions for documents can be obtained using GraphLab Create's predict() function. GraphLab Create uses a collapsed Gibbs sampler similar to the one described in the video lectures, where only the word assignments variables are sampled.  To get a document-specific topic proportion vector post-facto, predict() draws this vector from the conditional distribution given the sampled word assignments in the document.  Notice that, since these are draws from a _distribution_ over topics that the model has learned, we will get slightly different predictions each time we call this function on a document - we can see this below, where we predict the topic distribution for the article on Barack Obama:"
   ]
  },
  {
   "cell_type": "code",
   "execution_count": 21,
   "metadata": {
    "collapsed": false
   },
   "outputs": [
    {
     "name": "stdout",
     "output_type": "stream",
     "text": [
      "+--------------------------+---------------------------+\n",
      "| predictions (first draw) | predictions (second draw) |\n",
      "+--------------------------+---------------------------+\n",
      "|     0.0215053763441      |      0.0456989247312      |\n",
      "|     0.0483870967742      |      0.0510752688172      |\n",
      "|     0.0241935483871      |      0.0376344086022      |\n",
      "|      0.155913978495      |       0.131720430108      |\n",
      "|      0.545698924731      |       0.588709677419      |\n",
      "|     0.0215053763441      |      0.0241935483871      |\n",
      "|     0.0645161290323      |      0.0456989247312      |\n",
      "|     0.0618279569892      |      0.0295698924731      |\n",
      "|     0.0322580645161      |      0.0241935483871      |\n",
      "|     0.0241935483871      |      0.0215053763441      |\n",
      "+--------------------------+---------------------------+\n",
      "+-------------------------------+\n",
      "|             topics            |\n",
      "+-------------------------------+\n",
      "|      science and research     |\n",
      "|          team sports          |\n",
      "|      music, TV, and film      |\n",
      "| American college and politics |\n",
      "|        general politics       |\n",
      "|       art and publishing      |\n",
      "|            Business           |\n",
      "|    international athletics    |\n",
      "|  Great Britain and Australia  |\n",
      "|      international music      |\n",
      "+-------------------------------+\n",
      "[10 rows x 3 columns]\n",
      "\n"
     ]
    }
   ],
   "source": [
    "obama = gl.SArray([wiki_docs[int(np.where(wiki['name']=='Barack Obama')[0])]])\n",
    "pred1 = topic_model.predict(obama, output_type='probability')\n",
    "pred2 = topic_model.predict(obama, output_type='probability')\n",
    "print(gl.SFrame({'topics':themes, 'predictions (first draw)':pred1[0], \n",
    "                 'predictions (second draw)':pred2[0]}))"
   ]
  },
  {
   "cell_type": "markdown",
   "metadata": {},
   "source": [
    "To get a more robust estimate of the topics for each document, we can average a large number of predictions for the same document:"
   ]
  },
  {
   "cell_type": "code",
   "execution_count": 22,
   "metadata": {
    "collapsed": false
   },
   "outputs": [],
   "source": [
    "def average_predictions(model, test_document, num_trials=100):\n",
    "    avg_preds = np.zeros((model.num_topics))\n",
    "    for i in range(num_trials):\n",
    "        avg_preds += model.predict(test_document, output_type='probability')[0]\n",
    "    avg_preds = avg_preds/num_trials\n",
    "    result = gl.SFrame({'topics':themes, 'average predictions':avg_preds})\n",
    "    result = result.sort('average predictions', ascending=False)\n",
    "    return result"
   ]
  },
  {
   "cell_type": "code",
   "execution_count": 23,
   "metadata": {
    "collapsed": false
   },
   "outputs": [
    {
     "name": "stdout",
     "output_type": "stream",
     "text": [
      "+---------------------+-------------------------------+\n",
      "| average predictions |             topics            |\n",
      "+---------------------+-------------------------------+\n",
      "|    0.594838709677   |        general politics       |\n",
      "|    0.13497311828    | American college and politics |\n",
      "|   0.0537634408602   |            Business           |\n",
      "|   0.0483064516129   |          team sports          |\n",
      "|   0.0398655913978   |      science and research     |\n",
      "|   0.0363709677419   |    international athletics    |\n",
      "|   0.0256182795699   |  Great Britain and Australia  |\n",
      "|   0.0231720430108   |       art and publishing      |\n",
      "|    0.023064516129   |      international music      |\n",
      "|   0.0200268817204   |      music, TV, and film      |\n",
      "+---------------------+-------------------------------+\n",
      "[10 rows x 2 columns]\n",
      "\n"
     ]
    }
   ],
   "source": [
    "print average_predictions(topic_model, obama, 100)"
   ]
  },
  {
   "cell_type": "markdown",
   "metadata": {},
   "source": [
    "__Quiz Question:__ What is the topic most closely associated with the article about former US President George W. Bush? Use the average results from 100 topic predictions."
   ]
  },
  {
   "cell_type": "code",
   "execution_count": 24,
   "metadata": {
    "collapsed": false
   },
   "outputs": [
    {
     "name": "stdout",
     "output_type": "stream",
     "text": [
      "+---------------------+-------------------------------+\n",
      "| average predictions |             topics            |\n",
      "+---------------------+-------------------------------+\n",
      "|    0.428040935673   |        general politics       |\n",
      "|    0.180526315789   | American college and politics |\n",
      "|    0.104005847953   |            Business           |\n",
      "|   0.0620175438596   |      science and research     |\n",
      "|   0.0493274853801   |       art and publishing      |\n",
      "|   0.0481578947368   |          team sports          |\n",
      "|   0.0411403508772   |  Great Britain and Australia  |\n",
      "|   0.0359356725146   |    international athletics    |\n",
      "|   0.0287719298246   |      music, TV, and film      |\n",
      "|   0.0220760233918   |      international music      |\n",
      "+---------------------+-------------------------------+\n",
      "[10 rows x 2 columns]\n",
      "\n"
     ]
    }
   ],
   "source": [
    "george_w_bush = gl.SArray([wiki_docs[int(np.where(wiki['name']=='George W. Bush')[0])]])\n",
    "print average_predictions(topic_model, george_w_bush, 100)"
   ]
  },
  {
   "cell_type": "markdown",
   "metadata": {},
   "source": [
    "__Quiz Question:__ What are the top 3 topics corresponding to the article about English football (soccer) player Steven Gerrard? Use the average results from 100 topic predictions."
   ]
  },
  {
   "cell_type": "code",
   "execution_count": 25,
   "metadata": {
    "collapsed": false
   },
   "outputs": [
    {
     "name": "stdout",
     "output_type": "stream",
     "text": [
      "+---------------------+-------------------------------+\n",
      "| average predictions |             topics            |\n",
      "+---------------------+-------------------------------+\n",
      "|       0.48888       |          team sports          |\n",
      "|       0.17592       |  Great Britain and Australia  |\n",
      "|       0.12756       |    international athletics    |\n",
      "|       0.03504       |      international music      |\n",
      "|       0.03248       |        general politics       |\n",
      "|       0.03144       |      music, TV, and film      |\n",
      "|       0.02996       |            Business           |\n",
      "|       0.02792       |       art and publishing      |\n",
      "|       0.02576       |      science and research     |\n",
      "|       0.02504       | American college and politics |\n",
      "+---------------------+-------------------------------+\n",
      "[10 rows x 2 columns]\n",
      "\n"
     ]
    }
   ],
   "source": [
    "gerrard = gl.SArray([wiki_docs[int(np.where(wiki['name']=='Steven Gerrard')[0])]])\n",
    "print average_predictions(topic_model, gerrard, 100)"
   ]
  },
  {
   "cell_type": "markdown",
   "metadata": {},
   "source": [
    "# Comparing LDA to nearest neighbors for document retrieval\n",
    "\n",
    "So far we have found that our topic model has learned some coherent topics, we have explored these topics as probability distributions over a vocabulary, and we have seen how individual documents in our Wikipedia data set are assigned to these topics in a way that corresponds with our expectations. \n",
    "\n",
    "In this section, we will use the predicted topic distribution as a representation of each document, similar to how we have previously represented documents by word count or TF-IDF. This gives us a way of computing distances between documents, so that we can run a nearest neighbors search for a given document based on its membership in the topics that we learned from LDA. We can contrast the results with those obtained by running nearest neighbors under the usual TF-IDF representation, an approach that we explored in a previous assignment. \n",
    "\n",
    "We'll start by creating the LDA topic distribution representation for each document:"
   ]
  },
  {
   "cell_type": "code",
   "execution_count": 26,
   "metadata": {
    "collapsed": false
   },
   "outputs": [],
   "source": [
    "wiki['lda'] = topic_model.predict(wiki_docs, output_type='probability')"
   ]
  },
  {
   "cell_type": "markdown",
   "metadata": {},
   "source": [
    "Next we add the TF-IDF document representations:"
   ]
  },
  {
   "cell_type": "code",
   "execution_count": 27,
   "metadata": {
    "collapsed": false
   },
   "outputs": [],
   "source": [
    "wiki['word_count'] = gl.text_analytics.count_words(wiki['text'])\n",
    "wiki['tf_idf'] = gl.text_analytics.tf_idf(wiki['word_count'])"
   ]
  },
  {
   "cell_type": "markdown",
   "metadata": {},
   "source": [
    "For each of our two different document representations, we can use GraphLab Create to compute a brute-force nearest neighbors model:"
   ]
  },
  {
   "cell_type": "code",
   "execution_count": 28,
   "metadata": {
    "collapsed": false
   },
   "outputs": [
    {
     "data": {
      "text/html": [
       "<pre>Starting brute force nearest neighbors model training.</pre>"
      ],
      "text/plain": [
       "Starting brute force nearest neighbors model training."
      ]
     },
     "metadata": {},
     "output_type": "display_data"
    },
    {
     "data": {
      "text/html": [
       "<pre>Starting brute force nearest neighbors model training.</pre>"
      ],
      "text/plain": [
       "Starting brute force nearest neighbors model training."
      ]
     },
     "metadata": {},
     "output_type": "display_data"
    }
   ],
   "source": [
    "model_tf_idf = gl.nearest_neighbors.create(wiki, label='name', features=['tf_idf'],\n",
    "                                           method='brute_force', distance='cosine')\n",
    "model_lda_rep = gl.nearest_neighbors.create(wiki, label='name', features=['lda'],\n",
    "                                            method='brute_force', distance='cosine')"
   ]
  },
  {
   "cell_type": "markdown",
   "metadata": {},
   "source": [
    "Let's compare these nearest neighbor models by finding the nearest neighbors under each representation on an example document. For this example we'll use Paul Krugman, an American economist:"
   ]
  },
  {
   "cell_type": "code",
   "execution_count": 29,
   "metadata": {
    "collapsed": false
   },
   "outputs": [
    {
     "data": {
      "text/html": [
       "<pre>Starting pairwise querying.</pre>"
      ],
      "text/plain": [
       "Starting pairwise querying."
      ]
     },
     "metadata": {},
     "output_type": "display_data"
    },
    {
     "data": {
      "text/html": [
       "<pre>+--------------+---------+-------------+--------------+</pre>"
      ],
      "text/plain": [
       "+--------------+---------+-------------+--------------+"
      ]
     },
     "metadata": {},
     "output_type": "display_data"
    },
    {
     "data": {
      "text/html": [
       "<pre>| Query points | # Pairs | % Complete. | Elapsed Time |</pre>"
      ],
      "text/plain": [
       "| Query points | # Pairs | % Complete. | Elapsed Time |"
      ]
     },
     "metadata": {},
     "output_type": "display_data"
    },
    {
     "data": {
      "text/html": [
       "<pre>+--------------+---------+-------------+--------------+</pre>"
      ],
      "text/plain": [
       "+--------------+---------+-------------+--------------+"
      ]
     },
     "metadata": {},
     "output_type": "display_data"
    },
    {
     "data": {
      "text/html": [
       "<pre>| 0            | 2       | 0.00338576  | 77.149ms     |</pre>"
      ],
      "text/plain": [
       "| 0            | 2       | 0.00338576  | 77.149ms     |"
      ]
     },
     "metadata": {},
     "output_type": "display_data"
    },
    {
     "data": {
      "text/html": [
       "<pre>| Done         |         | 100         | 304.944ms    |</pre>"
      ],
      "text/plain": [
       "| Done         |         | 100         | 304.944ms    |"
      ]
     },
     "metadata": {},
     "output_type": "display_data"
    },
    {
     "data": {
      "text/html": [
       "<pre>+--------------+---------+-------------+--------------+</pre>"
      ],
      "text/plain": [
       "+--------------+---------+-------------+--------------+"
      ]
     },
     "metadata": {},
     "output_type": "display_data"
    },
    {
     "data": {
      "text/html": [
       "<div style=\"max-height:1000px;max-width:1500px;overflow:auto;\"><table frame=\"box\" rules=\"cols\">\n",
       "    <tr>\n",
       "        <th style=\"padding-left: 1em; padding-right: 1em; text-align: center\">query_label</th>\n",
       "        <th style=\"padding-left: 1em; padding-right: 1em; text-align: center\">reference_label</th>\n",
       "        <th style=\"padding-left: 1em; padding-right: 1em; text-align: center\">distance</th>\n",
       "        <th style=\"padding-left: 1em; padding-right: 1em; text-align: center\">rank</th>\n",
       "    </tr>\n",
       "    <tr>\n",
       "        <td style=\"padding-left: 1em; padding-right: 1em; text-align: center; vertical-align: top\">Paul Krugman</td>\n",
       "        <td style=\"padding-left: 1em; padding-right: 1em; text-align: center; vertical-align: top\">Paul Krugman</td>\n",
       "        <td style=\"padding-left: 1em; padding-right: 1em; text-align: center; vertical-align: top\">0.0</td>\n",
       "        <td style=\"padding-left: 1em; padding-right: 1em; text-align: center; vertical-align: top\">1</td>\n",
       "    </tr>\n",
       "    <tr>\n",
       "        <td style=\"padding-left: 1em; padding-right: 1em; text-align: center; vertical-align: top\">Paul Krugman</td>\n",
       "        <td style=\"padding-left: 1em; padding-right: 1em; text-align: center; vertical-align: top\">Elise Brezis</td>\n",
       "        <td style=\"padding-left: 1em; padding-right: 1em; text-align: center; vertical-align: top\">0.744498017262</td>\n",
       "        <td style=\"padding-left: 1em; padding-right: 1em; text-align: center; vertical-align: top\">2</td>\n",
       "    </tr>\n",
       "    <tr>\n",
       "        <td style=\"padding-left: 1em; padding-right: 1em; text-align: center; vertical-align: top\">Paul Krugman</td>\n",
       "        <td style=\"padding-left: 1em; padding-right: 1em; text-align: center; vertical-align: top\">Maitreesh Ghatak</td>\n",
       "        <td style=\"padding-left: 1em; padding-right: 1em; text-align: center; vertical-align: top\">0.81564984831</td>\n",
       "        <td style=\"padding-left: 1em; padding-right: 1em; text-align: center; vertical-align: top\">3</td>\n",
       "    </tr>\n",
       "    <tr>\n",
       "        <td style=\"padding-left: 1em; padding-right: 1em; text-align: center; vertical-align: top\">Paul Krugman</td>\n",
       "        <td style=\"padding-left: 1em; padding-right: 1em; text-align: center; vertical-align: top\">Kai A. Konrad</td>\n",
       "        <td style=\"padding-left: 1em; padding-right: 1em; text-align: center; vertical-align: top\">0.823700564406</td>\n",
       "        <td style=\"padding-left: 1em; padding-right: 1em; text-align: center; vertical-align: top\">4</td>\n",
       "    </tr>\n",
       "    <tr>\n",
       "        <td style=\"padding-left: 1em; padding-right: 1em; text-align: center; vertical-align: top\">Paul Krugman</td>\n",
       "        <td style=\"padding-left: 1em; padding-right: 1em; text-align: center; vertical-align: top\">David Colander</td>\n",
       "        <td style=\"padding-left: 1em; padding-right: 1em; text-align: center; vertical-align: top\">0.834625927759</td>\n",
       "        <td style=\"padding-left: 1em; padding-right: 1em; text-align: center; vertical-align: top\">5</td>\n",
       "    </tr>\n",
       "    <tr>\n",
       "        <td style=\"padding-left: 1em; padding-right: 1em; text-align: center; vertical-align: top\">Paul Krugman</td>\n",
       "        <td style=\"padding-left: 1em; padding-right: 1em; text-align: center; vertical-align: top\">Richard Blundell</td>\n",
       "        <td style=\"padding-left: 1em; padding-right: 1em; text-align: center; vertical-align: top\">0.837934267874</td>\n",
       "        <td style=\"padding-left: 1em; padding-right: 1em; text-align: center; vertical-align: top\">6</td>\n",
       "    </tr>\n",
       "    <tr>\n",
       "        <td style=\"padding-left: 1em; padding-right: 1em; text-align: center; vertical-align: top\">Paul Krugman</td>\n",
       "        <td style=\"padding-left: 1em; padding-right: 1em; text-align: center; vertical-align: top\">Gordon Rausser</td>\n",
       "        <td style=\"padding-left: 1em; padding-right: 1em; text-align: center; vertical-align: top\">0.83941534706</td>\n",
       "        <td style=\"padding-left: 1em; padding-right: 1em; text-align: center; vertical-align: top\">7</td>\n",
       "    </tr>\n",
       "    <tr>\n",
       "        <td style=\"padding-left: 1em; padding-right: 1em; text-align: center; vertical-align: top\">Paul Krugman</td>\n",
       "        <td style=\"padding-left: 1em; padding-right: 1em; text-align: center; vertical-align: top\">Edward J. Nell</td>\n",
       "        <td style=\"padding-left: 1em; padding-right: 1em; text-align: center; vertical-align: top\">0.842178500015</td>\n",
       "        <td style=\"padding-left: 1em; padding-right: 1em; text-align: center; vertical-align: top\">8</td>\n",
       "    </tr>\n",
       "    <tr>\n",
       "        <td style=\"padding-left: 1em; padding-right: 1em; text-align: center; vertical-align: top\">Paul Krugman</td>\n",
       "        <td style=\"padding-left: 1em; padding-right: 1em; text-align: center; vertical-align: top\">Robin Boadway</td>\n",
       "        <td style=\"padding-left: 1em; padding-right: 1em; text-align: center; vertical-align: top\">0.842374260596</td>\n",
       "        <td style=\"padding-left: 1em; padding-right: 1em; text-align: center; vertical-align: top\">9</td>\n",
       "    </tr>\n",
       "    <tr>\n",
       "        <td style=\"padding-left: 1em; padding-right: 1em; text-align: center; vertical-align: top\">Paul Krugman</td>\n",
       "        <td style=\"padding-left: 1em; padding-right: 1em; text-align: center; vertical-align: top\">Tim Besley</td>\n",
       "        <td style=\"padding-left: 1em; padding-right: 1em; text-align: center; vertical-align: top\">0.843088109253</td>\n",
       "        <td style=\"padding-left: 1em; padding-right: 1em; text-align: center; vertical-align: top\">10</td>\n",
       "    </tr>\n",
       "</table>\n",
       "[10 rows x 4 columns]<br/>\n",
       "</div>"
      ],
      "text/plain": [
       "Columns:\n",
       "\tquery_label\tstr\n",
       "\treference_label\tstr\n",
       "\tdistance\tfloat\n",
       "\trank\tint\n",
       "\n",
       "Rows: 10\n",
       "\n",
       "Data:\n",
       "+--------------+------------------+----------------+------+\n",
       "| query_label  | reference_label  |    distance    | rank |\n",
       "+--------------+------------------+----------------+------+\n",
       "| Paul Krugman |   Paul Krugman   |      0.0       |  1   |\n",
       "| Paul Krugman |   Elise Brezis   | 0.744498017262 |  2   |\n",
       "| Paul Krugman | Maitreesh Ghatak | 0.81564984831  |  3   |\n",
       "| Paul Krugman |  Kai A. Konrad   | 0.823700564406 |  4   |\n",
       "| Paul Krugman |  David Colander  | 0.834625927759 |  5   |\n",
       "| Paul Krugman | Richard Blundell | 0.837934267874 |  6   |\n",
       "| Paul Krugman |  Gordon Rausser  | 0.83941534706  |  7   |\n",
       "| Paul Krugman |  Edward J. Nell  | 0.842178500015 |  8   |\n",
       "| Paul Krugman |  Robin Boadway   | 0.842374260596 |  9   |\n",
       "| Paul Krugman |    Tim Besley    | 0.843088109253 |  10  |\n",
       "+--------------+------------------+----------------+------+\n",
       "[10 rows x 4 columns]"
      ]
     },
     "execution_count": 29,
     "metadata": {},
     "output_type": "execute_result"
    }
   ],
   "source": [
    "model_tf_idf.query(wiki[wiki['name'] == 'Paul Krugman'], label='name', k=10)"
   ]
  },
  {
   "cell_type": "code",
   "execution_count": 30,
   "metadata": {
    "collapsed": false
   },
   "outputs": [
    {
     "data": {
      "text/html": [
       "<pre>Starting pairwise querying.</pre>"
      ],
      "text/plain": [
       "Starting pairwise querying."
      ]
     },
     "metadata": {},
     "output_type": "display_data"
    },
    {
     "data": {
      "text/html": [
       "<pre>+--------------+---------+-------------+--------------+</pre>"
      ],
      "text/plain": [
       "+--------------+---------+-------------+--------------+"
      ]
     },
     "metadata": {},
     "output_type": "display_data"
    },
    {
     "data": {
      "text/html": [
       "<pre>| Query points | # Pairs | % Complete. | Elapsed Time |</pre>"
      ],
      "text/plain": [
       "| Query points | # Pairs | % Complete. | Elapsed Time |"
      ]
     },
     "metadata": {},
     "output_type": "display_data"
    },
    {
     "data": {
      "text/html": [
       "<pre>+--------------+---------+-------------+--------------+</pre>"
      ],
      "text/plain": [
       "+--------------+---------+-------------+--------------+"
      ]
     },
     "metadata": {},
     "output_type": "display_data"
    },
    {
     "data": {
      "text/html": [
       "<pre>| 0            | 1       | 0.00169288  | 1.677ms      |</pre>"
      ],
      "text/plain": [
       "| 0            | 1       | 0.00169288  | 1.677ms      |"
      ]
     },
     "metadata": {},
     "output_type": "display_data"
    },
    {
     "data": {
      "text/html": [
       "<pre>| Done         |         | 100         | 39.64ms      |</pre>"
      ],
      "text/plain": [
       "| Done         |         | 100         | 39.64ms      |"
      ]
     },
     "metadata": {},
     "output_type": "display_data"
    },
    {
     "data": {
      "text/html": [
       "<pre>+--------------+---------+-------------+--------------+</pre>"
      ],
      "text/plain": [
       "+--------------+---------+-------------+--------------+"
      ]
     },
     "metadata": {},
     "output_type": "display_data"
    },
    {
     "data": {
      "text/html": [
       "<div style=\"max-height:1000px;max-width:1500px;overflow:auto;\"><table frame=\"box\" rules=\"cols\">\n",
       "    <tr>\n",
       "        <th style=\"padding-left: 1em; padding-right: 1em; text-align: center\">query_label</th>\n",
       "        <th style=\"padding-left: 1em; padding-right: 1em; text-align: center\">reference_label</th>\n",
       "        <th style=\"padding-left: 1em; padding-right: 1em; text-align: center\">distance</th>\n",
       "        <th style=\"padding-left: 1em; padding-right: 1em; text-align: center\">rank</th>\n",
       "    </tr>\n",
       "    <tr>\n",
       "        <td style=\"padding-left: 1em; padding-right: 1em; text-align: center; vertical-align: top\">Paul Krugman</td>\n",
       "        <td style=\"padding-left: 1em; padding-right: 1em; text-align: center; vertical-align: top\">Paul Krugman</td>\n",
       "        <td style=\"padding-left: 1em; padding-right: 1em; text-align: center; vertical-align: top\">0.0</td>\n",
       "        <td style=\"padding-left: 1em; padding-right: 1em; text-align: center; vertical-align: top\">1</td>\n",
       "    </tr>\n",
       "    <tr>\n",
       "        <td style=\"padding-left: 1em; padding-right: 1em; text-align: center; vertical-align: top\">Paul Krugman</td>\n",
       "        <td style=\"padding-left: 1em; padding-right: 1em; text-align: center; vertical-align: top\">Gila Sher</td>\n",
       "        <td style=\"padding-left: 1em; padding-right: 1em; text-align: center; vertical-align: top\">0.00232770342152</td>\n",
       "        <td style=\"padding-left: 1em; padding-right: 1em; text-align: center; vertical-align: top\">2</td>\n",
       "    </tr>\n",
       "    <tr>\n",
       "        <td style=\"padding-left: 1em; padding-right: 1em; text-align: center; vertical-align: top\">Paul Krugman</td>\n",
       "        <td style=\"padding-left: 1em; padding-right: 1em; text-align: center; vertical-align: top\">Orazak Ismagulov</td>\n",
       "        <td style=\"padding-left: 1em; padding-right: 1em; text-align: center; vertical-align: top\">0.00268136081788</td>\n",
       "        <td style=\"padding-left: 1em; padding-right: 1em; text-align: center; vertical-align: top\">3</td>\n",
       "    </tr>\n",
       "    <tr>\n",
       "        <td style=\"padding-left: 1em; padding-right: 1em; text-align: center; vertical-align: top\">Paul Krugman</td>\n",
       "        <td style=\"padding-left: 1em; padding-right: 1em; text-align: center; vertical-align: top\">Ronald Deibert</td>\n",
       "        <td style=\"padding-left: 1em; padding-right: 1em; text-align: center; vertical-align: top\">0.00336680985952</td>\n",
       "        <td style=\"padding-left: 1em; padding-right: 1em; text-align: center; vertical-align: top\">4</td>\n",
       "    </tr>\n",
       "    <tr>\n",
       "        <td style=\"padding-left: 1em; padding-right: 1em; text-align: center; vertical-align: top\">Paul Krugman</td>\n",
       "        <td style=\"padding-left: 1em; padding-right: 1em; text-align: center; vertical-align: top\">Ben Klemens</td>\n",
       "        <td style=\"padding-left: 1em; padding-right: 1em; text-align: center; vertical-align: top\">0.00341216718196</td>\n",
       "        <td style=\"padding-left: 1em; padding-right: 1em; text-align: center; vertical-align: top\">5</td>\n",
       "    </tr>\n",
       "    <tr>\n",
       "        <td style=\"padding-left: 1em; padding-right: 1em; text-align: center; vertical-align: top\">Paul Krugman</td>\n",
       "        <td style=\"padding-left: 1em; padding-right: 1em; text-align: center; vertical-align: top\">Marty Makary</td>\n",
       "        <td style=\"padding-left: 1em; padding-right: 1em; text-align: center; vertical-align: top\">0.00350183359164</td>\n",
       "        <td style=\"padding-left: 1em; padding-right: 1em; text-align: center; vertical-align: top\">6</td>\n",
       "    </tr>\n",
       "    <tr>\n",
       "        <td style=\"padding-left: 1em; padding-right: 1em; text-align: center; vertical-align: top\">Paul Krugman</td>\n",
       "        <td style=\"padding-left: 1em; padding-right: 1em; text-align: center; vertical-align: top\">David Coderre</td>\n",
       "        <td style=\"padding-left: 1em; padding-right: 1em; text-align: center; vertical-align: top\">0.00372665767692</td>\n",
       "        <td style=\"padding-left: 1em; padding-right: 1em; text-align: center; vertical-align: top\">7</td>\n",
       "    </tr>\n",
       "    <tr>\n",
       "        <td style=\"padding-left: 1em; padding-right: 1em; text-align: center; vertical-align: top\">Paul Krugman</td>\n",
       "        <td style=\"padding-left: 1em; padding-right: 1em; text-align: center; vertical-align: top\">Barry Hewlett</td>\n",
       "        <td style=\"padding-left: 1em; padding-right: 1em; text-align: center; vertical-align: top\">0.00384362677517</td>\n",
       "        <td style=\"padding-left: 1em; padding-right: 1em; text-align: center; vertical-align: top\">8</td>\n",
       "    </tr>\n",
       "    <tr>\n",
       "        <td style=\"padding-left: 1em; padding-right: 1em; text-align: center; vertical-align: top\">Paul Krugman</td>\n",
       "        <td style=\"padding-left: 1em; padding-right: 1em; text-align: center; vertical-align: top\">Akeel Bilgrami</td>\n",
       "        <td style=\"padding-left: 1em; padding-right: 1em; text-align: center; vertical-align: top\">0.00385363823128</td>\n",
       "        <td style=\"padding-left: 1em; padding-right: 1em; text-align: center; vertical-align: top\">9</td>\n",
       "    </tr>\n",
       "    <tr>\n",
       "        <td style=\"padding-left: 1em; padding-right: 1em; text-align: center; vertical-align: top\">Paul Krugman</td>\n",
       "        <td style=\"padding-left: 1em; padding-right: 1em; text-align: center; vertical-align: top\">Stephen Plog</td>\n",
       "        <td style=\"padding-left: 1em; padding-right: 1em; text-align: center; vertical-align: top\">0.00395188755847</td>\n",
       "        <td style=\"padding-left: 1em; padding-right: 1em; text-align: center; vertical-align: top\">10</td>\n",
       "    </tr>\n",
       "</table>\n",
       "[10 rows x 4 columns]<br/>\n",
       "</div>"
      ],
      "text/plain": [
       "Columns:\n",
       "\tquery_label\tstr\n",
       "\treference_label\tstr\n",
       "\tdistance\tfloat\n",
       "\trank\tint\n",
       "\n",
       "Rows: 10\n",
       "\n",
       "Data:\n",
       "+--------------+------------------+------------------+------+\n",
       "| query_label  | reference_label  |     distance     | rank |\n",
       "+--------------+------------------+------------------+------+\n",
       "| Paul Krugman |   Paul Krugman   |       0.0        |  1   |\n",
       "| Paul Krugman |    Gila Sher     | 0.00232770342152 |  2   |\n",
       "| Paul Krugman | Orazak Ismagulov | 0.00268136081788 |  3   |\n",
       "| Paul Krugman |  Ronald Deibert  | 0.00336680985952 |  4   |\n",
       "| Paul Krugman |   Ben Klemens    | 0.00341216718196 |  5   |\n",
       "| Paul Krugman |   Marty Makary   | 0.00350183359164 |  6   |\n",
       "| Paul Krugman |  David Coderre   | 0.00372665767692 |  7   |\n",
       "| Paul Krugman |  Barry Hewlett   | 0.00384362677517 |  8   |\n",
       "| Paul Krugman |  Akeel Bilgrami  | 0.00385363823128 |  9   |\n",
       "| Paul Krugman |   Stephen Plog   | 0.00395188755847 |  10  |\n",
       "+--------------+------------------+------------------+------+\n",
       "[10 rows x 4 columns]"
      ]
     },
     "execution_count": 30,
     "metadata": {},
     "output_type": "execute_result"
    }
   ],
   "source": [
    "model_lda_rep.query(wiki[wiki['name'] == 'Paul Krugman'], label='name', k=10)"
   ]
  },
  {
   "cell_type": "markdown",
   "metadata": {},
   "source": [
    "Notice that that there is no overlap between the two sets of top 10 nearest neighbors. This doesn't necessarily mean that one representation is better or worse than the other, but rather that they are picking out different features of the documents. \n",
    "\n",
    "With TF-IDF, documents are distinguished by the frequency of uncommon words. Since similarity is defined based on the specific words used in the document, documents that are \"close\" under TF-IDF tend to be similar in terms of specific details. This is what we see in the example: the top 10 nearest neighbors are all economists from the US, UK, or Canada. \n",
    "\n",
    "Our LDA representation, on the other hand, defines similarity between documents in terms of their topic distributions. This means that documents can be \"close\" if they share similar themes, even though they may not share many of the same keywords. For the article on Paul Krugman, we expect the most important topics to be 'American college and politics' and 'science and research'. As a result, we see that the top 10 nearest neighbors are academics from a wide variety of fields, including literature, anthropology, and religious studies.\n",
    "\n",
    "\n",
    "__Quiz Question:__ Using the TF-IDF representation, compute the 5000 nearest neighbors for American baseball player Alex Rodriguez. For what value of k is Mariano Rivera the k-th nearest neighbor to Alex Rodriguez? (Hint: Once you have a list of the nearest neighbors, you can use `mylist.index(value)` to find the index of the first instance of `value` in `mylist`.)\n",
    "\n",
    "__Quiz Question:__ Using the LDA representation, compute the 5000 nearest neighbors for American baseball player Alex Rodriguez. For what value of k is Mariano Rivera the k-th nearest neighbor to Alex Rodriguez? (Hint: Once you have a list of the nearest neighbors, you can use `mylist.index(value)` to find the index of the first instance of `value` in `mylist`.)"
   ]
  },
  {
   "cell_type": "code",
   "execution_count": 31,
   "metadata": {
    "collapsed": false
   },
   "outputs": [
    {
     "data": {
      "text/html": [
       "<pre>Starting pairwise querying.</pre>"
      ],
      "text/plain": [
       "Starting pairwise querying."
      ]
     },
     "metadata": {},
     "output_type": "display_data"
    },
    {
     "data": {
      "text/html": [
       "<pre>+--------------+---------+-------------+--------------+</pre>"
      ],
      "text/plain": [
       "+--------------+---------+-------------+--------------+"
      ]
     },
     "metadata": {},
     "output_type": "display_data"
    },
    {
     "data": {
      "text/html": [
       "<pre>| Query points | # Pairs | % Complete. | Elapsed Time |</pre>"
      ],
      "text/plain": [
       "| Query points | # Pairs | % Complete. | Elapsed Time |"
      ]
     },
     "metadata": {},
     "output_type": "display_data"
    },
    {
     "data": {
      "text/html": [
       "<pre>+--------------+---------+-------------+--------------+</pre>"
      ],
      "text/plain": [
       "+--------------+---------+-------------+--------------+"
      ]
     },
     "metadata": {},
     "output_type": "display_data"
    },
    {
     "data": {
      "text/html": [
       "<pre>| 0            | 1       | 0.00169288  | 38.769ms     |</pre>"
      ],
      "text/plain": [
       "| 0            | 1       | 0.00169288  | 38.769ms     |"
      ]
     },
     "metadata": {},
     "output_type": "display_data"
    },
    {
     "data": {
      "text/html": [
       "<pre>| Done         |         | 100         | 253.11ms     |</pre>"
      ],
      "text/plain": [
       "| Done         |         | 100         | 253.11ms     |"
      ]
     },
     "metadata": {},
     "output_type": "display_data"
    },
    {
     "data": {
      "text/html": [
       "<pre>+--------------+---------+-------------+--------------+</pre>"
      ],
      "text/plain": [
       "+--------------+---------+-------------+--------------+"
      ]
     },
     "metadata": {},
     "output_type": "display_data"
    },
    {
     "name": "stdout",
     "output_type": "stream",
     "text": [
      "type(rodriguez_tfidf_neighbors): <class 'graphlab.data_structures.sframe.SFrame'>\n",
      "+----------------+---------------------------+----------------+------+\n",
      "|  query_label   |      reference_label      |    distance    | rank |\n",
      "+----------------+---------------------------+----------------+------+\n",
      "| Alex Rodriguez |       Alex Rodriguez      |      0.0       |  1   |\n",
      "| Alex Rodriguez | John Rodriguez (baseball) | 0.643662221072 |  2   |\n",
      "| Alex Rodriguez |      Alfonso Soriano      | 0.716766505271 |  3   |\n",
      "| Alex Rodriguez |      Eladio Rodriguez     | 0.727952380269 |  4   |\n",
      "| Alex Rodriguez |      Maggie Rodriguez     | 0.730077138491 |  5   |\n",
      "+----------------+---------------------------+----------------+------+\n",
      "[5 rows x 4 columns]\n",
      "\n"
     ]
    }
   ],
   "source": [
    "rodriguez_tfidf_neighbors = model_tf_idf.query(wiki[wiki['name'] == 'Alex Rodriguez'], \n",
    "                                               label='name', k=5000)\n",
    "print \"type(rodriguez_tfidf_neighbors): %s\" % (type(rodriguez_tfidf_neighbors))\n",
    "print rodriguez_tfidf_neighbors[:5]"
   ]
  },
  {
   "cell_type": "code",
   "execution_count": 32,
   "metadata": {
    "collapsed": false
   },
   "outputs": [
    {
     "data": {
      "text/html": [
       "<div style=\"max-height:1000px;max-width:1500px;overflow:auto;\"><table frame=\"box\" rules=\"cols\">\n",
       "    <tr>\n",
       "        <th style=\"padding-left: 1em; padding-right: 1em; text-align: center\">query_label</th>\n",
       "        <th style=\"padding-left: 1em; padding-right: 1em; text-align: center\">reference_label</th>\n",
       "        <th style=\"padding-left: 1em; padding-right: 1em; text-align: center\">distance</th>\n",
       "        <th style=\"padding-left: 1em; padding-right: 1em; text-align: center\">rank</th>\n",
       "    </tr>\n",
       "    <tr>\n",
       "        <td style=\"padding-left: 1em; padding-right: 1em; text-align: center; vertical-align: top\">Alex Rodriguez</td>\n",
       "        <td style=\"padding-left: 1em; padding-right: 1em; text-align: center; vertical-align: top\">Mariano Rivera</td>\n",
       "        <td style=\"padding-left: 1em; padding-right: 1em; text-align: center; vertical-align: top\">0.835848608513</td>\n",
       "        <td style=\"padding-left: 1em; padding-right: 1em; text-align: center; vertical-align: top\">53</td>\n",
       "    </tr>\n",
       "</table>\n",
       "[? rows x 4 columns]<br/>Note: Only the head of the SFrame is printed. This SFrame is lazily evaluated.<br/>You can use sf.materialize() to force materialization.\n",
       "</div>"
      ],
      "text/plain": [
       "Columns:\n",
       "\tquery_label\tstr\n",
       "\treference_label\tstr\n",
       "\tdistance\tfloat\n",
       "\trank\tint\n",
       "\n",
       "Rows: Unknown\n",
       "\n",
       "Data:\n",
       "+----------------+-----------------+----------------+------+\n",
       "|  query_label   | reference_label |    distance    | rank |\n",
       "+----------------+-----------------+----------------+------+\n",
       "| Alex Rodriguez |  Mariano Rivera | 0.835848608513 |  53  |\n",
       "+----------------+-----------------+----------------+------+\n",
       "[? rows x 4 columns]\n",
       "Note: Only the head of the SFrame is printed. This SFrame is lazily evaluated.\n",
       "You can use sf.materialize() to force materialization."
      ]
     },
     "execution_count": 32,
     "metadata": {},
     "output_type": "execute_result"
    }
   ],
   "source": [
    "rodriguez_tfidf_neighbors[rodriguez_tfidf_neighbors['reference_label'] == \"Mariano Rivera\"]"
   ]
  },
  {
   "cell_type": "markdown",
   "metadata": {},
   "source": [
    "Quiz Question: Using the LDA representation, compute the 5000 nearest neighbors for American baseball player Alex Rodriguez. For what value of k is Mariano Rivera the k-th nearest neighbor to Alex Rodriguez? (Hint: Once you have a list of the nearest neighbors, you can use mylist.index(value) to find the index of the first instance of value in mylist.)"
   ]
  },
  {
   "cell_type": "code",
   "execution_count": 33,
   "metadata": {
    "collapsed": false
   },
   "outputs": [
    {
     "data": {
      "text/html": [
       "<pre>Starting pairwise querying.</pre>"
      ],
      "text/plain": [
       "Starting pairwise querying."
      ]
     },
     "metadata": {},
     "output_type": "display_data"
    },
    {
     "data": {
      "text/html": [
       "<pre>+--------------+---------+-------------+--------------+</pre>"
      ],
      "text/plain": [
       "+--------------+---------+-------------+--------------+"
      ]
     },
     "metadata": {},
     "output_type": "display_data"
    },
    {
     "data": {
      "text/html": [
       "<pre>| Query points | # Pairs | % Complete. | Elapsed Time |</pre>"
      ],
      "text/plain": [
       "| Query points | # Pairs | % Complete. | Elapsed Time |"
      ]
     },
     "metadata": {},
     "output_type": "display_data"
    },
    {
     "data": {
      "text/html": [
       "<pre>+--------------+---------+-------------+--------------+</pre>"
      ],
      "text/plain": [
       "+--------------+---------+-------------+--------------+"
      ]
     },
     "metadata": {},
     "output_type": "display_data"
    },
    {
     "data": {
      "text/html": [
       "<pre>| 0            | 1       | 0.00169288  | 1.858ms      |</pre>"
      ],
      "text/plain": [
       "| 0            | 1       | 0.00169288  | 1.858ms      |"
      ]
     },
     "metadata": {},
     "output_type": "display_data"
    },
    {
     "data": {
      "text/html": [
       "<pre>| Done         |         | 100         | 49.148ms     |</pre>"
      ],
      "text/plain": [
       "| Done         |         | 100         | 49.148ms     |"
      ]
     },
     "metadata": {},
     "output_type": "display_data"
    },
    {
     "data": {
      "text/html": [
       "<pre>+--------------+---------+-------------+--------------+</pre>"
      ],
      "text/plain": [
       "+--------------+---------+-------------+--------------+"
      ]
     },
     "metadata": {},
     "output_type": "display_data"
    },
    {
     "name": "stdout",
     "output_type": "stream",
     "text": [
      "type(rodriguez_lda_neighbors): <class 'graphlab.data_structures.sframe.SFrame'>\n",
      "+----------------+---------------------+--------------------+------+\n",
      "|  query_label   |   reference_label   |      distance      | rank |\n",
      "+----------------+---------------------+--------------------+------+\n",
      "| Alex Rodriguez |    Alex Rodriguez   | -2.22044604925e-16 |  1   |\n",
      "| Alex Rodriguez |     Gene Peacosh    |  0.00211009962285  |  2   |\n",
      "| Alex Rodriguez |    Mariano Rivera   |  0.00211054722003  |  3   |\n",
      "| Alex Rodriguez | Masi Marjam%C3%A4ki |  0.00249313344534  |  4   |\n",
      "| Alex Rodriguez |     Bobby Ayala     |  0.00286250309407  |  5   |\n",
      "+----------------+---------------------+--------------------+------+\n",
      "[5 rows x 4 columns]\n",
      "\n",
      "+----------------+-----------------+------------------+------+\n",
      "|  query_label   | reference_label |     distance     | rank |\n",
      "+----------------+-----------------+------------------+------+\n",
      "| Alex Rodriguez |  Mariano Rivera | 0.00211054722003 |  3   |\n",
      "+----------------+-----------------+------------------+------+\n",
      "[? rows x 4 columns]\n",
      "Note: Only the head of the SFrame is printed. This SFrame is lazily evaluated.\n",
      "You can use sf.materialize() to force materialization.\n"
     ]
    }
   ],
   "source": [
    "rodriguez_lda_neighbors = model_lda_rep.query(wiki[wiki['name'] == 'Alex Rodriguez'], \n",
    "                                               label='name', k=5000)\n",
    "print \"type(rodriguez_lda_neighbors): %s\" % (type(rodriguez_lda_neighbors))\n",
    "print rodriguez_lda_neighbors[:5]\n",
    "print rodriguez_lda_neighbors[rodriguez_lda_neighbors['reference_label'] == \"Mariano Rivera\"]"
   ]
  },
  {
   "cell_type": "markdown",
   "metadata": {},
   "source": [
    "# Understanding the role of LDA model hyperparameters\n",
    "\n",
    "Finally, we'll take a look at the effect of the LDA model hyperparameters alpha and gamma on the characteristics of our fitted model. Recall that alpha is a parameter of the prior distribution over topic weights in each document, while gamma is a parameter of the prior distribution over word weights in each topic. \n",
    "\n",
    "In the video lectures, we saw that alpha and gamma can be thought of as smoothing parameters when we compute how much each document \"likes\" a topic (in the case of alpha) or how much each topic \"likes\" a word (in the case of gamma). In both cases, these parameters serve to reduce the differences across topics or words in terms of these calculated preferences; alpha makes the document preferences \"smoother\" over topics, and gamma makes the topic preferences \"smoother\" over words.\n",
    "\n",
    "Our goal in this section will be to understand how changing these parameter values affects the characteristics of the resulting topic model.\n",
    "\n",
    "__Quiz Question:__ What was the value of alpha used to fit our original topic model? "
   ]
  },
  {
   "cell_type": "markdown",
   "metadata": {},
   "source": [
    "__Quiz Question:__ What was the value of gamma used to fit our original topic model? Remember that GraphLab Create uses \"beta\" instead of \"gamma\" to refer to the hyperparameter that influences topic distributions over words."
   ]
  },
  {
   "cell_type": "code",
   "execution_count": 34,
   "metadata": {
    "collapsed": false
   },
   "outputs": [
    {
     "data": {
      "text/plain": [
       "Class                          : TopicModel\n",
       "\n",
       "Schema\n",
       "------\n",
       "Vocabulary Size                : 547462\n",
       "\n",
       "Settings\n",
       "--------\n",
       "Number of Topics               : 10\n",
       "alpha                          : 5.0\n",
       "beta                           : 0.1\n",
       "Iterations                     : 200\n",
       "Training time                  : 363.9111\n",
       "Verbose                        : False\n",
       "\n",
       "Accessible fields             : \n",
       "m['topics']                   : An SFrame containing the topics.\n",
       "m['vocabulary']               : An SArray containing the words in the vocabulary.\n",
       "Useful methods                : \n",
       "m.get_topics()                : Get the most probable words per topic.\n",
       "m.predict(new_docs)           : Make predictions for new documents."
      ]
     },
     "execution_count": 34,
     "metadata": {},
     "output_type": "execute_result"
    }
   ],
   "source": [
    "topic_model"
   ]
  },
  {
   "cell_type": "markdown",
   "metadata": {},
   "source": [
    "We'll start by loading some topic models that have been trained using different settings of alpha and gamma. Specifically, we will start by comparing the following two models to our original topic model:\n",
    " - tpm_low_alpha, a model trained with alpha = 1 and default gamma\n",
    " - tpm_high_alpha, a model trained with alpha = 50 and default gamma"
   ]
  },
  {
   "cell_type": "code",
   "execution_count": 35,
   "metadata": {
    "collapsed": true
   },
   "outputs": [],
   "source": [
    "tpm_low_alpha  = gl.load_model('data/topic_models/lda_low_alpha' )\n",
    "tpm_high_alpha = gl.load_model('data/topic_models/lda_high_alpha')"
   ]
  },
  {
   "cell_type": "markdown",
   "metadata": {},
   "source": [
    "### Changing the hyperparameter alpha\n",
    "\n",
    "Since alpha is responsible for smoothing document preferences over topics, the impact of changing its value should be visible when we plot the distribution of topic weights for the same document under models fit with different alpha values. In the code below, we plot the (sorted) topic weights for the Wikipedia article on Barack Obama under models fit with high, original, and low settings of alpha."
   ]
  },
  {
   "cell_type": "code",
   "execution_count": 36,
   "metadata": {
    "collapsed": false
   },
   "outputs": [
    {
     "name": "stderr",
     "output_type": "stream",
     "text": [
      "/Library/Python/2.7/site-packages/matplotlib/axes.py:4747: UserWarning: No labeled objects found. Use label='...' kwarg on individual plots.\n",
      "  warnings.warn(\"No labeled objects found. \"\n"
     ]
    },
    {
     "data": {
      "image/png": "[encoded data removed]",
      "text/plain": [
       "<matplotlib.figure.Figure at 0x12ffc36d0>"
      ]
     },
     "metadata": {},
     "output_type": "display_data"
    }
   ],
   "source": [
    "a = np.sort(tpm_low_alpha.predict(obama,output_type='probability')[0])[::-1]\n",
    "b = np.sort(topic_model.predict(obama,output_type='probability')[0])[::-1]\n",
    "c = np.sort(tpm_high_alpha.predict(obama,output_type='probability')[0])[::-1]\n",
    "ind = np.arange(len(a))\n",
    "width = 0.3\n",
    "\n",
    "def param_bar_plot(a,b,c,ind,width,ylim,param,xlab,ylab):\n",
    "    fig = plt.figure()\n",
    "    ax = fig.add_subplot(111)\n",
    "\n",
    "    b1 = ax.bar(ind, a, width, color='lightskyblue')\n",
    "    b2 = ax.bar(ind+width, b, width, color='lightcoral')\n",
    "    b3 = ax.bar(ind+(2*width), c, width, color='gold')\n",
    "\n",
    "    ax.set_xticks(ind+width)\n",
    "    ax.set_xticklabels(range(10))\n",
    "    ax.set_ylabel(ylab)\n",
    "    ax.set_xlabel(xlab)\n",
    "    ax.set_ylim(0,ylim)\n",
    "    ax.legend(handles = [b1,b2,b3],labels=['low '+param,'original model','high '+param])\n",
    "\n",
    "    plt.tight_layout()\n",
    "    \n",
    "param_bar_plot(a,b,c,ind,width,ylim=1.0,param='alpha',\n",
    "               xlab='Topics (sorted by weight of top 100 words)',ylab='Topic Probability for Obama Article')"
   ]
  },
  {
   "cell_type": "markdown",
   "metadata": {},
   "source": [
    "Here we can clearly see the smoothing enforced by the alpha parameter - notice that when alpha is low most of the weight in the topic distribution for this article goes to a single topic, but when alpha is high the weight is much more evenly distributed across the topics.\n",
    "\n",
    "__Quiz Question:__ How many topics are assigned a weight greater than 0.3 or less than 0.05 for the article on Paul Krugman in the **low alpha** model?  Use the average results from 100 topic predictions."
   ]
  },
  {
   "cell_type": "code",
   "execution_count": 37,
   "metadata": {
    "collapsed": false
   },
   "outputs": [
    {
     "name": "stdout",
     "output_type": "stream",
     "text": [
      "+---------------------+-------------------------------+\n",
      "| average predictions |             topics            |\n",
      "+---------------------+-------------------------------+\n",
      "|    0.635308641975   |       art and publishing      |\n",
      "|    0.212592592593   |      music, TV, and film      |\n",
      "|   0.0586419753086   |      international music      |\n",
      "|   0.0180864197531   |    international athletics    |\n",
      "|   0.0168518518519   |  Great Britain and Australia  |\n",
      "|   0.0133333333333   | American college and politics |\n",
      "|   0.0121604938272   |      science and research     |\n",
      "|   0.0120987654321   |          team sports          |\n",
      "|   0.0105555555556   |        general politics       |\n",
      "|   0.0103703703704   |            Business           |\n",
      "+---------------------+-------------------------------+\n",
      "[10 rows x 2 columns]\n",
      "\n"
     ]
    }
   ],
   "source": [
    "krugman = gl.SArray([wiki_docs[int(np.where(wiki['name']=='Paul Krugman')[0])]])\n",
    "print average_predictions(tpm_low_alpha, krugman, 100)"
   ]
  },
  {
   "cell_type": "markdown",
   "metadata": {},
   "source": [
    "__Quiz Question:__ How many topics are assigned a weight greater than 0.3 or less than 0.05 for the article on Paul Krugman in the **high alpha** model? Use the average results from 100 topic predictions."
   ]
  },
  {
   "cell_type": "code",
   "execution_count": 38,
   "metadata": {
    "collapsed": false
   },
   "outputs": [
    {
     "name": "stdout",
     "output_type": "stream",
     "text": [
      "+---------------------+-------------------------------+\n",
      "| average predictions |             topics            |\n",
      "+---------------------+-------------------------------+\n",
      "|    0.32123015873    |  Great Britain and Australia  |\n",
      "|    0.182420634921   |    international athletics    |\n",
      "|   0.0940873015873   |       art and publishing      |\n",
      "|   0.0628174603175   |      music, TV, and film      |\n",
      "|   0.0617857142857   |            Business           |\n",
      "|    0.060873015873   |      international music      |\n",
      "|   0.0600793650794   | American college and politics |\n",
      "|   0.0575793650794   |          team sports          |\n",
      "|   0.0515476190476   |        general politics       |\n",
      "|   0.0475793650794   |      science and research     |\n",
      "+---------------------+-------------------------------+\n",
      "[10 rows x 2 columns]\n",
      "\n"
     ]
    }
   ],
   "source": [
    "print average_predictions(tpm_high_alpha, krugman, 100)"
   ]
  },
  {
   "cell_type": "markdown",
   "metadata": {},
   "source": [
    "### Changing the hyperparameter gamma\n",
    "\n",
    "Just as we were able to see the effect of alpha by plotting topic weights for a document, we expect to be able to visualize the impact of changing gamma by plotting word weights for each topic. In this case, however, there are far too many words in our vocabulary to do this effectively. Instead, we'll plot the total weight of the top 100 words and bottom 1000 words for each topic. Below, we plot the (sorted) total weights of the top 100 words and bottom 1000 from each topic in the high, original, and low gamma models."
   ]
  },
  {
   "cell_type": "markdown",
   "metadata": {},
   "source": [
    "Now we will consider the following two models:\n",
    " - tpm_low_gamma, a model trained with gamma = 0.02 and default alpha\n",
    " - tpm_high_gamma, a model trained with gamma = 0.5 and default alpha"
   ]
  },
  {
   "cell_type": "code",
   "execution_count": 39,
   "metadata": {
    "collapsed": true
   },
   "outputs": [],
   "source": [
    "# del tpm_low_alpha\n",
    "# del tpm_high_alpha\n",
    "tpm_low_gamma  = gl.load_model('data/topic_models/lda_low_gamma' )\n",
    "tpm_high_gamma = gl.load_model('data/topic_models/lda_high_gamma')"
   ]
  },
  {
   "cell_type": "code",
   "execution_count": 40,
   "metadata": {
    "collapsed": false
   },
   "outputs": [
    {
     "data": {
      "image/png": "[encoded data removed]",
      "text/plain": [
       "<matplotlib.figure.Figure at 0x126abc1d0>"
      ]
     },
     "metadata": {},
     "output_type": "display_data"
    },
    {
     "data": {
      "image/png": "[encoded data removed]",
      "text/plain": [
       "<matplotlib.figure.Figure at 0x126abcf90>"
      ]
     },
     "metadata": {},
     "output_type": "display_data"
    }
   ],
   "source": [
    "a_top = np.sort([sum(tpm_low_gamma.get_topics(topic_ids=[i], num_words=100)['score']) \\\n",
    "                 for i in range(10)])[::-1]\n",
    "b_top = np.sort([sum(topic_model.get_topics(topic_ids=[i], num_words=100)['score']) \\\n",
    "                 for i in range(10)])[::-1]\n",
    "c_top = np.sort([sum(tpm_high_gamma.get_topics(topic_ids=[i], num_words=100)['score']) \\\n",
    "                 for i in range(10)])[::-1]\n",
    "\n",
    "a_bot = np.sort([sum(tpm_low_gamma.get_topics(topic_ids=[i], \n",
    "                                              num_words=547462)[-1000:]['score']) \\\n",
    "                 for i in range(10)])[::-1]\n",
    "b_bot = np.sort([sum(topic_model.get_topics(topic_ids=[i], \n",
    "                                            num_words=547462)[-1000:]['score']) \\\n",
    "                 for i in range(10)])[::-1]\n",
    "c_bot = np.sort([sum(tpm_high_gamma.get_topics(topic_ids=[i], \n",
    "                                               num_words=547462)[-1000:]['score']) \\\n",
    "                 for i in range(10)])[::-1]\n",
    "\n",
    "ind = np.arange(len(a))\n",
    "width = 0.3\n",
    "    \n",
    "param_bar_plot(a_top, b_top, c_top, ind, width, ylim=0.6, param='gamma',\n",
    "               xlab='Topics (sorted by weight of top 100 words)', \n",
    "               ylab='Total Probability of Top 100 Words')\n",
    "\n",
    "param_bar_plot(a_bot, b_bot, c_bot, ind, width, ylim=0.0002, param='gamma',\n",
    "               xlab='Topics (sorted by weight of bottom 1000 words)',\n",
    "               ylab='Total Probability of Bottom 1000 Words')"
   ]
  },
  {
   "cell_type": "markdown",
   "metadata": {
    "collapsed": true
   },
   "source": [
    "From these two plots we can see that the low gamma model results in higher weight placed on the top words and lower weight placed on the bottom words for each topic, while the high gamma model places relatively less weight on the top words and more weight on the bottom words. Thus increasing gamma results in topics that have a smoother distribution of weight across all the words in the vocabulary."
   ]
  },
  {
   "cell_type": "markdown",
   "metadata": {},
   "source": [
    "__Quiz Question:__ For each topic of the **low gamma model**, compute the number of words required to make a list with total probability 0.5. What is the average number of words required across all topics? (HINT: use the get_topics() function from GraphLab Create with the _cdf_\\__cutoff_ argument)."
   ]
  },
  {
   "cell_type": "code",
   "execution_count": 43,
   "metadata": {
    "collapsed": false
   },
   "outputs": [
    {
     "name": "stdout",
     "output_type": "stream",
     "text": [
      "+-------+---------------+------------------+\n",
      "| topic |      word     |      score       |\n",
      "+-------+---------------+------------------+\n",
      "|   0   |      born     | 0.0199425183958  |\n",
      "|   0   |     years     | 0.0112323096805  |\n",
      "|   0   |      time     | 0.0107843438708  |\n",
      "|   0   |     south     | 0.00903738412603 |\n",
      "|   0   |      2005     | 0.00892833278333 |\n",
      "|   1   |   university  | 0.0401599777691  |\n",
      "|   1   |   published   | 0.0132130397966  |\n",
      "|   1   |    research   |  0.012950704429  |\n",
      "|   1   |      book     | 0.0126138205217  |\n",
      "|   1   | international | 0.0114502971109  |\n",
      "|   2   |     member    | 0.0145316632054  |\n",
      "|   2   |     party     | 0.0117247925045  |\n",
      "|   2   |      law      | 0.0116108878209  |\n",
      "|   2   |    elected    | 0.00896978084664 |\n",
      "|   2   |    minister   | 0.00882439031545 |\n",
      "|   3   |     served    | 0.0202416525373  |\n",
      "|   3   |   president   | 0.0160999443209  |\n",
      "|   3   |   university  | 0.0158916032832  |\n",
      "|   3   |    national   | 0.0147652595487  |\n",
      "|   3   |     state     | 0.0123414347986  |\n",
      "|   4   |     played    |  0.025015211692  |\n",
      "|   4   |     league    | 0.0168470847391  |\n",
      "|   4   |     games     | 0.0123886528237  |\n",
      "|   4   |     career    | 0.0117613064901  |\n",
      "|   4   |      club     | 0.0116603095572  |\n",
      "|   5   |     school    | 0.0294351328273  |\n",
      "|   5   |    american   | 0.0199768047342  |\n",
      "|   5   |      born     | 0.0186506096502  |\n",
      "|   5   |      york     | 0.0153025105857  |\n",
      "|   5   |     years     | 0.0143842162536  |\n",
      "|   6   |     music     | 0.0254097782004  |\n",
      "|   6   |     album     | 0.0119027928242  |\n",
      "|   6   |    released   | 0.0111784756326  |\n",
      "|   6   |      show     | 0.0109072817545  |\n",
      "|   6   |     radio     | 0.00986926380737 |\n",
      "|   7   |      work     | 0.0183052523968  |\n",
      "|   7   |   professor   | 0.0103165739252  |\n",
      "|   7   |    science    | 0.00744715569577 |\n",
      "|   7   |     media     | 0.00680125454125 |\n",
      "|   7   |      news     | 0.00606039557507 |\n",
      "|   8   |      team     | 0.0197725833317  |\n",
      "|   8   |     season    | 0.0197465266019  |\n",
      "|   8   |     world     | 0.0161183516074  |\n",
      "|   8   |      won      |  0.015536118473  |\n",
      "|   8   |      year     |  0.013133508286  |\n",
      "|   9   |      film     | 0.0189187784969  |\n",
      "|   9   |      art      | 0.0115508225782  |\n",
      "|   9   |     series    | 0.0109117992274  |\n",
      "|   9   |   television  |  0.010819199238  |\n",
      "|   9   |      band     | 0.0092641868022  |\n",
      "+-------+---------------+------------------+\n",
      "[50 rows x 3 columns]\n",
      "\n"
     ]
    }
   ],
   "source": [
    "# print tpm_low_gamma.get_topics(cdf_cutoff = 0.5)\n",
    "tpm_low_gamma.get_topics(cdf_cutoff = 0.5).print_rows(num_rows = 50)"
   ]
  },
  {
   "cell_type": "markdown",
   "metadata": {},
   "source": [
    "__Quiz Question:__ For each topic of the **high gamma model**, compute the number of words required to make a list with total probability 0.5. What is the average number of words required across all topics? (HINT: use the get_topics() function from GraphLab Create with the _cdf_\\__cutoff_ argument)."
   ]
  },
  {
   "cell_type": "code",
   "execution_count": 44,
   "metadata": {
    "collapsed": false
   },
   "outputs": [
    {
     "name": "stdout",
     "output_type": "stream",
     "text": [
      "+-------+---------------+------------------+\n",
      "| topic |      word     |      score       |\n",
      "+-------+---------------+------------------+\n",
      "|   0   |     league    | 0.0153348831959  |\n",
      "|   0   |     season    | 0.0144899511253  |\n",
      "|   0   |     played    | 0.0141521274466  |\n",
      "|   0   |      team     | 0.0104718628672  |\n",
      "|   0   |    football   | 0.00916904174868 |\n",
      "|   1   |    british    | 0.0105919050608  |\n",
      "|   1   |      born     | 0.00936727734765 |\n",
      "|   1   |     london    | 0.00912235180502 |\n",
      "|   1   |   australian  | 0.00829510328857 |\n",
      "|   1   |   australia   | 0.0062957111038  |\n",
      "|   2   |      book     | 0.00858558575239 |\n",
      "|   2   |   published   | 0.00686673444927 |\n",
      "|   2   |      work     | 0.00621824879442 |\n",
      "|   2   |      york     | 0.00527175119257 |\n",
      "|   2   |    magazine   | 0.00502984418424 |\n",
      "|   3   |      film     | 0.0116378627138  |\n",
      "|   3   |     music     | 0.0101137843071  |\n",
      "|   3   |     album     | 0.00862172694162 |\n",
      "|   3   |      band     | 0.00683532231215 |\n",
      "|   3   |    released   | 0.0067466486594  |\n",
      "|   4   |     world     | 0.0154874389277  |\n",
      "|   4   |      won      | 0.0140152289868  |\n",
      "|   4   |      team     | 0.00855267786133 |\n",
      "|   4   | championships | 0.00666349706697 |\n",
      "|   4   |  championship | 0.00656566033039 |\n",
      "|   5   |   university  | 0.0116244015614  |\n",
      "|   5   |     served    | 0.0114604149895  |\n",
      "|   5   |     school    | 0.00835440448471 |\n",
      "|   5   |     state     | 0.00808109353143 |\n",
      "|   5   |   president   | 0.00760935133808 |\n",
      "|   6   |     party     | 0.0100334678704  |\n",
      "|   6   |    minister   | 0.00791400772147 |\n",
      "|   6   |     member    | 0.00696473540555 |\n",
      "|   6   |    election   | 0.00673219275598 |\n",
      "|   6   |   government  | 0.00587012393365 |\n",
      "|   7   |   university  | 0.0283836429228  |\n",
      "|   7   |    research   | 0.0115706884325  |\n",
      "|   7   |   professor   | 0.0102141522889  |\n",
      "|   7   |    science    | 0.00662257741535 |\n",
      "|   7   |   institute   | 0.00651381845791 |\n",
      "|   8   |       de      |  0.012279691744  |\n",
      "|   8   |      born     | 0.00687389859734 |\n",
      "|   8   |     india     | 0.00627859579528 |\n",
      "|   8   |     indian    | 0.00554093797533 |\n",
      "|   8   |    chinese    | 0.00498076173613 |\n",
      "|   9   |     music     | 0.0154313786072  |\n",
      "|   9   |      art      | 0.0121651994455  |\n",
      "|   9   |   orchestra   | 0.00632045778765 |\n",
      "|   9   |      arts     | 0.00565232359422 |\n",
      "|   9   |     works     | 0.00561908878871 |\n",
      "+-------+---------------+------------------+\n",
      "[50 rows x 3 columns]\n",
      "\n"
     ]
    }
   ],
   "source": [
    "tpm_high_gamma.get_topics(cdf_cutoff = 0.5).print_rows(num_rows = 50)"
   ]
  },
  {
   "cell_type": "markdown",
   "metadata": {},
   "source": [
    "We have now seen how the hyperparameters alpha and gamma influence the characteristics of our LDA topic model, but we haven't said anything about what settings of alpha or gamma are best. We know that these parameters are responsible for controlling the smoothness of the topic distributions for documents and word distributions for topics, but there's no simple conversion between smoothness of these distributions and quality of the topic model. In reality, there is no universally \"best\" choice for these parameters. Instead, finding a good topic model requires that we be able to both explore the output (as we did by looking at the topics and checking some topic predictions for documents) and understand the impact of hyperparameter settings (as we have in this section)."
   ]
  }
 ],
 "metadata": {
  "kernelspec": {
   "display_name": "Python 2",
   "language": "python",
   "name": "python2"
  },
  "language_info": {
   "codemirror_mode": {
    "name": "ipython",
    "version": 2
   },
   "file_extension": ".py",
   "mimetype": "text/x-python",
   "name": "python",
   "nbconvert_exporter": "python",
   "pygments_lexer": "ipython2",
   "version": "2.7.11"
  }
 },
 "nbformat": 4,
 "nbformat_minor": 0
}
