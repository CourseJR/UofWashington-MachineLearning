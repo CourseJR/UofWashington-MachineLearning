{
 "cells": [
  {
   "cell_type": "markdown",
   "metadata": {},
   "source": [
    "# Regression Week 5: LASSO (coordinate descent)"
   ]
  },
  {
   "cell_type": "markdown",
   "metadata": {},
   "source": [
    "In this notebook, you will implement your very own LASSO solver via coordinate descent. You will:\n",
    "* Write a function to normalize features\n",
    "* Implement coordinate descent for LASSO\n",
    "* Explore effects of L1 penalty"
   ]
  },
  {
   "cell_type": "markdown",
   "metadata": {},
   "source": [
    "# Fire up graphlab create"
   ]
  },
  {
   "cell_type": "markdown",
   "metadata": {},
   "source": [
    "Make sure you have the latest version of graphlab (>= 1.7)"
   ]
  },
  {
   "cell_type": "code",
   "execution_count": 1,
   "metadata": {
    "collapsed": false
   },
   "outputs": [
    {
     "name": "stdout",
     "output_type": "stream",
     "text": [
      "1.8.1\n"
     ]
    }
   ],
   "source": [
    "import pprint\n",
    "import numpy as np\n",
    "import pandas as pd\n",
    "import matplotlib.pyplot as plt\n",
    "%matplotlib inline\n",
    "import graphlab as gl\n",
    "print gl.version\n",
    "gl.canvas.set_target('ipynb')\n",
    "from sklearn import metrics"
   ]
  },
  {
   "cell_type": "markdown",
   "metadata": {},
   "source": [
    "# Load in house sales data\n",
    "\n",
    "Dataset is from house sales in King County, the region where the city of Seattle, WA is located."
   ]
  },
  {
   "cell_type": "code",
   "execution_count": 2,
   "metadata": {
    "collapsed": false
   },
   "outputs": [
    {
     "name": "stderr",
     "output_type": "stream",
     "text": [
      "[INFO] This non-commercial license of GraphLab Create is assigned to bbalaji8@gmail.com and will expire on December 09, 2016. For commercial licensing options, visit https://dato.com/buy/.\n",
      "\n",
      "[INFO] Start server at: ipc:///tmp/graphlab_server-25328 - Server binary: /usr/local/lib/python2.7/site-packages/graphlab/unity_server - Server log: /tmp/graphlab_server_1454590786.log\n",
      "[INFO] GraphLab Server Version: 1.8.1\n"
     ]
    }
   ],
   "source": [
    "sales = gl.SFrame('data/kc_house_data.gl/')\n",
    "# In the dataset, 'floors' was defined with type string, \n",
    "# so we'll convert them to int, before using it below\n",
    "sales['floors'] = sales['floors'].astype(int) "
   ]
  },
  {
   "cell_type": "markdown",
   "metadata": {},
   "source": [
    "If we want to do any \"feature engineering\" like creating new features or adjusting existing ones we should do this directly using the SFrames as seen in the first notebook of Week 2. For this notebook, however, we will work with the existing features."
   ]
  },
  {
   "cell_type": "markdown",
   "metadata": {},
   "source": [
    "# Import useful functions from previous notebook"
   ]
  },
  {
   "cell_type": "markdown",
   "metadata": {},
   "source": [
    "As in Week 2, we convert the SFrame into a 2D Numpy array. Copy and paste `get_num_data()` from the second notebook of Week 2."
   ]
  },
  {
   "cell_type": "code",
   "execution_count": 4,
   "metadata": {
    "collapsed": true
   },
   "outputs": [],
   "source": [
    "def get_numpy_data(data_sframe, features, output):\n",
    "    data_sframe['constant'] = 1 # this is how you add a constant column to an SFrame\n",
    "    # add the column 'constant' to the front of the features list so that we can extract it along with the others:\n",
    "    features = ['constant'] + features # this is how you combine two lists\n",
    "    # select the columns of data_SFrame given by the features list into the SFrame features_sframe (now including constant):\n",
    "    features_sframe = data_sframe[features]\n",
    "    \n",
    "    # the following line will convert the features_SFrame into a numpy matrix:\n",
    "    feature_matrix = features_sframe.to_numpy()\n",
    "    # assign the column of data_sframe associated with the output to the SArray output_sarray\n",
    "    output_sarray = data_sframe[output]\n",
    "    \n",
    "    # the following will convert the SArray into a numpy array by first converting it to a list\n",
    "    output_array = output_sarray.to_numpy()\n",
    "    return(feature_matrix, output_array)"
   ]
  },
  {
   "cell_type": "markdown",
   "metadata": {},
   "source": [
    "Also, copy and paste the `predict_output()` function to compute the predictions for an entire matrix of features given the matrix and the weights:"
   ]
  },
  {
   "cell_type": "code",
   "execution_count": 5,
   "metadata": {
    "collapsed": true
   },
   "outputs": [],
   "source": [
    "def predict_output(feature_matrix, weights):\n",
    "    # assume feature_matrix is a numpy matrix containing the features as columns and weights is a corresponding numpy array\n",
    "    # create the predictions vector by using np.dot()\n",
    "    predictions = np.dot(feature_matrix, weights)\n",
    "\n",
    "    return(predictions)"
   ]
  },
  {
   "cell_type": "markdown",
   "metadata": {},
   "source": [
    "# Normalize features\n",
    "In the house dataset, features vary wildly in their relative magnitude: `sqft_living` is very large overall compared to `bedrooms`, for instance. As a result, weight for `sqft_living` would be much smaller than weight for `bedrooms`. This is problematic because \"small\" weights are dropped first as `l1_penalty` goes up. \n",
    "\n",
    "To give equal considerations for all features, we need to **normalize features** as discussed in the lectures: we divide each feature by its 2-norm so that the transformed feature has norm 1.\n",
    "\n",
    "Let's see how we can do this normalization easily with Numpy: let us first consider a small matrix."
   ]
  },
  {
   "cell_type": "code",
   "execution_count": 6,
   "metadata": {
    "collapsed": false
   },
   "outputs": [
    {
     "name": "stdout",
     "output_type": "stream",
     "text": [
      "[[  3.   5.   8.]\n",
      " [  4.  12.  15.]]\n"
     ]
    }
   ],
   "source": [
    "X = np.array([[3.,5.,8.],[4.,12.,15.]])\n",
    "print X"
   ]
  },
  {
   "cell_type": "markdown",
   "metadata": {},
   "source": [
    "Numpy provides a shorthand for computing 2-norms of each column:"
   ]
  },
  {
   "cell_type": "code",
   "execution_count": 7,
   "metadata": {
    "collapsed": false
   },
   "outputs": [
    {
     "name": "stdout",
     "output_type": "stream",
     "text": [
      "[  5.  13.  17.]\n"
     ]
    }
   ],
   "source": [
    "# gives [norm(X[:,0]), norm(X[:,1]), norm(X[:,2])]\n",
    "norms = np.linalg.norm(X, axis=0) \n",
    "print norms"
   ]
  },
  {
   "cell_type": "markdown",
   "metadata": {},
   "source": [
    "To normalize, apply element-wise division:"
   ]
  },
  {
   "cell_type": "code",
   "execution_count": 8,
   "metadata": {
    "collapsed": false
   },
   "outputs": [
    {
     "name": "stdout",
     "output_type": "stream",
     "text": [
      "[[ 0.6         0.38461538  0.47058824]\n",
      " [ 0.8         0.92307692  0.88235294]]\n"
     ]
    }
   ],
   "source": [
    "print X / norms # gives [X[:,0]/norm(X[:,0]), X[:,1]/norm(X[:,1]), X[:,2]/norm(X[:,2])]"
   ]
  },
  {
   "cell_type": "markdown",
   "metadata": {},
   "source": [
    "Using the shorthand we just covered, write a short function called `normalize_features(feature_matrix)`, which normalizes columns of a given feature matrix. The function should return a pair `(normalized_features, norms)`, where the second item contains the norms of original features. As discussed in the lectures, we will use these norms to normalize the test data in the same way as we normalized the training data. "
   ]
  },
  {
   "cell_type": "code",
   "execution_count": 9,
   "metadata": {
    "collapsed": true
   },
   "outputs": [],
   "source": [
    "def normalize_features(feature_matrix):\n",
    "    norms = np.linalg.norm(feature_matrix, axis=0)\n",
    "    print 'normalize_features: norms:'\n",
    "    print norms\n",
    "    \n",
    "    normalized_features = feature_matrix / norms\n",
    "    return (normalized_features, norms)"
   ]
  },
  {
   "cell_type": "markdown",
   "metadata": {},
   "source": [
    "To test the function, run the following:"
   ]
  },
  {
   "cell_type": "code",
   "execution_count": 10,
   "metadata": {
    "collapsed": false
   },
   "outputs": [
    {
     "name": "stdout",
     "output_type": "stream",
     "text": [
      "normalize_features: norms:\n",
      "[  5.  10.  15.]\n",
      "[[ 0.6  0.6  0.6]\n",
      " [ 0.8  0.8  0.8]]\n",
      "[  5.  10.  15.]\n"
     ]
    }
   ],
   "source": [
    "features, norms = normalize_features(np.array([[3.,6.,9.],[4.,8.,12.]]))\n",
    "print features\n",
    "# should print\n",
    "# [[ 0.6  0.6  0.6]\n",
    "#  [ 0.8  0.8  0.8]]\n",
    "print norms\n",
    "# should print\n",
    "# [5.  10.  15.]"
   ]
  },
  {
   "cell_type": "markdown",
   "metadata": {},
   "source": [
    "# Implementing Coordinate Descent with normalized features"
   ]
  },
  {
   "cell_type": "markdown",
   "metadata": {},
   "source": [
    "We seek to obtain a sparse set of weights by minimizing the LASSO cost function\n",
    "```\n",
    "SUM[ (prediction - output)^2 ] + lambda*( |w[1]| + ... + |w[k]|).\n",
    "```\n",
    "(By convention, we do not include `w[0]` in the L1 penalty term. We never want to push the intercept to zero.)\n",
    "\n",
    "The absolute value sign makes the cost function non-differentiable, so simple gradient descent is not viable (you would need to implement a method called subgradient descent). Instead, we will use **coordinate descent**: at each iteration, we will fix all weights but weight `i` and find the value of weight `i` that minimizes the objective. That is, we look for\n",
    "```\n",
    "argmin_{w[i]} [ SUM[ (prediction - output)^2 ] + lambda*( |w[1]| + ... + |w[k]|) ]\n",
    "```\n",
    "where all weights other than `w[i]` are held to be constant. We will optimize one `w[i]` at a time, circling through the weights multiple times.  \n",
    "  1. Pick a coordinate `i`\n",
    "  2. Compute `w[i]` that minimizes the cost function `SUM[ (prediction - output)^2 ] + lambda*( |w[1]| + ... + |w[k]|)`\n",
    "  3. Repeat Steps 1 and 2 for all coordinates, multiple times"
   ]
  },
  {
   "cell_type": "markdown",
   "metadata": {},
   "source": [
    "For this notebook, we use **cyclical coordinate descent with normalized features**, where we cycle through coordinates 0 to (d-1) in order, and assume the features were normalized as discussed above. The formula for optimizing each coordinate is as follows:\n",
    "```\n",
    "       ┌ (ro[i] + lambda/2)     if ro[i] < -lambda/2\n",
    "w[i] = ├ 0                      if -lambda/2 <= ro[i] <= lambda/2\n",
    "       └ (ro[i] - lambda/2)     if ro[i] > lambda/2\n",
    "```\n",
    "where\n",
    "```\n",
    "ro[i] = SUM[ [feature_i]*(output - prediction + w[i]*[feature_i]) ].\n",
    "```\n",
    "\n",
    "Note that we do not regularize the weight of the constant feature (intercept) `w[0]`, so, for this weight, the update is simply:\n",
    "```\n",
    "w[0] = ro[i]\n",
    "```"
   ]
  },
  {
   "cell_type": "markdown",
   "metadata": {},
   "source": [
    "## Effect of L1 penalty"
   ]
  },
  {
   "cell_type": "markdown",
   "metadata": {},
   "source": [
    "Let us consider a simple model with 2 features:"
   ]
  },
  {
   "cell_type": "code",
   "execution_count": 11,
   "metadata": {
    "collapsed": true
   },
   "outputs": [],
   "source": [
    "simple_features = ['sqft_living', 'bedrooms']\n",
    "my_output = 'price'\n",
    "(simple_feature_matrix, output) = \\\n",
    "    get_numpy_data(sales, simple_features, my_output)"
   ]
  },
  {
   "cell_type": "markdown",
   "metadata": {},
   "source": [
    "Don't forget to normalize features:"
   ]
  },
  {
   "cell_type": "code",
   "execution_count": 12,
   "metadata": {
    "collapsed": false
   },
   "outputs": [
    {
     "name": "stdout",
     "output_type": "stream",
     "text": [
      "normalize_features: norms:\n",
      "[  1.47013605e+02   3.34257264e+05   5.14075870e+02]\n"
     ]
    }
   ],
   "source": [
    "simple_feature_matrix, norms = normalize_features(simple_feature_matrix)"
   ]
  },
  {
   "cell_type": "markdown",
   "metadata": {},
   "source": [
    "We assign some random set of initial weights and inspect the values of `ro[i]`:"
   ]
  },
  {
   "cell_type": "code",
   "execution_count": 13,
   "metadata": {
    "collapsed": false
   },
   "outputs": [],
   "source": [
    "weights = np.array([1., 4., 1.])"
   ]
  },
  {
   "cell_type": "markdown",
   "metadata": {},
   "source": [
    "Use `predict_output()` to make predictions on this data."
   ]
  },
  {
   "cell_type": "code",
   "execution_count": 14,
   "metadata": {
    "collapsed": false
   },
   "outputs": [],
   "source": [
    "prediction = predict_output(simple_feature_matrix, weights)"
   ]
  },
  {
   "cell_type": "markdown",
   "metadata": {},
   "source": [
    "Compute the values of `ro[i]` for each feature in this simple model, using the formula given above, using the formula:\n",
    "```\n",
    "ro[i] = SUM[ [feature_i]*(output - prediction + w[i]*[feature_i]) ]\n",
    "```\n",
    "\n",
    "*Hint: You can get a Numpy vector for feature_i using:*\n",
    "```\n",
    "simple_feature_matrix[:,i]\n",
    "```"
   ]
  },
  {
   "cell_type": "code",
   "execution_count": null,
   "metadata": {
    "collapsed": false
   },
   "outputs": [],
   "source": []
  },
  {
   "cell_type": "code",
   "execution_count": 15,
   "metadata": {
    "collapsed": false
   },
   "outputs": [
    {
     "name": "stdout",
     "output_type": "stream",
     "text": [
      "[ 79400300.03492916  87939470.77299108  80966698.67596565]\n"
     ]
    }
   ],
   "source": [
    "ro = np.zeros(len(simple_features) + 1) # +1 for intercept\n",
    "#print simple_feature_matrix\n",
    "for i in xrange(ro.shape[0]):\n",
    "    ro[i] = np.sum(simple_feature_matrix[:,i] * \\\n",
    "                   (output - prediction + \\\n",
    "                    weights[i] * simple_feature_matrix[:,i]))\n",
    "print ro"
   ]
  },
  {
   "cell_type": "markdown",
   "metadata": {},
   "source": [
    "***QUIZ QUESTION***\n",
    "\n",
    "Recall that, whenever `ro[i]` falls between `-l1_penalty/2` and `l1_penalty/2`, the corresponding weight `w[i]` is sent to zero. Now suppose we were to take one step of coordinate descent on either feature 1 or feature 2. What range of values of `l1_penalty` **would not** set `w[1]` zero, but **would** set `w[2]` to zero, if we were to take a step in that coordinate? "
   ]
  },
  {
   "cell_type": "code",
   "execution_count": 21,
   "metadata": {
    "collapsed": false
   },
   "outputs": [
    {
     "name": "stdout",
     "output_type": "stream",
     "text": [
      "[  2.5   5.   10. ]\n"
     ]
    }
   ],
   "source": [
    "#print 5.0 * np.array([0.5, 1.0, 2.0])"
   ]
  },
  {
   "cell_type": "code",
   "execution_count": 40,
   "metadata": {
    "collapsed": true
   },
   "outputs": [],
   "source": [
    "def searchL1P(l1PRange):\n",
    "    for l1P in l1PRange:\n",
    "        print 'l1P: %.4f; l1P / ro[2]:%f' % (l1P, l1P / ro[2])\n",
    "        print (-l1P / 2 <= ro); print (ro + l1P / 2)\n",
    "        print (ro <= +l1P / 2); print (l1P / 2 - ro)\n",
    "        print ' '    "
   ]
  },
  {
   "cell_type": "code",
   "execution_count": 41,
   "metadata": {
    "collapsed": false
   },
   "outputs": [
    {
     "name": "stdout",
     "output_type": "stream",
     "text": [
      "l1P: 26988899.5587; l1P / ro[2]:0.333333\n",
      "[ True  True  True]\n",
      "[  9.28947498e+07   1.01433921e+08   9.44611485e+07]\n",
      "[False False False]\n",
      "[-65905850.25560155 -74445020.99366346 -67472248.89663804]\n",
      " \n",
      "l1P: 40483349.3380; l1P / ro[2]:0.500000\n",
      "[ True  True  True]\n",
      "[  9.96419747e+07   1.08181145e+08   1.01208373e+08]\n",
      "[False False False]\n",
      "[-59158625.36593774 -67697796.10399966 -60725024.00697424]\n",
      " \n",
      "l1P: 80966698.6760; l1P / ro[2]:1.000000\n",
      "[ True  True  True]\n",
      "[  1.19883649e+08   1.28422820e+08   1.21450048e+08]\n",
      "[False False False]\n",
      "[-38916950.69694633 -47456121.43500825 -40483349.33798283]\n",
      " \n",
      "l1P: 161933397.3519; l1P / ro[2]:2.000000\n",
      "[ True  True  True]\n",
      "[  1.60366999e+08   1.68906169e+08   1.61933397e+08]\n",
      "[ True False  True]\n",
      "[ 1566398.6410365  -6972772.09702542        0.        ]\n",
      " \n",
      "l1P: 242900096.0279; l1P / ro[2]:3.000000\n",
      "[ True  True  True]\n",
      "[  2.00850348e+08   2.09389519e+08   2.02416747e+08]\n",
      "[ True  True  True]\n",
      "[ 42049747.97901931  33510577.24095739  40483349.33798282]\n",
      " \n"
     ]
    }
   ],
   "source": [
    "searchL1P(ro[2] * np.array([1.0 / 3, 1.0 / 2, 1.0, 2.0, 3.0]))"
   ]
  },
  {
   "cell_type": "code",
   "execution_count": 42,
   "metadata": {
    "collapsed": false
   },
   "outputs": [
    {
     "name": "stdout",
     "output_type": "stream",
     "text": [
      "l1P: 153836727.4843; l1P / ro[2]:1.900000\n",
      "[ True  True  True]\n",
      "[  1.56318664e+08   1.64857835e+08   1.57885062e+08]\n",
      "[False False False]\n",
      "[ -2481936.29276179 -11021107.03082371  -4048334.93379828]\n",
      " \n",
      "l1P: 161933397.3519; l1P / ro[2]:2.000000\n",
      "[ True  True  True]\n",
      "[  1.60366999e+08   1.68906169e+08   1.61933397e+08]\n",
      "[ True False  True]\n",
      "[ 1566398.6410365  -6972772.09702542        0.        ]\n",
      " \n",
      "l1P: 170030067.2195; l1P / ro[2]:2.100000\n",
      "[ True  True  True]\n",
      "[  1.64415334e+08   1.72954504e+08   1.65981732e+08]\n",
      "[ True False  True]\n",
      "[ 5614733.57483478 -2924437.16322714  4048334.93379828]\n",
      " \n"
     ]
    }
   ],
   "source": [
    "searchL1P(ro[2] * np.array([1.9, 2.0, 2.1]))"
   ]
  },
  {
   "cell_type": "code",
   "execution_count": 54,
   "metadata": {
    "collapsed": false
   },
   "outputs": [
    {
     "name": "stdout",
     "output_type": "stream",
     "text": [
      "l1P: 161123730.3652; l1P / ro[2]:1.990000\n",
      "[ True  True  True]\n",
      "[  1.59962165e+08   1.68501336e+08   1.61528564e+08]\n",
      "[ True False False]\n",
      "[ 1161565.14765666 -7377605.59040526  -404833.49337983]\n",
      " \n",
      "l1P: 161933397.3519; l1P / ro[2]:2.000000\n",
      "[ True  True  True]\n",
      "[  1.60366999e+08   1.68906169e+08   1.61933397e+08]\n",
      "[ True False  True]\n",
      "[ 1566398.6410365  -6972772.09702542        0.        ]\n",
      " \n",
      "l1P: 175697736.1268; l1P / ro[2]:2.170000\n",
      "[ True  True  True]\n",
      "[  1.67249168e+08   1.75788339e+08   1.68815567e+08]\n",
      "[ True False  True]\n",
      "[ 8448568.02849357   -90602.70956835  6882169.38745707]\n",
      " \n",
      "l1P: 176507403.1136; l1P / ro[2]:2.180000\n",
      "[ True  True  True]\n",
      "[  1.67654002e+08   1.76193172e+08   1.69220400e+08]\n",
      "[ True  True  True]\n",
      "[ 8853401.52187341   314230.78381149  7287002.88083692]\n",
      " \n"
     ]
    }
   ],
   "source": [
    "searchL1P(ro[2] * np.array([1.99, 2.0, 2.17, 2.18]))"
   ]
  },
  {
   "cell_type": "markdown",
   "metadata": {},
   "source": [
    "***QUIZ QUESTION***\n",
    "\n",
    "What range of values of `l1_penalty` would set **both** `w[1]` and `w[2]` to zero, if we were to take a step in that coordinate? "
   ]
  },
  {
   "cell_type": "code",
   "execution_count": 55,
   "metadata": {
    "collapsed": false
   },
   "outputs": [
    {
     "name": "stdout",
     "output_type": "stream",
     "text": [
      "l1P: 26988899.5587; l1P / ro[2]:0.333333\n",
      "[ True  True  True]\n",
      "[  9.28947498e+07   1.01433921e+08   9.44611485e+07]\n",
      "[False False False]\n",
      "[-65905850.25560155 -74445020.99366346 -67472248.89663804]\n",
      " \n",
      "l1P: 40483349.3380; l1P / ro[2]:0.500000\n",
      "[ True  True  True]\n",
      "[  9.96419747e+07   1.08181145e+08   1.01208373e+08]\n",
      "[False False False]\n",
      "[-59158625.36593774 -67697796.10399966 -60725024.00697424]\n",
      " \n",
      "l1P: 80966698.6760; l1P / ro[2]:1.000000\n",
      "[ True  True  True]\n",
      "[  1.19883649e+08   1.28422820e+08   1.21450048e+08]\n",
      "[False False False]\n",
      "[-38916950.69694633 -47456121.43500825 -40483349.33798283]\n",
      " \n",
      "l1P: 161933397.3519; l1P / ro[2]:2.000000\n",
      "[ True  True  True]\n",
      "[  1.60366999e+08   1.68906169e+08   1.61933397e+08]\n",
      "[ True False  True]\n",
      "[ 1566398.6410365  -6972772.09702542        0.        ]\n",
      " \n",
      "l1P: 242900096.0279; l1P / ro[2]:3.000000\n",
      "[ True  True  True]\n",
      "[  2.00850348e+08   2.09389519e+08   2.02416747e+08]\n",
      "[ True  True  True]\n",
      "[ 42049747.97901931  33510577.24095739  40483349.33798282]\n",
      " \n"
     ]
    }
   ],
   "source": [
    "searchL1P(ro[2] * np.array([1.0 / 3, 1.0 / 2, 1.0, 2.0, 3.0]))"
   ]
  },
  {
   "cell_type": "code",
   "execution_count": 58,
   "metadata": {
    "collapsed": false
   },
   "outputs": [
    {
     "name": "stdout",
     "output_type": "stream",
     "text": [
      "l1P: 80966698.6760; l1P / ro[2]:1.000000\n",
      "[ True  True  True]\n",
      "[  1.19883649e+08   1.28422820e+08   1.21450048e+08]\n",
      "[False False False]\n",
      "[-38916950.69694633 -47456121.43500825 -40483349.33798283]\n",
      " \n",
      "l1P: 161933397.3519; l1P / ro[2]:2.000000\n",
      "[ True  True  True]\n",
      "[  1.60366999e+08   1.68906169e+08   1.61933397e+08]\n",
      "[ True False  True]\n",
      "[ 1566398.6410365  -6972772.09702542        0.        ]\n",
      " \n",
      "l1P: 242900096.0279; l1P / ro[2]:3.000000\n",
      "[ True  True  True]\n",
      "[  2.00850348e+08   2.09389519e+08   2.02416747e+08]\n",
      "[ True  True  True]\n",
      "[ 42049747.97901931  33510577.24095739  40483349.33798282]\n",
      " \n",
      "l1P: 323866794.7039; l1P / ro[2]:4.000000\n",
      "[ True  True  True]\n",
      "[  2.41333697e+08   2.49872868e+08   2.42900096e+08]\n",
      "[ True  True  True]\n",
      "[ 82533097.31700215  73993926.57894023  80966698.67596565]\n",
      " \n"
     ]
    }
   ],
   "source": [
    "searchL1P(ro[2] * np.array([1.0, 2.0, 3.0, 4.0]))"
   ]
  },
  {
   "cell_type": "code",
   "execution_count": 59,
   "metadata": {
    "collapsed": false
   },
   "outputs": [
    {
     "name": "stdout",
     "output_type": "stream",
     "text": [
      "l1P: 161933397.3519; l1P / ro[2]:2.000000\n",
      "[ True  True  True]\n",
      "[  1.60366999e+08   1.68906169e+08   1.61933397e+08]\n",
      "[ True False  True]\n",
      "[ 1566398.6410365  -6972772.09702542        0.        ]\n",
      " \n",
      "l1P: 202416746.6899; l1P / ro[2]:2.500000\n",
      "[ True  True  True]\n",
      "[  1.80608673e+08   1.89147844e+08   1.82175072e+08]\n",
      "[ True  True  True]\n",
      "[ 21808073.31002791  13268902.57196599  20241674.66899142]\n",
      " \n",
      "l1P: 242900096.0279; l1P / ro[2]:3.000000\n",
      "[ True  True  True]\n",
      "[  2.00850348e+08   2.09389519e+08   2.02416747e+08]\n",
      "[ True  True  True]\n",
      "[ 42049747.97901931  33510577.24095739  40483349.33798282]\n",
      " \n",
      "l1P: 323866794.7039; l1P / ro[2]:4.000000\n",
      "[ True  True  True]\n",
      "[  2.41333697e+08   2.49872868e+08   2.42900096e+08]\n",
      "[ True  True  True]\n",
      "[ 82533097.31700215  73993926.57894023  80966698.67596565]\n",
      " \n",
      "l1P: 404833493.3798; l1P / ro[2]:5.000000\n",
      "[ True  True  True]\n",
      "[  2.81817047e+08   2.90356217e+08   2.83383445e+08]\n",
      "[ True  True  True]\n",
      "[  1.23016447e+08   1.14477276e+08   1.21450048e+08]\n",
      " \n"
     ]
    }
   ],
   "source": [
    "searchL1P(ro[2] * np.array([2.0, 2.5, 3.0, 4.0, 5.0]))"
   ]
  },
  {
   "cell_type": "code",
   "execution_count": 60,
   "metadata": {
    "collapsed": false
   },
   "outputs": [
    {
     "name": "stdout",
     "output_type": "stream",
     "text": [
      "l1P: 161933397.3519; l1P / ro[2]:2.000000\n",
      "[ True  True  True]\n",
      "[  1.60366999e+08   1.68906169e+08   1.61933397e+08]\n",
      "[ True False  True]\n",
      "[ 1566398.6410365  -6972772.09702542        0.        ]\n",
      " \n",
      "l1P: 178126737.0871; l1P / ro[2]:2.200000\n",
      "[ True  True  True]\n",
      "[  1.68463669e+08   1.77002839e+08   1.70030067e+08]\n",
      "[ True  True  True]\n",
      "[ 9663068.50863306  1123897.77057114  8096669.86759657]\n",
      " \n",
      "l1P: 202416746.6899; l1P / ro[2]:2.500000\n",
      "[ True  True  True]\n",
      "[  1.80608673e+08   1.89147844e+08   1.82175072e+08]\n",
      "[ True  True  True]\n",
      "[ 21808073.31002791  13268902.57196599  20241674.66899142]\n",
      " \n",
      "l1P: 242900096.0279; l1P / ro[2]:3.000000\n",
      "[ True  True  True]\n",
      "[  2.00850348e+08   2.09389519e+08   2.02416747e+08]\n",
      "[ True  True  True]\n",
      "[ 42049747.97901931  33510577.24095739  40483349.33798282]\n",
      " \n",
      "l1P: 404833493.3798; l1P / ro[2]:5.000000\n",
      "[ True  True  True]\n",
      "[  2.81817047e+08   2.90356217e+08   2.83383445e+08]\n",
      "[ True  True  True]\n",
      "[  1.23016447e+08   1.14477276e+08   1.21450048e+08]\n",
      " \n",
      "l1P: 728700288.0837; l1P / ro[2]:9.000000\n",
      "[ True  True  True]\n",
      "[  4.43750444e+08   4.52289615e+08   4.45316843e+08]\n",
      "[ True  True  True]\n",
      "[  2.84949844e+08   2.76410673e+08   2.83383445e+08]\n",
      " \n"
     ]
    }
   ],
   "source": [
    "searchL1P(ro[2] * np.array([2.0, 2.2, 2.5, 3.0, 5.0, 9.0]))"
   ]
  },
  {
   "cell_type": "code",
   "execution_count": 62,
   "metadata": {
    "collapsed": false
   },
   "outputs": [
    {
     "name": "stdout",
     "output_type": "stream",
     "text": [
      "l1P: 161933397.3519; l1P / ro[2]:2.000000\n",
      "[ True  True  True]\n",
      "[  1.60366999e+08   1.68906169e+08   1.61933397e+08]\n",
      "[ True False  True]\n",
      "[ 1566398.6410365  -6972772.09702542        0.        ]\n",
      " \n",
      "l1P: 170030067.2195; l1P / ro[2]:2.100000\n",
      "[ True  True  True]\n",
      "[  1.64415334e+08   1.72954504e+08   1.65981732e+08]\n",
      "[ True False  True]\n",
      "[ 5614733.57483478 -2924437.16322714  4048334.93379828]\n",
      " \n",
      "l1P: 178126737.0871; l1P / ro[2]:2.200000\n",
      "[ True  True  True]\n",
      "[  1.68463669e+08   1.77002839e+08   1.70030067e+08]\n",
      "[ True  True  True]\n",
      "[ 9663068.50863306  1123897.77057114  8096669.86759657]\n",
      " \n",
      "l1P: 242900096.0279; l1P / ro[2]:3.000000\n",
      "[ True  True  True]\n",
      "[  2.00850348e+08   2.09389519e+08   2.02416747e+08]\n",
      "[ True  True  True]\n",
      "[ 42049747.97901931  33510577.24095739  40483349.33798282]\n",
      " \n",
      "l1P: 728700288.0837; l1P / ro[2]:9.000000\n",
      "[ True  True  True]\n",
      "[  4.43750444e+08   4.52289615e+08   4.45316843e+08]\n",
      "[ True  True  True]\n",
      "[  2.84949844e+08   2.76410673e+08   2.83383445e+08]\n",
      " \n",
      "l1P: 1133533781.4635; l1P / ro[2]:14.000000\n",
      "[ True  True  True]\n",
      "[  6.46167191e+08   6.54706362e+08   6.47733589e+08]\n",
      "[ True  True  True]\n",
      "[  4.87366591e+08   4.78827420e+08   4.85800192e+08]\n",
      " \n"
     ]
    }
   ],
   "source": [
    "searchL1P(ro[2] * np.array([2.0, 2.1, 2.2, 3.0, 9.0, 14.0]))"
   ]
  },
  {
   "cell_type": "code",
   "execution_count": 63,
   "metadata": {
    "collapsed": false
   },
   "outputs": [
    {
     "name": "stdout",
     "output_type": "stream",
     "text": [
      "l1P: 170030067.2195; l1P / ro[2]:2.100000\n",
      "[ True  True  True]\n",
      "[  1.64415334e+08   1.72954504e+08   1.65981732e+08]\n",
      "[ True False  True]\n",
      "[ 5614733.57483478 -2924437.16322714  4048334.93379828]\n",
      " \n",
      "l1P: 174078402.1533; l1P / ro[2]:2.150000\n",
      "[ True  True  True]\n",
      "[  1.66439501e+08   1.74978672e+08   1.68005900e+08]\n",
      "[ True False  True]\n",
      "[ 7638901.04173392  -900269.696328    6072502.40069743]\n",
      " \n",
      "l1P: 178126737.0871; l1P / ro[2]:2.200000\n",
      "[ True  True  True]\n",
      "[  1.68463669e+08   1.77002839e+08   1.70030067e+08]\n",
      "[ True  True  True]\n",
      "[ 9663068.50863306  1123897.77057114  8096669.86759657]\n",
      " \n",
      "l1P: 242900096.0279; l1P / ro[2]:3.000000\n",
      "[ True  True  True]\n",
      "[  2.00850348e+08   2.09389519e+08   2.02416747e+08]\n",
      "[ True  True  True]\n",
      "[ 42049747.97901931  33510577.24095739  40483349.33798282]\n",
      " \n",
      "l1P: 1133533781.4635; l1P / ro[2]:14.000000\n",
      "[ True  True  True]\n",
      "[  6.46167191e+08   6.54706362e+08   6.47733589e+08]\n",
      "[ True  True  True]\n",
      "[  4.87366591e+08   4.78827420e+08   4.85800192e+08]\n",
      " \n",
      "l1P: 1862234069.5472; l1P / ro[2]:23.000000\n",
      "[ True  True  True]\n",
      "[  1.01051733e+09   1.01905651e+09   1.01208373e+09]\n",
      "[ True  True  True]\n",
      "[  8.51716735e+08   8.43177564e+08   8.50150336e+08]\n",
      " \n"
     ]
    }
   ],
   "source": [
    "searchL1P(ro[2] * np.array([2.1, 2.15, 2.2, 3.0, 14.0, 23.0]))"
   ]
  },
  {
   "cell_type": "markdown",
   "metadata": {},
   "source": [
    "So we can say that `ro[i]` quantifies the significance of the i-th feature: the larger `ro[i]` is, the more likely it is for the i-th feature to be retained."
   ]
  },
  {
   "cell_type": "markdown",
   "metadata": {},
   "source": [
    "## Single Coordinate Descent Step"
   ]
  },
  {
   "cell_type": "markdown",
   "metadata": {},
   "source": [
    "Using the formula above, implement coordinate descent that minimizes the cost function over a single feature i. Note that the intercept (weight 0) is not regularized. The function should accept feature matrix, output, current weights, l1 penalty, and index of feature to optimize over. The function should return new weight for feature i."
   ]
  },
  {
   "cell_type": "code",
   "execution_count": 64,
   "metadata": {
    "collapsed": true
   },
   "outputs": [],
   "source": [
    "def lasso_coordinate_descent_step(i, feature_matrix, output, weights, \\\n",
    "                                  l1_penalty):\n",
    "    # compute prediction\n",
    "    prediction = predict_output(feature_matrix, weights)\n",
    "    # compute ro[i] = SUM[ [feature_i]*(output - prediction + weight[i]*[feature_i]) ]\n",
    "    ro_i = np.sum(feature_matrix[:,i] * \\\n",
    "                   (output - prediction + \\\n",
    "                    weights[i] * feature_matrix[:,i]))\n",
    "\n",
    "    if i == 0: # intercept -- do not regularize\n",
    "        new_weight_i = ro_i \n",
    "    elif ro_i < -l1_penalty/2.:\n",
    "        new_weight_i = ro_i + l1_penalty / 2.\n",
    "    elif ro_i > l1_penalty/2.:\n",
    "        new_weight_i = ro_i - l1_penalty / 2.\n",
    "    else:\n",
    "        new_weight_i = 0.\n",
    "    \n",
    "    return new_weight_i"
   ]
  },
  {
   "cell_type": "markdown",
   "metadata": {},
   "source": [
    "To test the function, run the following cell:"
   ]
  },
  {
   "cell_type": "code",
   "execution_count": 65,
   "metadata": {
    "collapsed": false
   },
   "outputs": [
    {
     "name": "stdout",
     "output_type": "stream",
     "text": [
      "0.425558846691\n"
     ]
    }
   ],
   "source": [
    "# should print 0.425558846691\n",
    "import math\n",
    "print lasso_coordinate_descent_step(1, np.array([[3./math.sqrt(13),1./math.sqrt(10)],[2./math.sqrt(13),3./math.sqrt(10)]]), \n",
    "                                   np.array([1., 1.]), np.array([1., 4.]), 0.1)"
   ]
  },
  {
   "cell_type": "markdown",
   "metadata": {
    "collapsed": true
   },
   "source": [
    "## Cyclical coordinate descent "
   ]
  },
  {
   "cell_type": "markdown",
   "metadata": {},
   "source": [
    "Now that we have a function that optimizes the cost function over a single coordinate, let us implement cyclical coordinate descent where we optimize coordinates 0, 1, ..., (d-1) in order and repeat.\n",
    "\n",
    "When do we know to stop? Each time we scan all the coordinates (features) once, we measure the change in weight for each coordinate. If no coordinate changes by more than a specified threshold, we stop."
   ]
  },
  {
   "cell_type": "markdown",
   "metadata": {},
   "source": [
    "For each iteration:\n",
    "1. As you loop over features in order and perform coordinate descent, measure how much each coordinate changes.\n",
    "2. After the loop, if the maximum change across all coordinates is falls below the tolerance, stop. Otherwise, go back to step 1.\n",
    "\n",
    "Return weights\n",
    "\n",
    "**IMPORTANT: when computing a new weight for coordinate i, make sure to incorporate the new weights for coordinates 0, 1, ..., i-1. One good way is to update your weights variable in-place. See following pseudocode for illustration.**\n",
    "```\n",
    "for i in range(len(weights)):\n",
    "    old_weights_i = weights[i] # remember old value of weight[i], as it will be overwritten\n",
    "    # the following line uses new values for weight[0], weight[1], ..., weight[i-1]\n",
    "    #     and old values for weight[i], ..., weight[d-1]\n",
    "    weights[i] = lasso_coordinate_descent_step(i, feature_matrix, output, weights, l1_penalty)\n",
    "    \n",
    "    # use old_weights_i to compute change in coordinate\n",
    "    ...\n",
    "```"
   ]
  },
  {
   "cell_type": "code",
   "execution_count": 143,
   "metadata": {
    "collapsed": false
   },
   "outputs": [
    {
     "name": "stdout",
     "output_type": "stream",
     "text": [
      "2\n"
     ]
    }
   ],
   "source": [
    "print 2 % 10"
   ]
  },
  {
   "cell_type": "code",
   "execution_count": 150,
   "metadata": {
    "collapsed": false
   },
   "outputs": [],
   "source": [
    "def lasso_cyclical_coordinate_descent(feature_matrix, output, \\\n",
    "                                      initial_weights, l1_penalty, \\\n",
    "                                      tolerance):\n",
    "    converged = False\n",
    "    old_weights = np.array(initial_weights)\n",
    "    iterNum = 0\n",
    "    iterMax = 100\n",
    "    while not converged:\n",
    "        iterNum += 1;\n",
    "        weights = old_weights\n",
    "        if (iterNum < 10) or (iterNum % 10 == 1):\n",
    "            print \"iteration %d: weights: %s\" % \\\n",
    "                (iterNum, (np.vectorize(\"%.4e\".__mod__)(old_weights)))\n",
    "\n",
    "        if (iterNum > iterMax):\n",
    "            print \"iteration exceeds max iterations:%d\" % (iterMax) \n",
    "            \n",
    "        diff_weights = np.zeros(len(weights))    \n",
    "        for i in range(len(weights)):\n",
    "            old_weights_i = weights[i]\n",
    "            weights[i] = lasso_coordinate_descent_step(i, feature_matrix, \\\n",
    "                                            output, weights, l1_penalty)\n",
    "            diff_weights[i] = weights[i] - old_weights_i\n",
    "                \n",
    "        if np.absolute(diff_weights).max() < tolerance:\n",
    "            converged = True\n",
    "            \n",
    "        old_weigths = weights    \n",
    "                            \n",
    "    if converged:\n",
    "        print \"converged weights: %s\" % \\\n",
    "            (np.vectorize(\"%.4e\".__mod__)(weights))\n",
    "            \n",
    "    return weights"
   ]
  },
  {
   "cell_type": "markdown",
   "metadata": {},
   "source": [
    "Using the following parameters, learn the weights on the sales dataset. "
   ]
  },
  {
   "cell_type": "code",
   "execution_count": 125,
   "metadata": {
    "collapsed": false
   },
   "outputs": [],
   "source": [
    "simple_features = ['sqft_living', 'bedrooms']\n",
    "my_output = 'price'\n",
    "initial_weights = np.zeros(3)\n",
    "l1_penalty = 1e7\n",
    "tolerance = 1.0"
   ]
  },
  {
   "cell_type": "markdown",
   "metadata": {},
   "source": [
    "First create a normalized version of the feature matrix, `normalized_simple_feature_matrix`"
   ]
  },
  {
   "cell_type": "code",
   "execution_count": 126,
   "metadata": {
    "collapsed": false
   },
   "outputs": [
    {
     "name": "stdout",
     "output_type": "stream",
     "text": [
      "normalize_features: norms:\n",
      "[  1.47013605e+02   3.34257264e+05   5.14075870e+02]\n"
     ]
    }
   ],
   "source": [
    "(simple_feature_matrix, output) = get_numpy_data(sales, simple_features, \\\n",
    "                                                 my_output)\n",
    "(normalized_simple_feature_matrix, simple_norms) = \\\n",
    "    normalize_features(simple_feature_matrix) # normalize features"
   ]
  },
  {
   "cell_type": "markdown",
   "metadata": {},
   "source": [
    "Then, run your implementation of LASSO coordinate descent:"
   ]
  },
  {
   "cell_type": "code",
   "execution_count": 127,
   "metadata": {
    "collapsed": false
   },
   "outputs": [
    {
     "name": "stdout",
     "output_type": "stream",
     "text": [
      "initial_weights: ['0.0000e+00' '0.0000e+00' '0.0000e+00']\n"
     ]
    }
   ],
   "source": [
    "#print np.savetxt(weights, \",\".join([\"%.4e\"] * weights.shape[0]) \n",
    "#print 'weights: %s' % (np.vectorize(\"%.4e\".__mod__)(weights))\n",
    "print 'initial_weights: %s' % \\\n",
    "    (np.vectorize(\"%.4e\".__mod__)(initial_weights))"
   ]
  },
  {
   "cell_type": "code",
   "execution_count": 128,
   "metadata": {
    "collapsed": false
   },
   "outputs": [
    {
     "name": "stdout",
     "output_type": "stream",
     "text": [
      "iteration 1: weights: ['0.0000e+00' '0.0000e+00' '0.0000e+00']\n",
      "iteration 2: weights: ['7.9400e+07' '1.0305e+07' '-2.9972e+05']\n",
      "iteration 3: weights: ['7.0262e+07' '1.8948e+07' '0.0000e+00']\n",
      "iteration 4: weights: ['6.2067e+07' '2.6161e+07' '0.0000e+00']\n",
      "iteration 5: weights: ['5.5468e+07' '3.2198e+07' '0.0000e+00']\n",
      "iteration 6: weights: ['4.9946e+07' '3.7249e+07' '0.0000e+00']\n",
      "iteration 7: weights: ['4.5325e+07' '4.1477e+07' '0.0000e+00']\n",
      "iteration 8: weights: ['4.1458e+07' '4.5014e+07' '0.0000e+00']\n",
      "iteration 9: weights: ['3.8222e+07' '4.7975e+07' '0.0000e+00']\n",
      "iteration 10: weights: ['3.5514e+07' '5.0452e+07' '0.0000e+00']\n",
      "iteration 11: weights: ['3.3248e+07' '5.2525e+07' '0.0000e+00']\n",
      "iteration 12: weights: ['3.1351e+07' '5.4260e+07' '0.0000e+00']\n",
      "iteration 13: weights: ['2.9764e+07' '5.5712e+07' '0.0000e+00']\n",
      "iteration 14: weights: ['2.8436e+07' '5.6927e+07' '0.0000e+00']\n",
      "iteration 15: weights: ['2.7325e+07' '5.7943e+07' '0.0000e+00']\n",
      "iteration 16: weights: ['2.6395e+07' '5.8794e+07' '0.0000e+00']\n",
      "iteration 17: weights: ['2.5616e+07' '5.9506e+07' '0.0000e+00']\n",
      "iteration 18: weights: ['2.4965e+07' '6.0102e+07' '0.0000e+00']\n",
      "iteration 19: weights: ['2.4420e+07' '6.0600e+07' '0.0000e+00']\n",
      "iteration 20: weights: ['2.3964e+07' '6.1017e+07' '0.0000e+00']\n",
      "iteration 21: weights: ['2.3582e+07' '6.1367e+07' '0.0000e+00']\n",
      "iteration 22: weights: ['2.3263e+07' '6.1659e+07' '0.0000e+00']\n",
      "iteration 23: weights: ['2.2996e+07' '6.1903e+07' '0.0000e+00']\n",
      "iteration 24: weights: ['2.2772e+07' '6.2108e+07' '0.0000e+00']\n",
      "iteration 25: weights: ['2.2585e+07' '6.2279e+07' '0.0000e+00']\n",
      "iteration 26: weights: ['2.2428e+07' '6.2422e+07' '0.0000e+00']\n",
      "iteration 27: weights: ['2.2297e+07' '6.2542e+07' '0.0000e+00']\n",
      "iteration 28: weights: ['2.2188e+07' '6.2643e+07' '0.0000e+00']\n",
      "iteration 29: weights: ['2.2096e+07' '6.2727e+07' '0.0000e+00']\n",
      "iteration 30: weights: ['2.2019e+07' '6.2797e+07' '0.0000e+00']\n",
      "iteration 31: weights: ['2.1955e+07' '6.2856e+07' '0.0000e+00']\n",
      "iteration 32: weights: ['2.1901e+07' '6.2905e+07' '0.0000e+00']\n",
      "iteration 33: weights: ['2.1856e+07' '6.2946e+07' '0.0000e+00']\n",
      "iteration 34: weights: ['2.1818e+07' '6.2981e+07' '0.0000e+00']\n",
      "iteration 35: weights: ['2.1787e+07' '6.3009e+07' '0.0000e+00']\n",
      "iteration 36: weights: ['2.1760e+07' '6.3033e+07' '0.0000e+00']\n",
      "iteration 37: weights: ['2.1738e+07' '6.3054e+07' '0.0000e+00']\n",
      "iteration 38: weights: ['2.1720e+07' '6.3071e+07' '0.0000e+00']\n",
      "iteration 39: weights: ['2.1704e+07' '6.3085e+07' '0.0000e+00']\n",
      "iteration 40: weights: ['2.1691e+07' '6.3097e+07' '0.0000e+00']\n",
      "iteration 41: weights: ['2.1681e+07' '6.3106e+07' '0.0000e+00']\n",
      "iteration 42: weights: ['2.1671e+07' '6.3115e+07' '0.0000e+00']\n",
      "iteration 43: weights: ['2.1664e+07' '6.3122e+07' '0.0000e+00']\n",
      "iteration 44: weights: ['2.1658e+07' '6.3127e+07' '0.0000e+00']\n",
      "iteration 45: weights: ['2.1652e+07' '6.3132e+07' '0.0000e+00']\n",
      "iteration 46: weights: ['2.1648e+07' '6.3136e+07' '0.0000e+00']\n",
      "iteration 47: weights: ['2.1644e+07' '6.3140e+07' '0.0000e+00']\n",
      "iteration 48: weights: ['2.1641e+07' '6.3143e+07' '0.0000e+00']\n",
      "iteration 49: weights: ['2.1638e+07' '6.3145e+07' '0.0000e+00']\n",
      "iteration 50: weights: ['2.1636e+07' '6.3147e+07' '0.0000e+00']\n",
      "iteration 51: weights: ['2.1634e+07' '6.3149e+07' '0.0000e+00']\n",
      "iteration 52: weights: ['2.1633e+07' '6.3150e+07' '0.0000e+00']\n",
      "iteration 53: weights: ['2.1632e+07' '6.3151e+07' '0.0000e+00']\n",
      "iteration 54: weights: ['2.1630e+07' '6.3152e+07' '0.0000e+00']\n",
      "iteration 55: weights: ['2.1630e+07' '6.3153e+07' '0.0000e+00']\n",
      "iteration 56: weights: ['2.1629e+07' '6.3154e+07' '0.0000e+00']\n",
      "iteration 57: weights: ['2.1628e+07' '6.3154e+07' '0.0000e+00']\n",
      "iteration 58: weights: ['2.1628e+07' '6.3155e+07' '0.0000e+00']\n",
      "iteration 59: weights: ['2.1627e+07' '6.3155e+07' '0.0000e+00']\n",
      "iteration 60: weights: ['2.1627e+07' '6.3156e+07' '0.0000e+00']\n",
      "iteration 61: weights: ['2.1627e+07' '6.3156e+07' '0.0000e+00']\n",
      "iteration 62: weights: ['2.1626e+07' '6.3156e+07' '0.0000e+00']\n",
      "iteration 63: weights: ['2.1626e+07' '6.3156e+07' '0.0000e+00']\n",
      "iteration 64: weights: ['2.1626e+07' '6.3156e+07' '0.0000e+00']\n",
      "iteration 65: weights: ['2.1626e+07' '6.3157e+07' '0.0000e+00']\n",
      "iteration 66: weights: ['2.1626e+07' '6.3157e+07' '0.0000e+00']\n",
      "iteration 67: weights: ['2.1626e+07' '6.3157e+07' '0.0000e+00']\n",
      "iteration 68: weights: ['2.1625e+07' '6.3157e+07' '0.0000e+00']\n",
      "iteration 69: weights: ['2.1625e+07' '6.3157e+07' '0.0000e+00']\n",
      "iteration 70: weights: ['2.1625e+07' '6.3157e+07' '0.0000e+00']\n",
      "iteration 71: weights: ['2.1625e+07' '6.3157e+07' '0.0000e+00']\n",
      "iteration 72: weights: ['2.1625e+07' '6.3157e+07' '0.0000e+00']\n",
      "iteration 73: weights: ['2.1625e+07' '6.3157e+07' '0.0000e+00']\n",
      "iteration 74: weights: ['2.1625e+07' '6.3157e+07' '0.0000e+00']\n",
      "iteration 75: weights: ['2.1625e+07' '6.3157e+07' '0.0000e+00']\n",
      "iteration 76: weights: ['2.1625e+07' '6.3157e+07' '0.0000e+00']\n",
      "iteration 77: weights: ['2.1625e+07' '6.3157e+07' '0.0000e+00']\n",
      "iteration 78: weights: ['2.1625e+07' '6.3157e+07' '0.0000e+00']\n",
      "iteration 79: weights: ['2.1625e+07' '6.3157e+07' '0.0000e+00']\n",
      "iteration 80: weights: ['2.1625e+07' '6.3157e+07' '0.0000e+00']\n",
      "iteration 81: weights: ['2.1625e+07' '6.3157e+07' '0.0000e+00']\n",
      "iteration 82: weights: ['2.1625e+07' '6.3157e+07' '0.0000e+00']\n",
      "iteration 83: weights: ['2.1625e+07' '6.3157e+07' '0.0000e+00']\n",
      "iteration 84: weights: ['2.1625e+07' '6.3157e+07' '0.0000e+00']\n",
      "iteration 85: weights: ['2.1625e+07' '6.3157e+07' '0.0000e+00']\n",
      "iteration 86: weights: ['2.1625e+07' '6.3157e+07' '0.0000e+00']\n",
      "iteration 87: weights: ['2.1625e+07' '6.3157e+07' '0.0000e+00']\n",
      "iteration 88: weights: ['2.1625e+07' '6.3157e+07' '0.0000e+00']\n",
      "iteration 89: weights: ['2.1625e+07' '6.3157e+07' '0.0000e+00']\n",
      "iteration 90: weights: ['2.1625e+07' '6.3157e+07' '0.0000e+00']\n",
      "iteration 91: weights: ['2.1625e+07' '6.3157e+07' '0.0000e+00']\n",
      "iteration 92: weights: ['2.1625e+07' '6.3157e+07' '0.0000e+00']\n",
      "iteration 93: weights: ['2.1625e+07' '6.3157e+07' '0.0000e+00']\n"
     ]
    }
   ],
   "source": [
    "weights = \\\n",
    "    lasso_cyclical_coordinate_descent(normalized_simple_feature_matrix, \\\n",
    "                            output, initial_weights, l1_penalty, tolerance)"
   ]
  },
  {
   "cell_type": "markdown",
   "metadata": {},
   "source": [
    "***QUIZ QUESTIONS***\n",
    "1. What is the RSS of the learned model on the normalized dataset?\n",
    "2. Which features had weight zero at convergence?"
   ]
  },
  {
   "cell_type": "code",
   "execution_count": 130,
   "metadata": {
    "collapsed": false
   },
   "outputs": [
    {
     "name": "stdout",
     "output_type": "stream",
     "text": [
      "[[ 147095.21879915  222958.65851223       0.        ]\n",
      " [ 147095.21879915  485596.40031902       0.        ]\n",
      " [ 147095.21879915  145489.97208002       0.        ]\n",
      " ..., \n",
      " [ 147095.21879915  192726.9760021        0.        ]\n",
      " [ 147095.21879915  302316.82510133       0.        ]\n",
      " [ 147095.21879915  192726.9760021        0.        ]]\n"
     ]
    }
   ],
   "source": []
  },
  {
   "cell_type": "code",
   "execution_count": 131,
   "metadata": {
    "collapsed": false
   },
   "outputs": [
    {
     "name": "stdout",
     "output_type": "stream",
     "text": [
      "normalized dataset RSS: 1.6305e+15\n"
     ]
    }
   ],
   "source": [
    "print 'normalized dataset RSS: %.4e' % \\\n",
    "    ((output - \\\n",
    "      predict_output(normalized_simple_feature_matrix, weights)) ** \n",
    "     2).sum()    "
   ]
  },
  {
   "cell_type": "code",
   "execution_count": 135,
   "metadata": {
    "collapsed": false
   },
   "outputs": [
    {
     "name": "stdout",
     "output_type": "stream",
     "text": [
      "features:['(intercept)', 'sqft_living', 'bedrooms']\n",
      "weights: ['2.1625e+07' '6.3157e+07' '0.0000e+00']\n"
     ]
    }
   ],
   "source": [
    "print 'features:%s' % (['(intercept)'] + simple_features)\n",
    "print 'weights: %s' % (np.vectorize(\"%.4e\".__mod__)(weights))"
   ]
  },
  {
   "cell_type": "markdown",
   "metadata": {},
   "source": [
    "# Evaluating LASSO fit with more features"
   ]
  },
  {
   "cell_type": "markdown",
   "metadata": {},
   "source": [
    "Let us split the sales dataset into training and test sets."
   ]
  },
  {
   "cell_type": "code",
   "execution_count": 136,
   "metadata": {
    "collapsed": true
   },
   "outputs": [],
   "source": [
    "train_data,test_data = sales.random_split(.8,seed=0)"
   ]
  },
  {
   "cell_type": "markdown",
   "metadata": {},
   "source": [
    "Let us consider the following set of features."
   ]
  },
  {
   "cell_type": "code",
   "execution_count": 137,
   "metadata": {
    "collapsed": true
   },
   "outputs": [],
   "source": [
    "all_features = ['bedrooms',\n",
    "                'bathrooms',\n",
    "                'sqft_living',\n",
    "                'sqft_lot',\n",
    "                'floors',\n",
    "                'waterfront', \n",
    "                'view', \n",
    "                'condition', \n",
    "                'grade',\n",
    "                'sqft_above',\n",
    "                'sqft_basement',\n",
    "                'yr_built', \n",
    "                'yr_renovated']"
   ]
  },
  {
   "cell_type": "markdown",
   "metadata": {},
   "source": [
    "First, create a normalized feature matrix from the TRAINING data with these features.  (Make you store the norms for the normalization, since we'll use them later)"
   ]
  },
  {
   "cell_type": "code",
   "execution_count": 139,
   "metadata": {
    "collapsed": false
   },
   "outputs": [
    {
     "name": "stdout",
     "output_type": "stream",
     "text": [
      "normalize_features: norms:\n",
      "[  1.31848398e+02   4.60040216e+02   2.96850552e+02   2.99962419e+05\n",
      "   5.81709718e+06   2.04107815e+02   1.15325626e+01   1.05933942e+02\n",
      "   4.57793622e+02   1.02101959e+03   2.59726472e+05   7.01224951e+04\n",
      "   2.59922094e+05   5.36953839e+04]\n"
     ]
    }
   ],
   "source": [
    "all_features_train_matrix, train_output = \\\n",
    "    get_numpy_data(train_data, all_features, my_output)\n",
    "all_features_train_norm_matrix, all_features_norms = \\\n",
    "    normalize_features(all_features_train_matrix)"
   ]
  },
  {
   "cell_type": "markdown",
   "metadata": {},
   "source": [
    "First, learn the weights with `l1_penalty=1e7`, on the training data. Initialize weights to all zeros, and set the `tolerance=1`.  Call resulting weights `weights1e7`, you will need them later."
   ]
  },
  {
   "cell_type": "code",
   "execution_count": 145,
   "metadata": {
    "collapsed": false
   },
   "outputs": [
    {
     "name": "stdout",
     "output_type": "stream",
     "text": [
      "iteration 1: weights: ['0.0000e+00' '0.0000e+00' '0.0000e+00' '0.0000e+00' '0.0000e+00'\n",
      " '0.0000e+00' '0.0000e+00' '0.0000e+00' '0.0000e+00' '0.0000e+00'\n",
      " '0.0000e+00' '0.0000e+00' '0.0000e+00' '0.0000e+00']\n",
      "iteration 11: weights: ['3.1841e+07' '0.0000e+00' '4.9289e+06' '3.6586e+07' '0.0000e+00'\n",
      " '0.0000e+00' '3.2998e+06' '7.9532e+06' '0.0000e+00' '0.0000e+00'\n",
      " '0.0000e+00' '0.0000e+00' '0.0000e+00' '0.0000e+00']\n",
      "iteration 21: weights: ['2.5625e+07' '0.0000e+00' '0.0000e+00' '4.7263e+07' '0.0000e+00'\n",
      " '0.0000e+00' '3.3159e+06' '7.4037e+06' '0.0000e+00' '0.0000e+00'\n",
      " '0.0000e+00' '0.0000e+00' '0.0000e+00' '0.0000e+00']\n",
      "iteration 31: weights: ['2.4646e+07' '0.0000e+00' '0.0000e+00' '4.8185e+07' '0.0000e+00'\n",
      " '0.0000e+00' '3.3172e+06' '7.3433e+06' '0.0000e+00' '0.0000e+00'\n",
      " '0.0000e+00' '0.0000e+00' '0.0000e+00' '0.0000e+00']\n",
      "iteration 41: weights: ['2.4469e+07' '0.0000e+00' '0.0000e+00' '4.8352e+07' '0.0000e+00'\n",
      " '0.0000e+00' '3.3175e+06' '7.3324e+06' '0.0000e+00' '0.0000e+00'\n",
      " '0.0000e+00' '0.0000e+00' '0.0000e+00' '0.0000e+00']\n",
      "iteration 51: weights: ['2.4437e+07' '0.0000e+00' '0.0000e+00' '4.8382e+07' '0.0000e+00'\n",
      " '0.0000e+00' '3.3175e+06' '7.3304e+06' '0.0000e+00' '0.0000e+00'\n",
      " '0.0000e+00' '0.0000e+00' '0.0000e+00' '0.0000e+00']\n",
      "iteration 61: weights: ['2.4431e+07' '0.0000e+00' '0.0000e+00' '4.8388e+07' '0.0000e+00'\n",
      " '0.0000e+00' '3.3175e+06' '7.3300e+06' '0.0000e+00' '0.0000e+00'\n",
      " '0.0000e+00' '0.0000e+00' '0.0000e+00' '0.0000e+00']\n",
      "iteration 71: weights: ['2.4430e+07' '0.0000e+00' '0.0000e+00' '4.8389e+07' '0.0000e+00'\n",
      " '0.0000e+00' '3.3175e+06' '7.3300e+06' '0.0000e+00' '0.0000e+00'\n",
      " '0.0000e+00' '0.0000e+00' '0.0000e+00' '0.0000e+00']\n",
      "iteration 81: weights: ['2.4430e+07' '0.0000e+00' '0.0000e+00' '4.8389e+07' '0.0000e+00'\n",
      " '0.0000e+00' '3.3175e+06' '7.3300e+06' '0.0000e+00' '0.0000e+00'\n",
      " '0.0000e+00' '0.0000e+00' '0.0000e+00' '0.0000e+00']\n",
      "iteration 91: weights: ['2.4430e+07' '0.0000e+00' '0.0000e+00' '4.8389e+07' '0.0000e+00'\n",
      " '0.0000e+00' '3.3175e+06' '7.3300e+06' '0.0000e+00' '0.0000e+00'\n",
      " '0.0000e+00' '0.0000e+00' '0.0000e+00' '0.0000e+00']\n",
      "converged weights: ['2.4430e+07' '0.0000e+00' '0.0000e+00' '4.8389e+07' '0.0000e+00'\n",
      " '0.0000e+00' '3.3175e+06' '7.3300e+06' '0.0000e+00' '0.0000e+00'\n",
      " '0.0000e+00' '0.0000e+00' '0.0000e+00' '0.0000e+00']\n"
     ]
    }
   ],
   "source": [
    "initial_weights = np.zeros(len(all_features) + 1)\n",
    "l1_penalty = 1e7\n",
    "tolerance = 1.0\n",
    "weights1e7 = \\\n",
    "    lasso_cyclical_coordinate_descent(all_features_train_norm_matrix, \\\n",
    "                    train_output, initial_weights, l1_penalty, tolerance)"
   ]
  },
  {
   "cell_type": "markdown",
   "metadata": {},
   "source": [
    "***QUIZ QUESTION***\n",
    "\n",
    "What features had non-zero weight in this case?"
   ]
  },
  {
   "cell_type": "code",
   "execution_count": 148,
   "metadata": {
    "collapsed": false
   },
   "outputs": [
    {
     "name": "stdout",
     "output_type": "stream",
     "text": [
      "features:['(intercept)', 'bedrooms', 'bathrooms', 'sqft_living', 'sqft_lot', 'floors', 'waterfront', 'view', 'condition', 'grade', 'sqft_above', 'sqft_basement', 'yr_built', 'yr_renovated']\n",
      "weights: ['2.4430e+07' '0.0000e+00' '0.0000e+00' '4.8389e+07' '0.0000e+00'\n",
      " '0.0000e+00' '3.3175e+06' '7.3300e+06' '0.0000e+00' '0.0000e+00'\n",
      " '0.0000e+00' '0.0000e+00' '0.0000e+00' '0.0000e+00']\n",
      "          feature           weight\n",
      "0     (intercept)  24429600.609333\n",
      "1        bedrooms         0.000000\n",
      "2       bathrooms         0.000000\n",
      "3     sqft_living  48389174.352280\n",
      "4        sqft_lot         0.000000\n",
      "5          floors         0.000000\n",
      "6      waterfront   3317511.162720\n",
      "7            view   7329961.984896\n",
      "8       condition         0.000000\n",
      "9           grade         0.000000\n",
      "10     sqft_above         0.000000\n",
      "11  sqft_basement         0.000000\n",
      "12       yr_built         0.000000\n",
      "13   yr_renovated         0.000000\n"
     ]
    }
   ],
   "source": [
    "#print 'features:%s' % (['(intercept)'] + all_features)\n",
    "#print 'weights: %s' % (np.vectorize(\"%.4e\".__mod__)(weights1e7))\n",
    "weights1e7Coeffs = \\\n",
    "    pd.DataFrame({'feature': ['(intercept)'] + all_features, \n",
    "                  'weight':  weights1e7})\n",
    "print weights1e7Coeffs    "
   ]
  },
  {
   "cell_type": "markdown",
   "metadata": {
    "collapsed": true
   },
   "source": [
    "Next, learn the weights with `l1_penalty=1e8`, on the training data. Initialize weights to all zeros, and set the `tolerance=1`.  Call resulting weights `weights1e8`, you will need them later."
   ]
  },
  {
   "cell_type": "code",
   "execution_count": 151,
   "metadata": {
    "collapsed": false
   },
   "outputs": [
    {
     "name": "stdout",
     "output_type": "stream",
     "text": [
      "iteration 1: weights: ['0.0000e+00' '0.0000e+00' '0.0000e+00' '0.0000e+00' '0.0000e+00'\n",
      " '0.0000e+00' '0.0000e+00' '0.0000e+00' '0.0000e+00' '0.0000e+00'\n",
      " '0.0000e+00' '0.0000e+00' '0.0000e+00' '0.0000e+00']\n",
      "iteration 2: weights: ['7.1115e+07' '0.0000e+00' '0.0000e+00' '0.0000e+00' '0.0000e+00'\n",
      " '0.0000e+00' '0.0000e+00' '0.0000e+00' '0.0000e+00' '0.0000e+00'\n",
      " '0.0000e+00' '0.0000e+00' '0.0000e+00' '0.0000e+00']\n",
      "converged weights: ['7.1115e+07' '0.0000e+00' '0.0000e+00' '0.0000e+00' '0.0000e+00'\n",
      " '0.0000e+00' '0.0000e+00' '0.0000e+00' '0.0000e+00' '0.0000e+00'\n",
      " '0.0000e+00' '0.0000e+00' '0.0000e+00' '0.0000e+00']\n"
     ]
    }
   ],
   "source": [
    "initial_weights = np.zeros(len(all_features) + 1)\n",
    "l1_penalty = 1e8\n",
    "tolerance = 1.0\n",
    "weights1e8 = \\\n",
    "    lasso_cyclical_coordinate_descent(all_features_train_norm_matrix, \\\n",
    "                    train_output, initial_weights, l1_penalty, tolerance)"
   ]
  },
  {
   "cell_type": "markdown",
   "metadata": {},
   "source": [
    "***QUIZ QUESTION***\n",
    "\n",
    "What features had non-zero weight in this case?"
   ]
  },
  {
   "cell_type": "code",
   "execution_count": 152,
   "metadata": {
    "collapsed": false
   },
   "outputs": [
    {
     "name": "stdout",
     "output_type": "stream",
     "text": [
      "          feature           weight\n",
      "0     (intercept)  71114625.752809\n",
      "1        bedrooms         0.000000\n",
      "2       bathrooms         0.000000\n",
      "3     sqft_living         0.000000\n",
      "4        sqft_lot         0.000000\n",
      "5          floors         0.000000\n",
      "6      waterfront         0.000000\n",
      "7            view         0.000000\n",
      "8       condition         0.000000\n",
      "9           grade         0.000000\n",
      "10     sqft_above         0.000000\n",
      "11  sqft_basement         0.000000\n",
      "12       yr_built         0.000000\n",
      "13   yr_renovated         0.000000\n"
     ]
    }
   ],
   "source": [
    "weights1e8Coeffs = \\\n",
    "    pd.DataFrame({'feature': ['(intercept)'] + all_features, \n",
    "                  'weight':  weights1e8})\n",
    "print weights1e8Coeffs  "
   ]
  },
  {
   "cell_type": "markdown",
   "metadata": {},
   "source": [
    "Finally, learn the weights with `l1_penalty=1e4`, on the training data. Initialize weights to all zeros, and set the `tolerance=5e5`.  Call resulting weights `weights1e4`, you will need them later.  (This case will take quite a bit longer to converge than the others above.)"
   ]
  },
  {
   "cell_type": "code",
   "execution_count": 153,
   "metadata": {
    "collapsed": false
   },
   "outputs": [
    {
     "name": "stdout",
     "output_type": "stream",
     "text": [
      "iteration 1: weights: ['0.0000e+00' '0.0000e+00' '0.0000e+00' '0.0000e+00' '0.0000e+00'\n",
      " '0.0000e+00' '0.0000e+00' '0.0000e+00' '0.0000e+00' '0.0000e+00'\n",
      " '0.0000e+00' '0.0000e+00' '0.0000e+00' '0.0000e+00']\n",
      "iteration 2: weights: ['7.1115e+07' '3.9564e+06' '4.9634e+06' '5.3518e+06' '-1.0298e+06'\n",
      " '-8.7702e+06' '1.2531e+07' '1.0819e+07' '-8.8522e+06' '3.6910e+06'\n",
      " '6.5527e+06' '2.9464e+06' '-1.1588e+07' '3.0435e+06']\n",
      "iteration 3: weights: ['7.0458e+07' '6.4254e+06' '8.5479e+06' '8.9149e+06' '-1.4502e+06'\n",
      " '-1.3686e+07' '7.6000e+06' '1.2240e+07' '-1.2644e+07' '6.6084e+06'\n",
      " '1.1850e+07' '3.4267e+06' '-2.0052e+07' '3.1924e+06']\n",
      "iteration 4: weights: ['7.0403e+07' '8.0298e+06' '1.1726e+07' '1.1909e+07' '-1.6470e+06'\n",
      " '-1.7274e+07' '6.6377e+06' '1.1699e+07' '-1.5634e+07' '8.9070e+06'\n",
      " '1.6034e+07' '3.5746e+06' '-2.6870e+07' '3.1068e+06']\n",
      "iteration 5: weights: ['7.0415e+07' '8.9947e+06' '1.4529e+07' '1.4487e+07' '-1.7437e+06'\n",
      " '-1.9900e+07' '6.5636e+06' '1.0978e+07' '-1.8097e+07' '1.0686e+07'\n",
      " '1.9286e+07' '3.6671e+06' '-3.2441e+07' '2.9875e+06']\n",
      "iteration 6: weights: ['7.0451e+07' '9.4564e+06' '1.6989e+07' '1.6737e+07' '-1.8014e+06'\n",
      " '-2.1762e+07' '6.6202e+06' '1.0350e+07' '-2.0100e+07' '1.2031e+07'\n",
      " '2.1767e+07' '3.7481e+06' '-3.7000e+07' '2.8789e+06']\n",
      "iteration 7: weights: ['7.0499e+07' '9.5192e+06' '1.9138e+07' '1.8728e+07' '-1.8395e+06'\n",
      " '-2.3021e+07' '6.6800e+06' '9.8333e+06' '-2.1695e+07' '1.3016e+07'\n",
      " '2.3620e+07' '3.8219e+06' '-4.0733e+07' '2.7875e+06']\n",
      "iteration 8: weights: ['7.0557e+07' '9.2679e+06' '2.1009e+07' '2.0518e+07' '-1.8648e+06'\n",
      " '-2.3810e+07' '6.7268e+06' '9.4131e+06' '-2.2928e+07' '1.3701e+07'\n",
      " '2.4959e+07' '3.8861e+06' '-4.3786e+07' '2.7119e+06']\n",
      "iteration 9: weights: ['7.0622e+07' '8.7719e+06' '2.2630e+07' '2.2151e+07' '-1.8810e+06'\n",
      " '-2.4235e+07' '6.7611e+06' '9.0718e+06' '-2.3845e+07' '1.4142e+07'\n",
      " '2.5882e+07' '3.9379e+06' '-4.6283e+07' '2.6501e+06']\n",
      "iteration 11: weights: ['7.0772e+07' '7.2630e+06' '2.5230e+07' '2.5082e+07' '-1.8960e+06'\n",
      " '-2.4322e+07' '6.8010e+06' '8.5706e+06' '-2.4884e+07' '1.4459e+07'\n",
      " '2.6782e+07' '3.9972e+06' '-5.0002e+07' '2.5596e+06']\n",
      "iteration 21: weights: ['7.1707e+07' '-3.1302e+06' '3.0123e+07' '3.7279e+07' '-1.9042e+06'\n",
      " '-1.9990e+07' '6.7545e+06' '7.7278e+06' '-2.1473e+07' '1.1421e+07'\n",
      " '2.3074e+07' '3.4344e+06' '-5.7113e+07' '2.4497e+06']\n",
      "iteration 31: weights: ['7.2707e+07' '-1.1352e+07' '2.9048e+07' '4.8471e+07' '-1.9675e+06'\n",
      " '-1.6323e+07' '6.6446e+06' '7.5675e+06' '-1.4350e+07' '8.2628e+06'\n",
      " '1.6663e+07' '2.0920e+06' '-6.0072e+07' '2.5114e+06']\n",
      "iteration 41: weights: ['7.3664e+07' '-1.6555e+07' '2.6375e+07' '5.8638e+07' '-2.0442e+06'\n",
      " '-1.4064e+07' '6.5697e+06' '7.4573e+06' '-8.3524e+06' '7.2000e+06'\n",
      " '1.0561e+07' '6.0481e+05' '-6.3332e+07' '2.5842e+06']\n",
      "iteration 51: weights: ['7.4569e+07' '-1.9667e+07' '2.3482e+07' '6.7502e+07' '-2.0994e+06'\n",
      " '-1.2455e+07' '6.5264e+06' '7.3532e+06' '-3.9881e+06' '7.8765e+06'\n",
      " '4.8440e+06' '-8.0507e+05' '-6.7069e+07' '2.6442e+06']\n",
      "iteration 61: weights: ['7.5429e+07' '-2.1436e+07' '2.0837e+07' '7.5138e+07' '-2.1315e+06'\n",
      " '-1.1198e+07' '6.5033e+06' '7.2673e+06' '-8.8686e+05' '9.7252e+06'\n",
      " '-5.4043e+05' '-2.1407e+06' '-7.1114e+07' '2.6925e+06']\n",
      "iteration 71: weights: ['7.6259e+07' '-2.2371e+07' '1.8573e+07' '8.1737e+07' '-2.1450e+06'\n",
      " '-1.0189e+07' '6.4926e+06' '7.1894e+06' '1.3194e+06' '1.2362e+07'\n",
      " '-5.6107e+06' '-3.3719e+06' '-7.5364e+07' '2.7302e+06']\n",
      "iteration 81: weights: ['7.7067e+07' '-2.2785e+07' '1.6709e+07' '8.7513e+07' '-2.1456e+06'\n",
      " '-9.3874e+06' '6.4911e+06' '7.1214e+06' '2.9595e+06' '1.5450e+07'\n",
      " '-1.0435e+07' '-4.5332e+06' '-7.9681e+07' '2.7611e+06']\n",
      "converged weights: ['7.7779e+07' '-2.2884e+07' '1.5348e+07' '9.2167e+07' '-2.1393e+06'\n",
      " '-8.8185e+06' '6.4942e+06' '7.0652e+06' '4.1191e+06' '1.8436e+07'\n",
      " '-1.4567e+07' '-5.5283e+06' '-8.3592e+07' '2.7843e+06']\n"
     ]
    }
   ],
   "source": [
    "initial_weights = np.zeros(len(all_features) + 1)\n",
    "l1_penalty = 1e4\n",
    "tolerance = 5e5\n",
    "weights1e4 = \\\n",
    "    lasso_cyclical_coordinate_descent(all_features_train_norm_matrix, \\\n",
    "                    train_output, initial_weights, l1_penalty, tolerance)"
   ]
  },
  {
   "cell_type": "markdown",
   "metadata": {},
   "source": [
    "***QUIZ QUESTION***\n",
    "\n",
    "What features had non-zero weight in this case?"
   ]
  },
  {
   "cell_type": "code",
   "execution_count": 154,
   "metadata": {
    "collapsed": false
   },
   "outputs": [
    {
     "name": "stdout",
     "output_type": "stream",
     "text": [
      "          feature           weight\n",
      "0     (intercept)  77779073.912652\n",
      "1        bedrooms -22884012.250234\n",
      "2       bathrooms  15348487.080900\n",
      "3     sqft_living  92166869.698831\n",
      "4        sqft_lot  -2139328.082428\n",
      "5          floors  -8818455.544095\n",
      "6      waterfront   6494209.733107\n",
      "7            view   7065162.050532\n",
      "8       condition   4119079.210068\n",
      "9           grade  18436483.526188\n",
      "10     sqft_above -14566678.545143\n",
      "11  sqft_basement  -5528348.751794\n",
      "12       yr_built -83591746.207305\n",
      "13   yr_renovated   2784276.460129\n"
     ]
    }
   ],
   "source": [
    "weights1e4Coeffs = \\\n",
    "    pd.DataFrame({'feature': ['(intercept)'] + all_features, \n",
    "                  'weight':  weights1e4})\n",
    "print weights1e4Coeffs  "
   ]
  },
  {
   "cell_type": "markdown",
   "metadata": {},
   "source": [
    "## Rescaling learned weights"
   ]
  },
  {
   "cell_type": "markdown",
   "metadata": {},
   "source": [
    "Recall that we normalized our feature matrix, before learning the weights.  To use these weights on a test set, we must normalize the test data in the same way.\n",
    "\n",
    "Alternatively, we can rescale the learned weights to include the normalization, so we never have to worry about normalizing the test data: \n",
    "\n",
    "In this case, we must scale the resulting weights so that we can make predictions with *original* features:\n",
    " 1. Store the norms of the original features to a vector called `norms`:\n",
    "```\n",
    "features, norms = normalize_features(features)\n",
    "```\n",
    " 2. Run Lasso on the normalized features and obtain a `weights` vector\n",
    " 3. Compute the weights for the original features by performing element-wise division, i.e.\n",
    "```\n",
    "weights_normalized = weights / norms\n",
    "```\n",
    "Now, we can apply `weights_normalized` to the test data, without normalizing it!"
   ]
  },
  {
   "cell_type": "markdown",
   "metadata": {},
   "source": [
    "Create a normalized version of each of the weights learned above. (`weights1e4`, `weights1e7`, `weights1e8`)."
   ]
  },
  {
   "cell_type": "code",
   "execution_count": 155,
   "metadata": {
    "collapsed": false
   },
   "outputs": [
    {
     "name": "stdout",
     "output_type": "stream",
     "text": [
      "161.317456248\n"
     ]
    }
   ],
   "source": [
    "weights1e4Normalized = weights1e4 / all_features_norms\n",
    "weights1e7Normalized = weights1e7 / all_features_norms\n",
    "print weights1e7Normalized[3]\n",
    "weights1e8Normalized = weights1e8 / all_features_norms"
   ]
  },
  {
   "cell_type": "markdown",
   "metadata": {},
   "source": [
    "To check your results, if you call `normalized_weights1e7` the normalized version of `weights1e7`, then:\n",
    "```\n",
    "print normalized_weights1e7[3]\n",
    "```\n",
    "should return 161.31745624837794."
   ]
  },
  {
   "cell_type": "markdown",
   "metadata": {},
   "source": [
    "## Evaluating each of the learned models on the test data"
   ]
  },
  {
   "cell_type": "markdown",
   "metadata": {},
   "source": [
    "Let's now evaluate the three models on the test data:"
   ]
  },
  {
   "cell_type": "code",
   "execution_count": 156,
   "metadata": {
    "collapsed": true
   },
   "outputs": [],
   "source": [
    "(test_feature_matrix, test_output) = get_numpy_data(test_data, \\\n",
    "                                                    all_features, 'price')"
   ]
  },
  {
   "cell_type": "markdown",
   "metadata": {},
   "source": [
    "Compute the RSS of each of the three normalized weights on the (unnormalized) `test_feature_matrix`:"
   ]
  },
  {
   "cell_type": "code",
   "execution_count": 166,
   "metadata": {
    "collapsed": false
   },
   "outputs": [
    {
     "name": "stdout",
     "output_type": "stream",
     "text": [
      "(4229,)\n",
      "(4229,)\n",
      "2.2778100476e+14\n"
     ]
    }
   ],
   "source": [
    "print predict_output(test_feature_matrix, weights1e4Normalized).shape\n",
    "print test_output.shape\n",
    "print ((test_output - \\\n",
    "        predict_output(test_feature_matrix, weights1e4Normalized)) ** \\\n",
    "       2).sum()"
   ]
  },
  {
   "cell_type": "code",
   "execution_count": 167,
   "metadata": {
    "collapsed": true
   },
   "outputs": [],
   "source": [
    "def getTestRSS(weightsNormalized):\n",
    "    return ((test_output - \\\n",
    "             predict_output(test_feature_matrix, weightsNormalized)) ** \n",
    "            2).sum()  "
   ]
  },
  {
   "cell_type": "code",
   "execution_count": 170,
   "metadata": {
    "collapsed": false
   },
   "outputs": [
    {
     "name": "stdout",
     "output_type": "stream",
     "text": [
      "weights1e4Normalized Test RSS:2.2778e+14\n",
      "weights1e7Normalized Test RSS:2.7596e+14\n",
      "weights1e8Normalized Test RSS:5.3717e+14\n"
     ]
    }
   ],
   "source": [
    "print 'weights1e4Normalized Test RSS:%.4e' % \\\n",
    "    getTestRSS(weights1e4Normalized)\n",
    "print 'weights1e7Normalized Test RSS:%.4e' % \\\n",
    "    getTestRSS(weights1e7Normalized)\n",
    "print 'weights1e8Normalized Test RSS:%.4e' % \\\n",
    "    getTestRSS(weights1e8Normalized)    "
   ]
  },
  {
   "cell_type": "code",
   "execution_count": null,
   "metadata": {
    "collapsed": true
   },
   "outputs": [],
   "source": []
  },
  {
   "cell_type": "markdown",
   "metadata": {},
   "source": [
    "***QUIZ QUESTION***\n",
    "\n",
    "Which model performed best on the test data?"
   ]
  }
 ],
 "metadata": {
  "kernelspec": {
   "display_name": "Python 2",
   "language": "python",
   "name": "python2"
  },
  "language_info": {
   "codemirror_mode": {
    "name": "ipython",
    "version": 2
   },
   "file_extension": ".py",
   "mimetype": "text/x-python",
   "name": "python",
   "nbconvert_exporter": "python",
   "pygments_lexer": "ipython2",
   "version": "2.7.11"
  }
 },
 "nbformat": 4,
 "nbformat_minor": 0
}
